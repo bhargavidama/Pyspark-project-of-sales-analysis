{
 "cells": [
  {
   "cell_type": "code",
   "execution_count": 0,
   "metadata": {
    "application/vnd.databricks.v1+cell": {
     "cellMetadata": {
      "byteLimit": 2048000,
      "rowLimit": 10000
     },
     "inputWidgets": {},
     "nuid": "0e13a16e-5247-49a2-8baf-9323c73c54cd",
     "showTitle": false,
     "tableResultSettingsMap": {},
     "title": ""
    }
   },
   "outputs": [
    {
     "output_type": "display_data",
     "data": {
      "text/html": [
       "<style scoped>\n",
       "  .table-result-container {\n",
       "    max-height: 300px;\n",
       "    overflow: auto;\n",
       "  }\n",
       "  table, th, td {\n",
       "    border: 1px solid black;\n",
       "    border-collapse: collapse;\n",
       "  }\n",
       "  th, td {\n",
       "    padding: 5px;\n",
       "  }\n",
       "  th {\n",
       "    text-align: left;\n",
       "  }\n",
       "</style><div class='table-result-container'><table class='table-result'><thead style='background-color: white'><tr><th>product_id</th><th>customer_id</th><th>order_date</th><th>location</th><th>source_order</th></tr></thead><tbody><tr><td>1</td><td>A</td><td>2023-01-01</td><td>India</td><td>Swiggy</td></tr><tr><td>2</td><td>A</td><td>2022-01-01</td><td>India</td><td>Swiggy</td></tr><tr><td>2</td><td>A</td><td>2023-01-07</td><td>India</td><td>Swiggy</td></tr><tr><td>3</td><td>A</td><td>2023-01-10</td><td>India</td><td>Restaurant</td></tr><tr><td>3</td><td>A</td><td>2022-01-11</td><td>India</td><td>Swiggy</td></tr><tr><td>3</td><td>A</td><td>2023-01-11</td><td>India</td><td>Restaurant</td></tr><tr><td>2</td><td>B</td><td>2022-02-01</td><td>India</td><td>Swiggy</td></tr><tr><td>2</td><td>B</td><td>2023-01-02</td><td>India</td><td>Swiggy</td></tr><tr><td>1</td><td>B</td><td>2023-01-04</td><td>India</td><td>Restaurant</td></tr><tr><td>1</td><td>B</td><td>2023-02-11</td><td>India</td><td>Swiggy</td></tr><tr><td>3</td><td>B</td><td>2023-01-16</td><td>India</td><td>zomato</td></tr><tr><td>3</td><td>B</td><td>2022-02-01</td><td>India</td><td>zomato</td></tr><tr><td>3</td><td>C</td><td>2023-01-01</td><td>India</td><td>zomato</td></tr><tr><td>1</td><td>C</td><td>2023-01-01</td><td>UK</td><td>Swiggy</td></tr><tr><td>6</td><td>C</td><td>2022-01-07</td><td>UK</td><td>zomato</td></tr><tr><td>3</td><td>D</td><td>2023-02-16</td><td>UK</td><td>Restaurant</td></tr><tr><td>5</td><td>D</td><td>2022-02-01</td><td>UK</td><td>zomato</td></tr><tr><td>3</td><td>E</td><td>2023-02-01</td><td>UK</td><td>Restaurant</td></tr><tr><td>4</td><td>E</td><td>2023-02-01</td><td>UK</td><td>Swiggy</td></tr><tr><td>4</td><td>E</td><td>2023-02-07</td><td>UK</td><td>Restaurant</td></tr><tr><td>2</td><td>A</td><td>2022-01-01</td><td>UK</td><td>Swiggy</td></tr><tr><td>2</td><td>A</td><td>2023-01-07</td><td>UK</td><td>Swiggy</td></tr><tr><td>3</td><td>A</td><td>2023-01-10</td><td>UK</td><td>Restaurant</td></tr><tr><td>3</td><td>A</td><td>2022-01-11</td><td>UK</td><td>Swiggy</td></tr><tr><td>3</td><td>A</td><td>2023-01-11</td><td>UK</td><td>zomato</td></tr><tr><td>2</td><td>B</td><td>2022-03-01</td><td>UK</td><td>zomato</td></tr><tr><td>2</td><td>B</td><td>2023-01-02</td><td>UK</td><td>zomato</td></tr><tr><td>1</td><td>B</td><td>2023-01-04</td><td>UK</td><td>Swiggy</td></tr><tr><td>1</td><td>B</td><td>2023-03-11</td><td>UK</td><td>Restaurant</td></tr><tr><td>3</td><td>B</td><td>2023-01-16</td><td>UK</td><td>Swiggy</td></tr><tr><td>3</td><td>B</td><td>2023-03-01</td><td>UK</td><td>Swiggy</td></tr><tr><td>3</td><td>C</td><td>2023-01-01</td><td>UK</td><td>Restaurant</td></tr><tr><td>1</td><td>C</td><td>2023-01-01</td><td>USA</td><td>Swiggy</td></tr><tr><td>6</td><td>C</td><td>2023-01-07</td><td>USA</td><td>zomato</td></tr><tr><td>3</td><td>D</td><td>2022-03-16</td><td>USA</td><td>zomato</td></tr><tr><td>5</td><td>D</td><td>2023-03-01</td><td>USA</td><td>zomato</td></tr><tr><td>3</td><td>E</td><td>2023-03-01</td><td>USA</td><td>Swiggy</td></tr><tr><td>4</td><td>E</td><td>2022-03-01</td><td>USA</td><td>zomato</td></tr><tr><td>4</td><td>E</td><td>2023-03-07</td><td>USA</td><td>zomato</td></tr><tr><td>1</td><td>A</td><td>2023-05-05</td><td>India</td><td>Swiggy</td></tr><tr><td>2</td><td>A</td><td>2022-05-05</td><td>India</td><td>Swiggy</td></tr><tr><td>2</td><td>A</td><td>2023-05-07</td><td>India</td><td>Swiggy</td></tr><tr><td>3</td><td>A</td><td>2023-05-10</td><td>India</td><td>Restaurant</td></tr><tr><td>3</td><td>A</td><td>2022-05-11</td><td>India</td><td>Swiggy</td></tr><tr><td>3</td><td>A</td><td>2023-05-11</td><td>India</td><td>Restaurant</td></tr><tr><td>2</td><td>B</td><td>2022-02-05</td><td>India</td><td>Swiggy</td></tr><tr><td>2</td><td>B</td><td>2023-05-02</td><td>India</td><td>Swiggy</td></tr><tr><td>1</td><td>B</td><td>2023-05-04</td><td>India</td><td>Restaurant</td></tr><tr><td>1</td><td>B</td><td>2023-02-11</td><td>India</td><td>Swiggy</td></tr><tr><td>3</td><td>B</td><td>2023-05-16</td><td>India</td><td>zomato</td></tr><tr><td>3</td><td>B</td><td>2022-02-05</td><td>India</td><td>zomato</td></tr><tr><td>3</td><td>C</td><td>2023-05-05</td><td>India</td><td>zomato</td></tr><tr><td>1</td><td>C</td><td>2023-05-05</td><td>UK</td><td>Swiggy</td></tr><tr><td>6</td><td>C</td><td>2022-05-07</td><td>UK</td><td>zomato</td></tr><tr><td>3</td><td>D</td><td>2023-02-16</td><td>UK</td><td>Restaurant</td></tr><tr><td>5</td><td>D</td><td>2022-02-05</td><td>UK</td><td>zomato</td></tr><tr><td>3</td><td>E</td><td>2023-02-05</td><td>UK</td><td>Restaurant</td></tr><tr><td>4</td><td>E</td><td>2023-02-05</td><td>UK</td><td>Swiggy</td></tr><tr><td>4</td><td>E</td><td>2023-02-07</td><td>UK</td><td>Restaurant</td></tr><tr><td>2</td><td>A</td><td>2022-05-05</td><td>UK</td><td>Swiggy</td></tr><tr><td>2</td><td>A</td><td>2023-05-07</td><td>UK</td><td>Swiggy</td></tr><tr><td>3</td><td>A</td><td>2023-05-10</td><td>UK</td><td>Restaurant</td></tr><tr><td>3</td><td>A</td><td>2022-05-11</td><td>UK</td><td>Swiggy</td></tr><tr><td>3</td><td>A</td><td>2023-05-11</td><td>UK</td><td>zomato</td></tr><tr><td>2</td><td>B</td><td>2022-07-05</td><td>UK</td><td>zomato</td></tr><tr><td>2</td><td>B</td><td>2023-05-02</td><td>UK</td><td>zomato</td></tr><tr><td>1</td><td>B</td><td>2023-05-04</td><td>UK</td><td>Swiggy</td></tr><tr><td>1</td><td>B</td><td>2023-07-11</td><td>UK</td><td>Restaurant</td></tr><tr><td>3</td><td>B</td><td>2023-05-16</td><td>UK</td><td>Swiggy</td></tr><tr><td>3</td><td>B</td><td>2023-07-05</td><td>UK</td><td>Swiggy</td></tr><tr><td>3</td><td>C</td><td>2023-05-05</td><td>UK</td><td>Restaurant</td></tr><tr><td>1</td><td>C</td><td>2023-05-05</td><td>USA</td><td>Swiggy</td></tr><tr><td>6</td><td>C</td><td>2023-05-07</td><td>USA</td><td>zomato</td></tr><tr><td>3</td><td>D</td><td>2022-07-16</td><td>USA</td><td>zomato</td></tr><tr><td>5</td><td>D</td><td>2023-07-05</td><td>USA</td><td>zomato</td></tr><tr><td>3</td><td>E</td><td>2023-07-05</td><td>USA</td><td>Swiggy</td></tr><tr><td>4</td><td>E</td><td>2022-07-05</td><td>USA</td><td>zomato</td></tr><tr><td>4</td><td>E</td><td>2023-07-07</td><td>USA</td><td>zomato</td></tr><tr><td>1</td><td>A</td><td>2023-06-06</td><td>India</td><td>Swiggy</td></tr><tr><td>2</td><td>A</td><td>2022-06-06</td><td>India</td><td>Swiggy</td></tr><tr><td>2</td><td>A</td><td>2023-06-11</td><td>India</td><td>Swiggy</td></tr><tr><td>3</td><td>A</td><td>2023-06-10</td><td>India</td><td>Restaurant</td></tr><tr><td>3</td><td>A</td><td>2022-06-11</td><td>India</td><td>Swiggy</td></tr><tr><td>3</td><td>A</td><td>2023-06-11</td><td>India</td><td>Restaurant</td></tr><tr><td>2</td><td>B</td><td>2022-02-06</td><td>India</td><td>Swiggy</td></tr><tr><td>2</td><td>B</td><td>2023-06-02</td><td>India</td><td>Swiggy</td></tr><tr><td>1</td><td>B</td><td>2023-06-04</td><td>India</td><td>Restaurant</td></tr><tr><td>1</td><td>B</td><td>2023-02-11</td><td>India</td><td>Swiggy</td></tr><tr><td>3</td><td>B</td><td>2023-06-16</td><td>India</td><td>zomato</td></tr><tr><td>3</td><td>B</td><td>2022-02-06</td><td>India</td><td>zomato</td></tr><tr><td>3</td><td>C</td><td>2023-06-06</td><td>India</td><td>zomato</td></tr><tr><td>1</td><td>C</td><td>2023-06-06</td><td>UK</td><td>Swiggy</td></tr><tr><td>6</td><td>C</td><td>2022-06-11</td><td>UK</td><td>zomato</td></tr><tr><td>3</td><td>D</td><td>2023-02-16</td><td>UK</td><td>Restaurant</td></tr><tr><td>5</td><td>D</td><td>2022-02-06</td><td>UK</td><td>zomato</td></tr><tr><td>3</td><td>E</td><td>2023-02-06</td><td>UK</td><td>Restaurant</td></tr><tr><td>4</td><td>E</td><td>2023-02-06</td><td>UK</td><td>Swiggy</td></tr><tr><td>4</td><td>E</td><td>2023-02-11</td><td>UK</td><td>Restaurant</td></tr><tr><td>2</td><td>A</td><td>2022-06-06</td><td>UK</td><td>Swiggy</td></tr><tr><td>2</td><td>A</td><td>2023-06-11</td><td>UK</td><td>Swiggy</td></tr><tr><td>3</td><td>A</td><td>2023-06-10</td><td>UK</td><td>Restaurant</td></tr><tr><td>3</td><td>A</td><td>2022-06-11</td><td>UK</td><td>Swiggy</td></tr><tr><td>3</td><td>A</td><td>2023-06-11</td><td>UK</td><td>zomato</td></tr><tr><td>2</td><td>B</td><td>2022-11-06</td><td>UK</td><td>zomato</td></tr><tr><td>2</td><td>B</td><td>2023-06-02</td><td>UK</td><td>zomato</td></tr><tr><td>1</td><td>B</td><td>2023-06-04</td><td>UK</td><td>Swiggy</td></tr><tr><td>1</td><td>B</td><td>2023-11-11</td><td>UK</td><td>Restaurant</td></tr><tr><td>3</td><td>B</td><td>2023-06-16</td><td>UK</td><td>Swiggy</td></tr><tr><td>3</td><td>B</td><td>2023-11-06</td><td>UK</td><td>Swiggy</td></tr><tr><td>3</td><td>C</td><td>2023-06-06</td><td>UK</td><td>Restaurant</td></tr><tr><td>1</td><td>C</td><td>2023-06-06</td><td>USA</td><td>Swiggy</td></tr><tr><td>6</td><td>C</td><td>2023-06-11</td><td>USA</td><td>zomato</td></tr><tr><td>3</td><td>D</td><td>2022-11-16</td><td>USA</td><td>zomato</td></tr><tr><td>5</td><td>D</td><td>2023-11-06</td><td>USA</td><td>zomato</td></tr><tr><td>3</td><td>E</td><td>2023-11-06</td><td>USA</td><td>Swiggy</td></tr><tr><td>4</td><td>E</td><td>2022-11-06</td><td>USA</td><td>zomato</td></tr><tr><td>4</td><td>E</td><td>2023-11-11</td><td>USA</td><td>zomato</td></tr></tbody></table></div>"
      ]
     },
     "metadata": {
      "application/vnd.databricks.v1+output": {
       "addedWidgets": {},
       "aggData": [],
       "aggError": "",
       "aggOverflow": false,
       "aggSchema": [],
       "aggSeriesLimitReached": false,
       "aggType": "",
       "arguments": {},
       "columnCustomDisplayInfos": {},
       "data": [
        [
         1,
         "A",
         "2023-01-01",
         "India",
         "Swiggy"
        ],
        [
         2,
         "A",
         "2022-01-01",
         "India",
         "Swiggy"
        ],
        [
         2,
         "A",
         "2023-01-07",
         "India",
         "Swiggy"
        ],
        [
         3,
         "A",
         "2023-01-10",
         "India",
         "Restaurant"
        ],
        [
         3,
         "A",
         "2022-01-11",
         "India",
         "Swiggy"
        ],
        [
         3,
         "A",
         "2023-01-11",
         "India",
         "Restaurant"
        ],
        [
         2,
         "B",
         "2022-02-01",
         "India",
         "Swiggy"
        ],
        [
         2,
         "B",
         "2023-01-02",
         "India",
         "Swiggy"
        ],
        [
         1,
         "B",
         "2023-01-04",
         "India",
         "Restaurant"
        ],
        [
         1,
         "B",
         "2023-02-11",
         "India",
         "Swiggy"
        ],
        [
         3,
         "B",
         "2023-01-16",
         "India",
         "zomato"
        ],
        [
         3,
         "B",
         "2022-02-01",
         "India",
         "zomato"
        ],
        [
         3,
         "C",
         "2023-01-01",
         "India",
         "zomato"
        ],
        [
         1,
         "C",
         "2023-01-01",
         "UK",
         "Swiggy"
        ],
        [
         6,
         "C",
         "2022-01-07",
         "UK",
         "zomato"
        ],
        [
         3,
         "D",
         "2023-02-16",
         "UK",
         "Restaurant"
        ],
        [
         5,
         "D",
         "2022-02-01",
         "UK",
         "zomato"
        ],
        [
         3,
         "E",
         "2023-02-01",
         "UK",
         "Restaurant"
        ],
        [
         4,
         "E",
         "2023-02-01",
         "UK",
         "Swiggy"
        ],
        [
         4,
         "E",
         "2023-02-07",
         "UK",
         "Restaurant"
        ],
        [
         2,
         "A",
         "2022-01-01",
         "UK",
         "Swiggy"
        ],
        [
         2,
         "A",
         "2023-01-07",
         "UK",
         "Swiggy"
        ],
        [
         3,
         "A",
         "2023-01-10",
         "UK",
         "Restaurant"
        ],
        [
         3,
         "A",
         "2022-01-11",
         "UK",
         "Swiggy"
        ],
        [
         3,
         "A",
         "2023-01-11",
         "UK",
         "zomato"
        ],
        [
         2,
         "B",
         "2022-03-01",
         "UK",
         "zomato"
        ],
        [
         2,
         "B",
         "2023-01-02",
         "UK",
         "zomato"
        ],
        [
         1,
         "B",
         "2023-01-04",
         "UK",
         "Swiggy"
        ],
        [
         1,
         "B",
         "2023-03-11",
         "UK",
         "Restaurant"
        ],
        [
         3,
         "B",
         "2023-01-16",
         "UK",
         "Swiggy"
        ],
        [
         3,
         "B",
         "2023-03-01",
         "UK",
         "Swiggy"
        ],
        [
         3,
         "C",
         "2023-01-01",
         "UK",
         "Restaurant"
        ],
        [
         1,
         "C",
         "2023-01-01",
         "USA",
         "Swiggy"
        ],
        [
         6,
         "C",
         "2023-01-07",
         "USA",
         "zomato"
        ],
        [
         3,
         "D",
         "2022-03-16",
         "USA",
         "zomato"
        ],
        [
         5,
         "D",
         "2023-03-01",
         "USA",
         "zomato"
        ],
        [
         3,
         "E",
         "2023-03-01",
         "USA",
         "Swiggy"
        ],
        [
         4,
         "E",
         "2022-03-01",
         "USA",
         "zomato"
        ],
        [
         4,
         "E",
         "2023-03-07",
         "USA",
         "zomato"
        ],
        [
         1,
         "A",
         "2023-05-05",
         "India",
         "Swiggy"
        ],
        [
         2,
         "A",
         "2022-05-05",
         "India",
         "Swiggy"
        ],
        [
         2,
         "A",
         "2023-05-07",
         "India",
         "Swiggy"
        ],
        [
         3,
         "A",
         "2023-05-10",
         "India",
         "Restaurant"
        ],
        [
         3,
         "A",
         "2022-05-11",
         "India",
         "Swiggy"
        ],
        [
         3,
         "A",
         "2023-05-11",
         "India",
         "Restaurant"
        ],
        [
         2,
         "B",
         "2022-02-05",
         "India",
         "Swiggy"
        ],
        [
         2,
         "B",
         "2023-05-02",
         "India",
         "Swiggy"
        ],
        [
         1,
         "B",
         "2023-05-04",
         "India",
         "Restaurant"
        ],
        [
         1,
         "B",
         "2023-02-11",
         "India",
         "Swiggy"
        ],
        [
         3,
         "B",
         "2023-05-16",
         "India",
         "zomato"
        ],
        [
         3,
         "B",
         "2022-02-05",
         "India",
         "zomato"
        ],
        [
         3,
         "C",
         "2023-05-05",
         "India",
         "zomato"
        ],
        [
         1,
         "C",
         "2023-05-05",
         "UK",
         "Swiggy"
        ],
        [
         6,
         "C",
         "2022-05-07",
         "UK",
         "zomato"
        ],
        [
         3,
         "D",
         "2023-02-16",
         "UK",
         "Restaurant"
        ],
        [
         5,
         "D",
         "2022-02-05",
         "UK",
         "zomato"
        ],
        [
         3,
         "E",
         "2023-02-05",
         "UK",
         "Restaurant"
        ],
        [
         4,
         "E",
         "2023-02-05",
         "UK",
         "Swiggy"
        ],
        [
         4,
         "E",
         "2023-02-07",
         "UK",
         "Restaurant"
        ],
        [
         2,
         "A",
         "2022-05-05",
         "UK",
         "Swiggy"
        ],
        [
         2,
         "A",
         "2023-05-07",
         "UK",
         "Swiggy"
        ],
        [
         3,
         "A",
         "2023-05-10",
         "UK",
         "Restaurant"
        ],
        [
         3,
         "A",
         "2022-05-11",
         "UK",
         "Swiggy"
        ],
        [
         3,
         "A",
         "2023-05-11",
         "UK",
         "zomato"
        ],
        [
         2,
         "B",
         "2022-07-05",
         "UK",
         "zomato"
        ],
        [
         2,
         "B",
         "2023-05-02",
         "UK",
         "zomato"
        ],
        [
         1,
         "B",
         "2023-05-04",
         "UK",
         "Swiggy"
        ],
        [
         1,
         "B",
         "2023-07-11",
         "UK",
         "Restaurant"
        ],
        [
         3,
         "B",
         "2023-05-16",
         "UK",
         "Swiggy"
        ],
        [
         3,
         "B",
         "2023-07-05",
         "UK",
         "Swiggy"
        ],
        [
         3,
         "C",
         "2023-05-05",
         "UK",
         "Restaurant"
        ],
        [
         1,
         "C",
         "2023-05-05",
         "USA",
         "Swiggy"
        ],
        [
         6,
         "C",
         "2023-05-07",
         "USA",
         "zomato"
        ],
        [
         3,
         "D",
         "2022-07-16",
         "USA",
         "zomato"
        ],
        [
         5,
         "D",
         "2023-07-05",
         "USA",
         "zomato"
        ],
        [
         3,
         "E",
         "2023-07-05",
         "USA",
         "Swiggy"
        ],
        [
         4,
         "E",
         "2022-07-05",
         "USA",
         "zomato"
        ],
        [
         4,
         "E",
         "2023-07-07",
         "USA",
         "zomato"
        ],
        [
         1,
         "A",
         "2023-06-06",
         "India",
         "Swiggy"
        ],
        [
         2,
         "A",
         "2022-06-06",
         "India",
         "Swiggy"
        ],
        [
         2,
         "A",
         "2023-06-11",
         "India",
         "Swiggy"
        ],
        [
         3,
         "A",
         "2023-06-10",
         "India",
         "Restaurant"
        ],
        [
         3,
         "A",
         "2022-06-11",
         "India",
         "Swiggy"
        ],
        [
         3,
         "A",
         "2023-06-11",
         "India",
         "Restaurant"
        ],
        [
         2,
         "B",
         "2022-02-06",
         "India",
         "Swiggy"
        ],
        [
         2,
         "B",
         "2023-06-02",
         "India",
         "Swiggy"
        ],
        [
         1,
         "B",
         "2023-06-04",
         "India",
         "Restaurant"
        ],
        [
         1,
         "B",
         "2023-02-11",
         "India",
         "Swiggy"
        ],
        [
         3,
         "B",
         "2023-06-16",
         "India",
         "zomato"
        ],
        [
         3,
         "B",
         "2022-02-06",
         "India",
         "zomato"
        ],
        [
         3,
         "C",
         "2023-06-06",
         "India",
         "zomato"
        ],
        [
         1,
         "C",
         "2023-06-06",
         "UK",
         "Swiggy"
        ],
        [
         6,
         "C",
         "2022-06-11",
         "UK",
         "zomato"
        ],
        [
         3,
         "D",
         "2023-02-16",
         "UK",
         "Restaurant"
        ],
        [
         5,
         "D",
         "2022-02-06",
         "UK",
         "zomato"
        ],
        [
         3,
         "E",
         "2023-02-06",
         "UK",
         "Restaurant"
        ],
        [
         4,
         "E",
         "2023-02-06",
         "UK",
         "Swiggy"
        ],
        [
         4,
         "E",
         "2023-02-11",
         "UK",
         "Restaurant"
        ],
        [
         2,
         "A",
         "2022-06-06",
         "UK",
         "Swiggy"
        ],
        [
         2,
         "A",
         "2023-06-11",
         "UK",
         "Swiggy"
        ],
        [
         3,
         "A",
         "2023-06-10",
         "UK",
         "Restaurant"
        ],
        [
         3,
         "A",
         "2022-06-11",
         "UK",
         "Swiggy"
        ],
        [
         3,
         "A",
         "2023-06-11",
         "UK",
         "zomato"
        ],
        [
         2,
         "B",
         "2022-11-06",
         "UK",
         "zomato"
        ],
        [
         2,
         "B",
         "2023-06-02",
         "UK",
         "zomato"
        ],
        [
         1,
         "B",
         "2023-06-04",
         "UK",
         "Swiggy"
        ],
        [
         1,
         "B",
         "2023-11-11",
         "UK",
         "Restaurant"
        ],
        [
         3,
         "B",
         "2023-06-16",
         "UK",
         "Swiggy"
        ],
        [
         3,
         "B",
         "2023-11-06",
         "UK",
         "Swiggy"
        ],
        [
         3,
         "C",
         "2023-06-06",
         "UK",
         "Restaurant"
        ],
        [
         1,
         "C",
         "2023-06-06",
         "USA",
         "Swiggy"
        ],
        [
         6,
         "C",
         "2023-06-11",
         "USA",
         "zomato"
        ],
        [
         3,
         "D",
         "2022-11-16",
         "USA",
         "zomato"
        ],
        [
         5,
         "D",
         "2023-11-06",
         "USA",
         "zomato"
        ],
        [
         3,
         "E",
         "2023-11-06",
         "USA",
         "Swiggy"
        ],
        [
         4,
         "E",
         "2022-11-06",
         "USA",
         "zomato"
        ],
        [
         4,
         "E",
         "2023-11-11",
         "USA",
         "zomato"
        ]
       ],
       "datasetInfos": [],
       "dbfsResultPath": null,
       "isJsonSchema": true,
       "metadata": {},
       "overflow": false,
       "plotOptions": {
        "customPlotOptions": {},
        "displayType": "table",
        "pivotAggregation": null,
        "pivotColumns": null,
        "xColumns": null,
        "yColumns": null
       },
       "removedWidgets": [],
       "schema": [
        {
         "metadata": "{}",
         "name": "product_id",
         "type": "\"integer\""
        },
        {
         "metadata": "{}",
         "name": "customer_id",
         "type": "\"string\""
        },
        {
         "metadata": "{}",
         "name": "order_date",
         "type": "\"date\""
        },
        {
         "metadata": "{}",
         "name": "location",
         "type": "\"string\""
        },
        {
         "metadata": "{}",
         "name": "source_order",
         "type": "\"string\""
        }
       ],
       "type": "table"
      }
     },
     "output_type": "display_data"
    }
   ],
   "source": [
    "from pyspark.sql.types import StructType,StructField,IntegerType,StringType,DateType\n",
    "\n",
    "schema=StructType([\n",
    "    StructField(\"product_id\",IntegerType(),True),\n",
    "    StructField(\"customer_id\",StringType(),True),\n",
    "    StructField(\"order_date\",DateType(),True),\n",
    "    StructField(\"location\",StringType(),True),\n",
    "    StructField(\"source_order\",StringType(),True)\n",
    "])\n",
    "\n",
    "sales_df=spark.read.format(\"csv\").option(\"inferschema\",\"true\").schema(schema).load(\"/FileStore/tables/sales_csv.txt\")\n",
    "display(sales_df)"
   ]
  },
  {
   "cell_type": "code",
   "execution_count": 0,
   "metadata": {
    "application/vnd.databricks.v1+cell": {
     "cellMetadata": {
      "byteLimit": 2048000,
      "rowLimit": 10000
     },
     "inputWidgets": {},
     "nuid": "f91d68bc-33c1-4909-8cef-dfcd51425d2a",
     "showTitle": false,
     "tableResultSettingsMap": {},
     "title": ""
    }
   },
   "outputs": [
    {
     "output_type": "display_data",
     "data": {
      "text/html": [
       "<style scoped>\n",
       "  .table-result-container {\n",
       "    max-height: 300px;\n",
       "    overflow: auto;\n",
       "  }\n",
       "  table, th, td {\n",
       "    border: 1px solid black;\n",
       "    border-collapse: collapse;\n",
       "  }\n",
       "  th, td {\n",
       "    padding: 5px;\n",
       "  }\n",
       "  th {\n",
       "    text-align: left;\n",
       "  }\n",
       "</style><div class='table-result-container'><table class='table-result'><thead style='background-color: white'><tr><th>product_id</th><th>customer_id</th><th>order_date</th><th>location</th><th>source_order</th><th>order_year</th></tr></thead><tbody><tr><td>1</td><td>A</td><td>2023-01-01</td><td>India</td><td>Swiggy</td><td>2023</td></tr><tr><td>2</td><td>A</td><td>2022-01-01</td><td>India</td><td>Swiggy</td><td>2022</td></tr><tr><td>2</td><td>A</td><td>2023-01-07</td><td>India</td><td>Swiggy</td><td>2023</td></tr><tr><td>3</td><td>A</td><td>2023-01-10</td><td>India</td><td>Restaurant</td><td>2023</td></tr><tr><td>3</td><td>A</td><td>2022-01-11</td><td>India</td><td>Swiggy</td><td>2022</td></tr><tr><td>3</td><td>A</td><td>2023-01-11</td><td>India</td><td>Restaurant</td><td>2023</td></tr><tr><td>2</td><td>B</td><td>2022-02-01</td><td>India</td><td>Swiggy</td><td>2022</td></tr><tr><td>2</td><td>B</td><td>2023-01-02</td><td>India</td><td>Swiggy</td><td>2023</td></tr><tr><td>1</td><td>B</td><td>2023-01-04</td><td>India</td><td>Restaurant</td><td>2023</td></tr><tr><td>1</td><td>B</td><td>2023-02-11</td><td>India</td><td>Swiggy</td><td>2023</td></tr><tr><td>3</td><td>B</td><td>2023-01-16</td><td>India</td><td>zomato</td><td>2023</td></tr><tr><td>3</td><td>B</td><td>2022-02-01</td><td>India</td><td>zomato</td><td>2022</td></tr><tr><td>3</td><td>C</td><td>2023-01-01</td><td>India</td><td>zomato</td><td>2023</td></tr><tr><td>1</td><td>C</td><td>2023-01-01</td><td>UK</td><td>Swiggy</td><td>2023</td></tr><tr><td>6</td><td>C</td><td>2022-01-07</td><td>UK</td><td>zomato</td><td>2022</td></tr><tr><td>3</td><td>D</td><td>2023-02-16</td><td>UK</td><td>Restaurant</td><td>2023</td></tr><tr><td>5</td><td>D</td><td>2022-02-01</td><td>UK</td><td>zomato</td><td>2022</td></tr><tr><td>3</td><td>E</td><td>2023-02-01</td><td>UK</td><td>Restaurant</td><td>2023</td></tr><tr><td>4</td><td>E</td><td>2023-02-01</td><td>UK</td><td>Swiggy</td><td>2023</td></tr><tr><td>4</td><td>E</td><td>2023-02-07</td><td>UK</td><td>Restaurant</td><td>2023</td></tr><tr><td>2</td><td>A</td><td>2022-01-01</td><td>UK</td><td>Swiggy</td><td>2022</td></tr><tr><td>2</td><td>A</td><td>2023-01-07</td><td>UK</td><td>Swiggy</td><td>2023</td></tr><tr><td>3</td><td>A</td><td>2023-01-10</td><td>UK</td><td>Restaurant</td><td>2023</td></tr><tr><td>3</td><td>A</td><td>2022-01-11</td><td>UK</td><td>Swiggy</td><td>2022</td></tr><tr><td>3</td><td>A</td><td>2023-01-11</td><td>UK</td><td>zomato</td><td>2023</td></tr><tr><td>2</td><td>B</td><td>2022-03-01</td><td>UK</td><td>zomato</td><td>2022</td></tr><tr><td>2</td><td>B</td><td>2023-01-02</td><td>UK</td><td>zomato</td><td>2023</td></tr><tr><td>1</td><td>B</td><td>2023-01-04</td><td>UK</td><td>Swiggy</td><td>2023</td></tr><tr><td>1</td><td>B</td><td>2023-03-11</td><td>UK</td><td>Restaurant</td><td>2023</td></tr><tr><td>3</td><td>B</td><td>2023-01-16</td><td>UK</td><td>Swiggy</td><td>2023</td></tr><tr><td>3</td><td>B</td><td>2023-03-01</td><td>UK</td><td>Swiggy</td><td>2023</td></tr><tr><td>3</td><td>C</td><td>2023-01-01</td><td>UK</td><td>Restaurant</td><td>2023</td></tr><tr><td>1</td><td>C</td><td>2023-01-01</td><td>USA</td><td>Swiggy</td><td>2023</td></tr><tr><td>6</td><td>C</td><td>2023-01-07</td><td>USA</td><td>zomato</td><td>2023</td></tr><tr><td>3</td><td>D</td><td>2022-03-16</td><td>USA</td><td>zomato</td><td>2022</td></tr><tr><td>5</td><td>D</td><td>2023-03-01</td><td>USA</td><td>zomato</td><td>2023</td></tr><tr><td>3</td><td>E</td><td>2023-03-01</td><td>USA</td><td>Swiggy</td><td>2023</td></tr><tr><td>4</td><td>E</td><td>2022-03-01</td><td>USA</td><td>zomato</td><td>2022</td></tr><tr><td>4</td><td>E</td><td>2023-03-07</td><td>USA</td><td>zomato</td><td>2023</td></tr><tr><td>1</td><td>A</td><td>2023-05-05</td><td>India</td><td>Swiggy</td><td>2023</td></tr><tr><td>2</td><td>A</td><td>2022-05-05</td><td>India</td><td>Swiggy</td><td>2022</td></tr><tr><td>2</td><td>A</td><td>2023-05-07</td><td>India</td><td>Swiggy</td><td>2023</td></tr><tr><td>3</td><td>A</td><td>2023-05-10</td><td>India</td><td>Restaurant</td><td>2023</td></tr><tr><td>3</td><td>A</td><td>2022-05-11</td><td>India</td><td>Swiggy</td><td>2022</td></tr><tr><td>3</td><td>A</td><td>2023-05-11</td><td>India</td><td>Restaurant</td><td>2023</td></tr><tr><td>2</td><td>B</td><td>2022-02-05</td><td>India</td><td>Swiggy</td><td>2022</td></tr><tr><td>2</td><td>B</td><td>2023-05-02</td><td>India</td><td>Swiggy</td><td>2023</td></tr><tr><td>1</td><td>B</td><td>2023-05-04</td><td>India</td><td>Restaurant</td><td>2023</td></tr><tr><td>1</td><td>B</td><td>2023-02-11</td><td>India</td><td>Swiggy</td><td>2023</td></tr><tr><td>3</td><td>B</td><td>2023-05-16</td><td>India</td><td>zomato</td><td>2023</td></tr><tr><td>3</td><td>B</td><td>2022-02-05</td><td>India</td><td>zomato</td><td>2022</td></tr><tr><td>3</td><td>C</td><td>2023-05-05</td><td>India</td><td>zomato</td><td>2023</td></tr><tr><td>1</td><td>C</td><td>2023-05-05</td><td>UK</td><td>Swiggy</td><td>2023</td></tr><tr><td>6</td><td>C</td><td>2022-05-07</td><td>UK</td><td>zomato</td><td>2022</td></tr><tr><td>3</td><td>D</td><td>2023-02-16</td><td>UK</td><td>Restaurant</td><td>2023</td></tr><tr><td>5</td><td>D</td><td>2022-02-05</td><td>UK</td><td>zomato</td><td>2022</td></tr><tr><td>3</td><td>E</td><td>2023-02-05</td><td>UK</td><td>Restaurant</td><td>2023</td></tr><tr><td>4</td><td>E</td><td>2023-02-05</td><td>UK</td><td>Swiggy</td><td>2023</td></tr><tr><td>4</td><td>E</td><td>2023-02-07</td><td>UK</td><td>Restaurant</td><td>2023</td></tr><tr><td>2</td><td>A</td><td>2022-05-05</td><td>UK</td><td>Swiggy</td><td>2022</td></tr><tr><td>2</td><td>A</td><td>2023-05-07</td><td>UK</td><td>Swiggy</td><td>2023</td></tr><tr><td>3</td><td>A</td><td>2023-05-10</td><td>UK</td><td>Restaurant</td><td>2023</td></tr><tr><td>3</td><td>A</td><td>2022-05-11</td><td>UK</td><td>Swiggy</td><td>2022</td></tr><tr><td>3</td><td>A</td><td>2023-05-11</td><td>UK</td><td>zomato</td><td>2023</td></tr><tr><td>2</td><td>B</td><td>2022-07-05</td><td>UK</td><td>zomato</td><td>2022</td></tr><tr><td>2</td><td>B</td><td>2023-05-02</td><td>UK</td><td>zomato</td><td>2023</td></tr><tr><td>1</td><td>B</td><td>2023-05-04</td><td>UK</td><td>Swiggy</td><td>2023</td></tr><tr><td>1</td><td>B</td><td>2023-07-11</td><td>UK</td><td>Restaurant</td><td>2023</td></tr><tr><td>3</td><td>B</td><td>2023-05-16</td><td>UK</td><td>Swiggy</td><td>2023</td></tr><tr><td>3</td><td>B</td><td>2023-07-05</td><td>UK</td><td>Swiggy</td><td>2023</td></tr><tr><td>3</td><td>C</td><td>2023-05-05</td><td>UK</td><td>Restaurant</td><td>2023</td></tr><tr><td>1</td><td>C</td><td>2023-05-05</td><td>USA</td><td>Swiggy</td><td>2023</td></tr><tr><td>6</td><td>C</td><td>2023-05-07</td><td>USA</td><td>zomato</td><td>2023</td></tr><tr><td>3</td><td>D</td><td>2022-07-16</td><td>USA</td><td>zomato</td><td>2022</td></tr><tr><td>5</td><td>D</td><td>2023-07-05</td><td>USA</td><td>zomato</td><td>2023</td></tr><tr><td>3</td><td>E</td><td>2023-07-05</td><td>USA</td><td>Swiggy</td><td>2023</td></tr><tr><td>4</td><td>E</td><td>2022-07-05</td><td>USA</td><td>zomato</td><td>2022</td></tr><tr><td>4</td><td>E</td><td>2023-07-07</td><td>USA</td><td>zomato</td><td>2023</td></tr><tr><td>1</td><td>A</td><td>2023-06-06</td><td>India</td><td>Swiggy</td><td>2023</td></tr><tr><td>2</td><td>A</td><td>2022-06-06</td><td>India</td><td>Swiggy</td><td>2022</td></tr><tr><td>2</td><td>A</td><td>2023-06-11</td><td>India</td><td>Swiggy</td><td>2023</td></tr><tr><td>3</td><td>A</td><td>2023-06-10</td><td>India</td><td>Restaurant</td><td>2023</td></tr><tr><td>3</td><td>A</td><td>2022-06-11</td><td>India</td><td>Swiggy</td><td>2022</td></tr><tr><td>3</td><td>A</td><td>2023-06-11</td><td>India</td><td>Restaurant</td><td>2023</td></tr><tr><td>2</td><td>B</td><td>2022-02-06</td><td>India</td><td>Swiggy</td><td>2022</td></tr><tr><td>2</td><td>B</td><td>2023-06-02</td><td>India</td><td>Swiggy</td><td>2023</td></tr><tr><td>1</td><td>B</td><td>2023-06-04</td><td>India</td><td>Restaurant</td><td>2023</td></tr><tr><td>1</td><td>B</td><td>2023-02-11</td><td>India</td><td>Swiggy</td><td>2023</td></tr><tr><td>3</td><td>B</td><td>2023-06-16</td><td>India</td><td>zomato</td><td>2023</td></tr><tr><td>3</td><td>B</td><td>2022-02-06</td><td>India</td><td>zomato</td><td>2022</td></tr><tr><td>3</td><td>C</td><td>2023-06-06</td><td>India</td><td>zomato</td><td>2023</td></tr><tr><td>1</td><td>C</td><td>2023-06-06</td><td>UK</td><td>Swiggy</td><td>2023</td></tr><tr><td>6</td><td>C</td><td>2022-06-11</td><td>UK</td><td>zomato</td><td>2022</td></tr><tr><td>3</td><td>D</td><td>2023-02-16</td><td>UK</td><td>Restaurant</td><td>2023</td></tr><tr><td>5</td><td>D</td><td>2022-02-06</td><td>UK</td><td>zomato</td><td>2022</td></tr><tr><td>3</td><td>E</td><td>2023-02-06</td><td>UK</td><td>Restaurant</td><td>2023</td></tr><tr><td>4</td><td>E</td><td>2023-02-06</td><td>UK</td><td>Swiggy</td><td>2023</td></tr><tr><td>4</td><td>E</td><td>2023-02-11</td><td>UK</td><td>Restaurant</td><td>2023</td></tr><tr><td>2</td><td>A</td><td>2022-06-06</td><td>UK</td><td>Swiggy</td><td>2022</td></tr><tr><td>2</td><td>A</td><td>2023-06-11</td><td>UK</td><td>Swiggy</td><td>2023</td></tr><tr><td>3</td><td>A</td><td>2023-06-10</td><td>UK</td><td>Restaurant</td><td>2023</td></tr><tr><td>3</td><td>A</td><td>2022-06-11</td><td>UK</td><td>Swiggy</td><td>2022</td></tr><tr><td>3</td><td>A</td><td>2023-06-11</td><td>UK</td><td>zomato</td><td>2023</td></tr><tr><td>2</td><td>B</td><td>2022-11-06</td><td>UK</td><td>zomato</td><td>2022</td></tr><tr><td>2</td><td>B</td><td>2023-06-02</td><td>UK</td><td>zomato</td><td>2023</td></tr><tr><td>1</td><td>B</td><td>2023-06-04</td><td>UK</td><td>Swiggy</td><td>2023</td></tr><tr><td>1</td><td>B</td><td>2023-11-11</td><td>UK</td><td>Restaurant</td><td>2023</td></tr><tr><td>3</td><td>B</td><td>2023-06-16</td><td>UK</td><td>Swiggy</td><td>2023</td></tr><tr><td>3</td><td>B</td><td>2023-11-06</td><td>UK</td><td>Swiggy</td><td>2023</td></tr><tr><td>3</td><td>C</td><td>2023-06-06</td><td>UK</td><td>Restaurant</td><td>2023</td></tr><tr><td>1</td><td>C</td><td>2023-06-06</td><td>USA</td><td>Swiggy</td><td>2023</td></tr><tr><td>6</td><td>C</td><td>2023-06-11</td><td>USA</td><td>zomato</td><td>2023</td></tr><tr><td>3</td><td>D</td><td>2022-11-16</td><td>USA</td><td>zomato</td><td>2022</td></tr><tr><td>5</td><td>D</td><td>2023-11-06</td><td>USA</td><td>zomato</td><td>2023</td></tr><tr><td>3</td><td>E</td><td>2023-11-06</td><td>USA</td><td>Swiggy</td><td>2023</td></tr><tr><td>4</td><td>E</td><td>2022-11-06</td><td>USA</td><td>zomato</td><td>2022</td></tr><tr><td>4</td><td>E</td><td>2023-11-11</td><td>USA</td><td>zomato</td><td>2023</td></tr></tbody></table></div>"
      ]
     },
     "metadata": {
      "application/vnd.databricks.v1+output": {
       "addedWidgets": {},
       "aggData": [],
       "aggError": "",
       "aggOverflow": false,
       "aggSchema": [],
       "aggSeriesLimitReached": false,
       "aggType": "",
       "arguments": {},
       "columnCustomDisplayInfos": {},
       "data": [
        [
         1,
         "A",
         "2023-01-01",
         "India",
         "Swiggy",
         2023
        ],
        [
         2,
         "A",
         "2022-01-01",
         "India",
         "Swiggy",
         2022
        ],
        [
         2,
         "A",
         "2023-01-07",
         "India",
         "Swiggy",
         2023
        ],
        [
         3,
         "A",
         "2023-01-10",
         "India",
         "Restaurant",
         2023
        ],
        [
         3,
         "A",
         "2022-01-11",
         "India",
         "Swiggy",
         2022
        ],
        [
         3,
         "A",
         "2023-01-11",
         "India",
         "Restaurant",
         2023
        ],
        [
         2,
         "B",
         "2022-02-01",
         "India",
         "Swiggy",
         2022
        ],
        [
         2,
         "B",
         "2023-01-02",
         "India",
         "Swiggy",
         2023
        ],
        [
         1,
         "B",
         "2023-01-04",
         "India",
         "Restaurant",
         2023
        ],
        [
         1,
         "B",
         "2023-02-11",
         "India",
         "Swiggy",
         2023
        ],
        [
         3,
         "B",
         "2023-01-16",
         "India",
         "zomato",
         2023
        ],
        [
         3,
         "B",
         "2022-02-01",
         "India",
         "zomato",
         2022
        ],
        [
         3,
         "C",
         "2023-01-01",
         "India",
         "zomato",
         2023
        ],
        [
         1,
         "C",
         "2023-01-01",
         "UK",
         "Swiggy",
         2023
        ],
        [
         6,
         "C",
         "2022-01-07",
         "UK",
         "zomato",
         2022
        ],
        [
         3,
         "D",
         "2023-02-16",
         "UK",
         "Restaurant",
         2023
        ],
        [
         5,
         "D",
         "2022-02-01",
         "UK",
         "zomato",
         2022
        ],
        [
         3,
         "E",
         "2023-02-01",
         "UK",
         "Restaurant",
         2023
        ],
        [
         4,
         "E",
         "2023-02-01",
         "UK",
         "Swiggy",
         2023
        ],
        [
         4,
         "E",
         "2023-02-07",
         "UK",
         "Restaurant",
         2023
        ],
        [
         2,
         "A",
         "2022-01-01",
         "UK",
         "Swiggy",
         2022
        ],
        [
         2,
         "A",
         "2023-01-07",
         "UK",
         "Swiggy",
         2023
        ],
        [
         3,
         "A",
         "2023-01-10",
         "UK",
         "Restaurant",
         2023
        ],
        [
         3,
         "A",
         "2022-01-11",
         "UK",
         "Swiggy",
         2022
        ],
        [
         3,
         "A",
         "2023-01-11",
         "UK",
         "zomato",
         2023
        ],
        [
         2,
         "B",
         "2022-03-01",
         "UK",
         "zomato",
         2022
        ],
        [
         2,
         "B",
         "2023-01-02",
         "UK",
         "zomato",
         2023
        ],
        [
         1,
         "B",
         "2023-01-04",
         "UK",
         "Swiggy",
         2023
        ],
        [
         1,
         "B",
         "2023-03-11",
         "UK",
         "Restaurant",
         2023
        ],
        [
         3,
         "B",
         "2023-01-16",
         "UK",
         "Swiggy",
         2023
        ],
        [
         3,
         "B",
         "2023-03-01",
         "UK",
         "Swiggy",
         2023
        ],
        [
         3,
         "C",
         "2023-01-01",
         "UK",
         "Restaurant",
         2023
        ],
        [
         1,
         "C",
         "2023-01-01",
         "USA",
         "Swiggy",
         2023
        ],
        [
         6,
         "C",
         "2023-01-07",
         "USA",
         "zomato",
         2023
        ],
        [
         3,
         "D",
         "2022-03-16",
         "USA",
         "zomato",
         2022
        ],
        [
         5,
         "D",
         "2023-03-01",
         "USA",
         "zomato",
         2023
        ],
        [
         3,
         "E",
         "2023-03-01",
         "USA",
         "Swiggy",
         2023
        ],
        [
         4,
         "E",
         "2022-03-01",
         "USA",
         "zomato",
         2022
        ],
        [
         4,
         "E",
         "2023-03-07",
         "USA",
         "zomato",
         2023
        ],
        [
         1,
         "A",
         "2023-05-05",
         "India",
         "Swiggy",
         2023
        ],
        [
         2,
         "A",
         "2022-05-05",
         "India",
         "Swiggy",
         2022
        ],
        [
         2,
         "A",
         "2023-05-07",
         "India",
         "Swiggy",
         2023
        ],
        [
         3,
         "A",
         "2023-05-10",
         "India",
         "Restaurant",
         2023
        ],
        [
         3,
         "A",
         "2022-05-11",
         "India",
         "Swiggy",
         2022
        ],
        [
         3,
         "A",
         "2023-05-11",
         "India",
         "Restaurant",
         2023
        ],
        [
         2,
         "B",
         "2022-02-05",
         "India",
         "Swiggy",
         2022
        ],
        [
         2,
         "B",
         "2023-05-02",
         "India",
         "Swiggy",
         2023
        ],
        [
         1,
         "B",
         "2023-05-04",
         "India",
         "Restaurant",
         2023
        ],
        [
         1,
         "B",
         "2023-02-11",
         "India",
         "Swiggy",
         2023
        ],
        [
         3,
         "B",
         "2023-05-16",
         "India",
         "zomato",
         2023
        ],
        [
         3,
         "B",
         "2022-02-05",
         "India",
         "zomato",
         2022
        ],
        [
         3,
         "C",
         "2023-05-05",
         "India",
         "zomato",
         2023
        ],
        [
         1,
         "C",
         "2023-05-05",
         "UK",
         "Swiggy",
         2023
        ],
        [
         6,
         "C",
         "2022-05-07",
         "UK",
         "zomato",
         2022
        ],
        [
         3,
         "D",
         "2023-02-16",
         "UK",
         "Restaurant",
         2023
        ],
        [
         5,
         "D",
         "2022-02-05",
         "UK",
         "zomato",
         2022
        ],
        [
         3,
         "E",
         "2023-02-05",
         "UK",
         "Restaurant",
         2023
        ],
        [
         4,
         "E",
         "2023-02-05",
         "UK",
         "Swiggy",
         2023
        ],
        [
         4,
         "E",
         "2023-02-07",
         "UK",
         "Restaurant",
         2023
        ],
        [
         2,
         "A",
         "2022-05-05",
         "UK",
         "Swiggy",
         2022
        ],
        [
         2,
         "A",
         "2023-05-07",
         "UK",
         "Swiggy",
         2023
        ],
        [
         3,
         "A",
         "2023-05-10",
         "UK",
         "Restaurant",
         2023
        ],
        [
         3,
         "A",
         "2022-05-11",
         "UK",
         "Swiggy",
         2022
        ],
        [
         3,
         "A",
         "2023-05-11",
         "UK",
         "zomato",
         2023
        ],
        [
         2,
         "B",
         "2022-07-05",
         "UK",
         "zomato",
         2022
        ],
        [
         2,
         "B",
         "2023-05-02",
         "UK",
         "zomato",
         2023
        ],
        [
         1,
         "B",
         "2023-05-04",
         "UK",
         "Swiggy",
         2023
        ],
        [
         1,
         "B",
         "2023-07-11",
         "UK",
         "Restaurant",
         2023
        ],
        [
         3,
         "B",
         "2023-05-16",
         "UK",
         "Swiggy",
         2023
        ],
        [
         3,
         "B",
         "2023-07-05",
         "UK",
         "Swiggy",
         2023
        ],
        [
         3,
         "C",
         "2023-05-05",
         "UK",
         "Restaurant",
         2023
        ],
        [
         1,
         "C",
         "2023-05-05",
         "USA",
         "Swiggy",
         2023
        ],
        [
         6,
         "C",
         "2023-05-07",
         "USA",
         "zomato",
         2023
        ],
        [
         3,
         "D",
         "2022-07-16",
         "USA",
         "zomato",
         2022
        ],
        [
         5,
         "D",
         "2023-07-05",
         "USA",
         "zomato",
         2023
        ],
        [
         3,
         "E",
         "2023-07-05",
         "USA",
         "Swiggy",
         2023
        ],
        [
         4,
         "E",
         "2022-07-05",
         "USA",
         "zomato",
         2022
        ],
        [
         4,
         "E",
         "2023-07-07",
         "USA",
         "zomato",
         2023
        ],
        [
         1,
         "A",
         "2023-06-06",
         "India",
         "Swiggy",
         2023
        ],
        [
         2,
         "A",
         "2022-06-06",
         "India",
         "Swiggy",
         2022
        ],
        [
         2,
         "A",
         "2023-06-11",
         "India",
         "Swiggy",
         2023
        ],
        [
         3,
         "A",
         "2023-06-10",
         "India",
         "Restaurant",
         2023
        ],
        [
         3,
         "A",
         "2022-06-11",
         "India",
         "Swiggy",
         2022
        ],
        [
         3,
         "A",
         "2023-06-11",
         "India",
         "Restaurant",
         2023
        ],
        [
         2,
         "B",
         "2022-02-06",
         "India",
         "Swiggy",
         2022
        ],
        [
         2,
         "B",
         "2023-06-02",
         "India",
         "Swiggy",
         2023
        ],
        [
         1,
         "B",
         "2023-06-04",
         "India",
         "Restaurant",
         2023
        ],
        [
         1,
         "B",
         "2023-02-11",
         "India",
         "Swiggy",
         2023
        ],
        [
         3,
         "B",
         "2023-06-16",
         "India",
         "zomato",
         2023
        ],
        [
         3,
         "B",
         "2022-02-06",
         "India",
         "zomato",
         2022
        ],
        [
         3,
         "C",
         "2023-06-06",
         "India",
         "zomato",
         2023
        ],
        [
         1,
         "C",
         "2023-06-06",
         "UK",
         "Swiggy",
         2023
        ],
        [
         6,
         "C",
         "2022-06-11",
         "UK",
         "zomato",
         2022
        ],
        [
         3,
         "D",
         "2023-02-16",
         "UK",
         "Restaurant",
         2023
        ],
        [
         5,
         "D",
         "2022-02-06",
         "UK",
         "zomato",
         2022
        ],
        [
         3,
         "E",
         "2023-02-06",
         "UK",
         "Restaurant",
         2023
        ],
        [
         4,
         "E",
         "2023-02-06",
         "UK",
         "Swiggy",
         2023
        ],
        [
         4,
         "E",
         "2023-02-11",
         "UK",
         "Restaurant",
         2023
        ],
        [
         2,
         "A",
         "2022-06-06",
         "UK",
         "Swiggy",
         2022
        ],
        [
         2,
         "A",
         "2023-06-11",
         "UK",
         "Swiggy",
         2023
        ],
        [
         3,
         "A",
         "2023-06-10",
         "UK",
         "Restaurant",
         2023
        ],
        [
         3,
         "A",
         "2022-06-11",
         "UK",
         "Swiggy",
         2022
        ],
        [
         3,
         "A",
         "2023-06-11",
         "UK",
         "zomato",
         2023
        ],
        [
         2,
         "B",
         "2022-11-06",
         "UK",
         "zomato",
         2022
        ],
        [
         2,
         "B",
         "2023-06-02",
         "UK",
         "zomato",
         2023
        ],
        [
         1,
         "B",
         "2023-06-04",
         "UK",
         "Swiggy",
         2023
        ],
        [
         1,
         "B",
         "2023-11-11",
         "UK",
         "Restaurant",
         2023
        ],
        [
         3,
         "B",
         "2023-06-16",
         "UK",
         "Swiggy",
         2023
        ],
        [
         3,
         "B",
         "2023-11-06",
         "UK",
         "Swiggy",
         2023
        ],
        [
         3,
         "C",
         "2023-06-06",
         "UK",
         "Restaurant",
         2023
        ],
        [
         1,
         "C",
         "2023-06-06",
         "USA",
         "Swiggy",
         2023
        ],
        [
         6,
         "C",
         "2023-06-11",
         "USA",
         "zomato",
         2023
        ],
        [
         3,
         "D",
         "2022-11-16",
         "USA",
         "zomato",
         2022
        ],
        [
         5,
         "D",
         "2023-11-06",
         "USA",
         "zomato",
         2023
        ],
        [
         3,
         "E",
         "2023-11-06",
         "USA",
         "Swiggy",
         2023
        ],
        [
         4,
         "E",
         "2022-11-06",
         "USA",
         "zomato",
         2022
        ],
        [
         4,
         "E",
         "2023-11-11",
         "USA",
         "zomato",
         2023
        ]
       ],
       "datasetInfos": [],
       "dbfsResultPath": null,
       "isJsonSchema": true,
       "metadata": {},
       "overflow": false,
       "plotOptions": {
        "customPlotOptions": {},
        "displayType": "table",
        "pivotAggregation": null,
        "pivotColumns": null,
        "xColumns": null,
        "yColumns": null
       },
       "removedWidgets": [],
       "schema": [
        {
         "metadata": "{}",
         "name": "product_id",
         "type": "\"integer\""
        },
        {
         "metadata": "{}",
         "name": "customer_id",
         "type": "\"string\""
        },
        {
         "metadata": "{}",
         "name": "order_date",
         "type": "\"date\""
        },
        {
         "metadata": "{}",
         "name": "location",
         "type": "\"string\""
        },
        {
         "metadata": "{}",
         "name": "source_order",
         "type": "\"string\""
        },
        {
         "metadata": "{}",
         "name": "order_year",
         "type": "\"integer\""
        }
       ],
       "type": "table"
      }
     },
     "output_type": "display_data"
    }
   ],
   "source": [
    "from pyspark.sql.functions import month, year, quarter\n",
    "\n",
    "sales_df=sales_df.withColumn(\"order_year\",year(sales_df.order_date))\n",
    "display(sales_df)"
   ]
  },
  {
   "cell_type": "code",
   "execution_count": 0,
   "metadata": {
    "application/vnd.databricks.v1+cell": {
     "cellMetadata": {
      "byteLimit": 2048000,
      "rowLimit": 10000
     },
     "inputWidgets": {},
     "nuid": "f5c9d6bc-99fa-4ee0-9857-02069af1b6ca",
     "showTitle": false,
     "tableResultSettingsMap": {},
     "title": ""
    }
   },
   "outputs": [
    {
     "output_type": "display_data",
     "data": {
      "text/html": [
       "<style scoped>\n",
       "  .table-result-container {\n",
       "    max-height: 300px;\n",
       "    overflow: auto;\n",
       "  }\n",
       "  table, th, td {\n",
       "    border: 1px solid black;\n",
       "    border-collapse: collapse;\n",
       "  }\n",
       "  th, td {\n",
       "    padding: 5px;\n",
       "  }\n",
       "  th {\n",
       "    text-align: left;\n",
       "  }\n",
       "</style><div class='table-result-container'><table class='table-result'><thead style='background-color: white'><tr><th>product_id</th><th>customer_id</th><th>order_date</th><th>location</th><th>source_order</th><th>order_year</th><th>order_month</th><th>order_quarter</th></tr></thead><tbody><tr><td>1</td><td>A</td><td>2023-01-01</td><td>India</td><td>Swiggy</td><td>2023</td><td>1</td><td>1</td></tr><tr><td>2</td><td>A</td><td>2022-01-01</td><td>India</td><td>Swiggy</td><td>2022</td><td>1</td><td>1</td></tr><tr><td>2</td><td>A</td><td>2023-01-07</td><td>India</td><td>Swiggy</td><td>2023</td><td>1</td><td>1</td></tr><tr><td>3</td><td>A</td><td>2023-01-10</td><td>India</td><td>Restaurant</td><td>2023</td><td>1</td><td>1</td></tr><tr><td>3</td><td>A</td><td>2022-01-11</td><td>India</td><td>Swiggy</td><td>2022</td><td>1</td><td>1</td></tr><tr><td>3</td><td>A</td><td>2023-01-11</td><td>India</td><td>Restaurant</td><td>2023</td><td>1</td><td>1</td></tr><tr><td>2</td><td>B</td><td>2022-02-01</td><td>India</td><td>Swiggy</td><td>2022</td><td>2</td><td>1</td></tr><tr><td>2</td><td>B</td><td>2023-01-02</td><td>India</td><td>Swiggy</td><td>2023</td><td>1</td><td>1</td></tr><tr><td>1</td><td>B</td><td>2023-01-04</td><td>India</td><td>Restaurant</td><td>2023</td><td>1</td><td>1</td></tr><tr><td>1</td><td>B</td><td>2023-02-11</td><td>India</td><td>Swiggy</td><td>2023</td><td>2</td><td>1</td></tr><tr><td>3</td><td>B</td><td>2023-01-16</td><td>India</td><td>zomato</td><td>2023</td><td>1</td><td>1</td></tr><tr><td>3</td><td>B</td><td>2022-02-01</td><td>India</td><td>zomato</td><td>2022</td><td>2</td><td>1</td></tr><tr><td>3</td><td>C</td><td>2023-01-01</td><td>India</td><td>zomato</td><td>2023</td><td>1</td><td>1</td></tr><tr><td>1</td><td>C</td><td>2023-01-01</td><td>UK</td><td>Swiggy</td><td>2023</td><td>1</td><td>1</td></tr><tr><td>6</td><td>C</td><td>2022-01-07</td><td>UK</td><td>zomato</td><td>2022</td><td>1</td><td>1</td></tr><tr><td>3</td><td>D</td><td>2023-02-16</td><td>UK</td><td>Restaurant</td><td>2023</td><td>2</td><td>1</td></tr><tr><td>5</td><td>D</td><td>2022-02-01</td><td>UK</td><td>zomato</td><td>2022</td><td>2</td><td>1</td></tr><tr><td>3</td><td>E</td><td>2023-02-01</td><td>UK</td><td>Restaurant</td><td>2023</td><td>2</td><td>1</td></tr><tr><td>4</td><td>E</td><td>2023-02-01</td><td>UK</td><td>Swiggy</td><td>2023</td><td>2</td><td>1</td></tr><tr><td>4</td><td>E</td><td>2023-02-07</td><td>UK</td><td>Restaurant</td><td>2023</td><td>2</td><td>1</td></tr><tr><td>2</td><td>A</td><td>2022-01-01</td><td>UK</td><td>Swiggy</td><td>2022</td><td>1</td><td>1</td></tr><tr><td>2</td><td>A</td><td>2023-01-07</td><td>UK</td><td>Swiggy</td><td>2023</td><td>1</td><td>1</td></tr><tr><td>3</td><td>A</td><td>2023-01-10</td><td>UK</td><td>Restaurant</td><td>2023</td><td>1</td><td>1</td></tr><tr><td>3</td><td>A</td><td>2022-01-11</td><td>UK</td><td>Swiggy</td><td>2022</td><td>1</td><td>1</td></tr><tr><td>3</td><td>A</td><td>2023-01-11</td><td>UK</td><td>zomato</td><td>2023</td><td>1</td><td>1</td></tr><tr><td>2</td><td>B</td><td>2022-03-01</td><td>UK</td><td>zomato</td><td>2022</td><td>3</td><td>1</td></tr><tr><td>2</td><td>B</td><td>2023-01-02</td><td>UK</td><td>zomato</td><td>2023</td><td>1</td><td>1</td></tr><tr><td>1</td><td>B</td><td>2023-01-04</td><td>UK</td><td>Swiggy</td><td>2023</td><td>1</td><td>1</td></tr><tr><td>1</td><td>B</td><td>2023-03-11</td><td>UK</td><td>Restaurant</td><td>2023</td><td>3</td><td>1</td></tr><tr><td>3</td><td>B</td><td>2023-01-16</td><td>UK</td><td>Swiggy</td><td>2023</td><td>1</td><td>1</td></tr><tr><td>3</td><td>B</td><td>2023-03-01</td><td>UK</td><td>Swiggy</td><td>2023</td><td>3</td><td>1</td></tr><tr><td>3</td><td>C</td><td>2023-01-01</td><td>UK</td><td>Restaurant</td><td>2023</td><td>1</td><td>1</td></tr><tr><td>1</td><td>C</td><td>2023-01-01</td><td>USA</td><td>Swiggy</td><td>2023</td><td>1</td><td>1</td></tr><tr><td>6</td><td>C</td><td>2023-01-07</td><td>USA</td><td>zomato</td><td>2023</td><td>1</td><td>1</td></tr><tr><td>3</td><td>D</td><td>2022-03-16</td><td>USA</td><td>zomato</td><td>2022</td><td>3</td><td>1</td></tr><tr><td>5</td><td>D</td><td>2023-03-01</td><td>USA</td><td>zomato</td><td>2023</td><td>3</td><td>1</td></tr><tr><td>3</td><td>E</td><td>2023-03-01</td><td>USA</td><td>Swiggy</td><td>2023</td><td>3</td><td>1</td></tr><tr><td>4</td><td>E</td><td>2022-03-01</td><td>USA</td><td>zomato</td><td>2022</td><td>3</td><td>1</td></tr><tr><td>4</td><td>E</td><td>2023-03-07</td><td>USA</td><td>zomato</td><td>2023</td><td>3</td><td>1</td></tr><tr><td>1</td><td>A</td><td>2023-05-05</td><td>India</td><td>Swiggy</td><td>2023</td><td>5</td><td>2</td></tr><tr><td>2</td><td>A</td><td>2022-05-05</td><td>India</td><td>Swiggy</td><td>2022</td><td>5</td><td>2</td></tr><tr><td>2</td><td>A</td><td>2023-05-07</td><td>India</td><td>Swiggy</td><td>2023</td><td>5</td><td>2</td></tr><tr><td>3</td><td>A</td><td>2023-05-10</td><td>India</td><td>Restaurant</td><td>2023</td><td>5</td><td>2</td></tr><tr><td>3</td><td>A</td><td>2022-05-11</td><td>India</td><td>Swiggy</td><td>2022</td><td>5</td><td>2</td></tr><tr><td>3</td><td>A</td><td>2023-05-11</td><td>India</td><td>Restaurant</td><td>2023</td><td>5</td><td>2</td></tr><tr><td>2</td><td>B</td><td>2022-02-05</td><td>India</td><td>Swiggy</td><td>2022</td><td>2</td><td>1</td></tr><tr><td>2</td><td>B</td><td>2023-05-02</td><td>India</td><td>Swiggy</td><td>2023</td><td>5</td><td>2</td></tr><tr><td>1</td><td>B</td><td>2023-05-04</td><td>India</td><td>Restaurant</td><td>2023</td><td>5</td><td>2</td></tr><tr><td>1</td><td>B</td><td>2023-02-11</td><td>India</td><td>Swiggy</td><td>2023</td><td>2</td><td>1</td></tr><tr><td>3</td><td>B</td><td>2023-05-16</td><td>India</td><td>zomato</td><td>2023</td><td>5</td><td>2</td></tr><tr><td>3</td><td>B</td><td>2022-02-05</td><td>India</td><td>zomato</td><td>2022</td><td>2</td><td>1</td></tr><tr><td>3</td><td>C</td><td>2023-05-05</td><td>India</td><td>zomato</td><td>2023</td><td>5</td><td>2</td></tr><tr><td>1</td><td>C</td><td>2023-05-05</td><td>UK</td><td>Swiggy</td><td>2023</td><td>5</td><td>2</td></tr><tr><td>6</td><td>C</td><td>2022-05-07</td><td>UK</td><td>zomato</td><td>2022</td><td>5</td><td>2</td></tr><tr><td>3</td><td>D</td><td>2023-02-16</td><td>UK</td><td>Restaurant</td><td>2023</td><td>2</td><td>1</td></tr><tr><td>5</td><td>D</td><td>2022-02-05</td><td>UK</td><td>zomato</td><td>2022</td><td>2</td><td>1</td></tr><tr><td>3</td><td>E</td><td>2023-02-05</td><td>UK</td><td>Restaurant</td><td>2023</td><td>2</td><td>1</td></tr><tr><td>4</td><td>E</td><td>2023-02-05</td><td>UK</td><td>Swiggy</td><td>2023</td><td>2</td><td>1</td></tr><tr><td>4</td><td>E</td><td>2023-02-07</td><td>UK</td><td>Restaurant</td><td>2023</td><td>2</td><td>1</td></tr><tr><td>2</td><td>A</td><td>2022-05-05</td><td>UK</td><td>Swiggy</td><td>2022</td><td>5</td><td>2</td></tr><tr><td>2</td><td>A</td><td>2023-05-07</td><td>UK</td><td>Swiggy</td><td>2023</td><td>5</td><td>2</td></tr><tr><td>3</td><td>A</td><td>2023-05-10</td><td>UK</td><td>Restaurant</td><td>2023</td><td>5</td><td>2</td></tr><tr><td>3</td><td>A</td><td>2022-05-11</td><td>UK</td><td>Swiggy</td><td>2022</td><td>5</td><td>2</td></tr><tr><td>3</td><td>A</td><td>2023-05-11</td><td>UK</td><td>zomato</td><td>2023</td><td>5</td><td>2</td></tr><tr><td>2</td><td>B</td><td>2022-07-05</td><td>UK</td><td>zomato</td><td>2022</td><td>7</td><td>3</td></tr><tr><td>2</td><td>B</td><td>2023-05-02</td><td>UK</td><td>zomato</td><td>2023</td><td>5</td><td>2</td></tr><tr><td>1</td><td>B</td><td>2023-05-04</td><td>UK</td><td>Swiggy</td><td>2023</td><td>5</td><td>2</td></tr><tr><td>1</td><td>B</td><td>2023-07-11</td><td>UK</td><td>Restaurant</td><td>2023</td><td>7</td><td>3</td></tr><tr><td>3</td><td>B</td><td>2023-05-16</td><td>UK</td><td>Swiggy</td><td>2023</td><td>5</td><td>2</td></tr><tr><td>3</td><td>B</td><td>2023-07-05</td><td>UK</td><td>Swiggy</td><td>2023</td><td>7</td><td>3</td></tr><tr><td>3</td><td>C</td><td>2023-05-05</td><td>UK</td><td>Restaurant</td><td>2023</td><td>5</td><td>2</td></tr><tr><td>1</td><td>C</td><td>2023-05-05</td><td>USA</td><td>Swiggy</td><td>2023</td><td>5</td><td>2</td></tr><tr><td>6</td><td>C</td><td>2023-05-07</td><td>USA</td><td>zomato</td><td>2023</td><td>5</td><td>2</td></tr><tr><td>3</td><td>D</td><td>2022-07-16</td><td>USA</td><td>zomato</td><td>2022</td><td>7</td><td>3</td></tr><tr><td>5</td><td>D</td><td>2023-07-05</td><td>USA</td><td>zomato</td><td>2023</td><td>7</td><td>3</td></tr><tr><td>3</td><td>E</td><td>2023-07-05</td><td>USA</td><td>Swiggy</td><td>2023</td><td>7</td><td>3</td></tr><tr><td>4</td><td>E</td><td>2022-07-05</td><td>USA</td><td>zomato</td><td>2022</td><td>7</td><td>3</td></tr><tr><td>4</td><td>E</td><td>2023-07-07</td><td>USA</td><td>zomato</td><td>2023</td><td>7</td><td>3</td></tr><tr><td>1</td><td>A</td><td>2023-06-06</td><td>India</td><td>Swiggy</td><td>2023</td><td>6</td><td>2</td></tr><tr><td>2</td><td>A</td><td>2022-06-06</td><td>India</td><td>Swiggy</td><td>2022</td><td>6</td><td>2</td></tr><tr><td>2</td><td>A</td><td>2023-06-11</td><td>India</td><td>Swiggy</td><td>2023</td><td>6</td><td>2</td></tr><tr><td>3</td><td>A</td><td>2023-06-10</td><td>India</td><td>Restaurant</td><td>2023</td><td>6</td><td>2</td></tr><tr><td>3</td><td>A</td><td>2022-06-11</td><td>India</td><td>Swiggy</td><td>2022</td><td>6</td><td>2</td></tr><tr><td>3</td><td>A</td><td>2023-06-11</td><td>India</td><td>Restaurant</td><td>2023</td><td>6</td><td>2</td></tr><tr><td>2</td><td>B</td><td>2022-02-06</td><td>India</td><td>Swiggy</td><td>2022</td><td>2</td><td>1</td></tr><tr><td>2</td><td>B</td><td>2023-06-02</td><td>India</td><td>Swiggy</td><td>2023</td><td>6</td><td>2</td></tr><tr><td>1</td><td>B</td><td>2023-06-04</td><td>India</td><td>Restaurant</td><td>2023</td><td>6</td><td>2</td></tr><tr><td>1</td><td>B</td><td>2023-02-11</td><td>India</td><td>Swiggy</td><td>2023</td><td>2</td><td>1</td></tr><tr><td>3</td><td>B</td><td>2023-06-16</td><td>India</td><td>zomato</td><td>2023</td><td>6</td><td>2</td></tr><tr><td>3</td><td>B</td><td>2022-02-06</td><td>India</td><td>zomato</td><td>2022</td><td>2</td><td>1</td></tr><tr><td>3</td><td>C</td><td>2023-06-06</td><td>India</td><td>zomato</td><td>2023</td><td>6</td><td>2</td></tr><tr><td>1</td><td>C</td><td>2023-06-06</td><td>UK</td><td>Swiggy</td><td>2023</td><td>6</td><td>2</td></tr><tr><td>6</td><td>C</td><td>2022-06-11</td><td>UK</td><td>zomato</td><td>2022</td><td>6</td><td>2</td></tr><tr><td>3</td><td>D</td><td>2023-02-16</td><td>UK</td><td>Restaurant</td><td>2023</td><td>2</td><td>1</td></tr><tr><td>5</td><td>D</td><td>2022-02-06</td><td>UK</td><td>zomato</td><td>2022</td><td>2</td><td>1</td></tr><tr><td>3</td><td>E</td><td>2023-02-06</td><td>UK</td><td>Restaurant</td><td>2023</td><td>2</td><td>1</td></tr><tr><td>4</td><td>E</td><td>2023-02-06</td><td>UK</td><td>Swiggy</td><td>2023</td><td>2</td><td>1</td></tr><tr><td>4</td><td>E</td><td>2023-02-11</td><td>UK</td><td>Restaurant</td><td>2023</td><td>2</td><td>1</td></tr><tr><td>2</td><td>A</td><td>2022-06-06</td><td>UK</td><td>Swiggy</td><td>2022</td><td>6</td><td>2</td></tr><tr><td>2</td><td>A</td><td>2023-06-11</td><td>UK</td><td>Swiggy</td><td>2023</td><td>6</td><td>2</td></tr><tr><td>3</td><td>A</td><td>2023-06-10</td><td>UK</td><td>Restaurant</td><td>2023</td><td>6</td><td>2</td></tr><tr><td>3</td><td>A</td><td>2022-06-11</td><td>UK</td><td>Swiggy</td><td>2022</td><td>6</td><td>2</td></tr><tr><td>3</td><td>A</td><td>2023-06-11</td><td>UK</td><td>zomato</td><td>2023</td><td>6</td><td>2</td></tr><tr><td>2</td><td>B</td><td>2022-11-06</td><td>UK</td><td>zomato</td><td>2022</td><td>11</td><td>4</td></tr><tr><td>2</td><td>B</td><td>2023-06-02</td><td>UK</td><td>zomato</td><td>2023</td><td>6</td><td>2</td></tr><tr><td>1</td><td>B</td><td>2023-06-04</td><td>UK</td><td>Swiggy</td><td>2023</td><td>6</td><td>2</td></tr><tr><td>1</td><td>B</td><td>2023-11-11</td><td>UK</td><td>Restaurant</td><td>2023</td><td>11</td><td>4</td></tr><tr><td>3</td><td>B</td><td>2023-06-16</td><td>UK</td><td>Swiggy</td><td>2023</td><td>6</td><td>2</td></tr><tr><td>3</td><td>B</td><td>2023-11-06</td><td>UK</td><td>Swiggy</td><td>2023</td><td>11</td><td>4</td></tr><tr><td>3</td><td>C</td><td>2023-06-06</td><td>UK</td><td>Restaurant</td><td>2023</td><td>6</td><td>2</td></tr><tr><td>1</td><td>C</td><td>2023-06-06</td><td>USA</td><td>Swiggy</td><td>2023</td><td>6</td><td>2</td></tr><tr><td>6</td><td>C</td><td>2023-06-11</td><td>USA</td><td>zomato</td><td>2023</td><td>6</td><td>2</td></tr><tr><td>3</td><td>D</td><td>2022-11-16</td><td>USA</td><td>zomato</td><td>2022</td><td>11</td><td>4</td></tr><tr><td>5</td><td>D</td><td>2023-11-06</td><td>USA</td><td>zomato</td><td>2023</td><td>11</td><td>4</td></tr><tr><td>3</td><td>E</td><td>2023-11-06</td><td>USA</td><td>Swiggy</td><td>2023</td><td>11</td><td>4</td></tr><tr><td>4</td><td>E</td><td>2022-11-06</td><td>USA</td><td>zomato</td><td>2022</td><td>11</td><td>4</td></tr><tr><td>4</td><td>E</td><td>2023-11-11</td><td>USA</td><td>zomato</td><td>2023</td><td>11</td><td>4</td></tr></tbody></table></div>"
      ]
     },
     "metadata": {
      "application/vnd.databricks.v1+output": {
       "addedWidgets": {},
       "aggData": [],
       "aggError": "",
       "aggOverflow": false,
       "aggSchema": [],
       "aggSeriesLimitReached": false,
       "aggType": "",
       "arguments": {},
       "columnCustomDisplayInfos": {},
       "data": [
        [
         1,
         "A",
         "2023-01-01",
         "India",
         "Swiggy",
         2023,
         1,
         1
        ],
        [
         2,
         "A",
         "2022-01-01",
         "India",
         "Swiggy",
         2022,
         1,
         1
        ],
        [
         2,
         "A",
         "2023-01-07",
         "India",
         "Swiggy",
         2023,
         1,
         1
        ],
        [
         3,
         "A",
         "2023-01-10",
         "India",
         "Restaurant",
         2023,
         1,
         1
        ],
        [
         3,
         "A",
         "2022-01-11",
         "India",
         "Swiggy",
         2022,
         1,
         1
        ],
        [
         3,
         "A",
         "2023-01-11",
         "India",
         "Restaurant",
         2023,
         1,
         1
        ],
        [
         2,
         "B",
         "2022-02-01",
         "India",
         "Swiggy",
         2022,
         2,
         1
        ],
        [
         2,
         "B",
         "2023-01-02",
         "India",
         "Swiggy",
         2023,
         1,
         1
        ],
        [
         1,
         "B",
         "2023-01-04",
         "India",
         "Restaurant",
         2023,
         1,
         1
        ],
        [
         1,
         "B",
         "2023-02-11",
         "India",
         "Swiggy",
         2023,
         2,
         1
        ],
        [
         3,
         "B",
         "2023-01-16",
         "India",
         "zomato",
         2023,
         1,
         1
        ],
        [
         3,
         "B",
         "2022-02-01",
         "India",
         "zomato",
         2022,
         2,
         1
        ],
        [
         3,
         "C",
         "2023-01-01",
         "India",
         "zomato",
         2023,
         1,
         1
        ],
        [
         1,
         "C",
         "2023-01-01",
         "UK",
         "Swiggy",
         2023,
         1,
         1
        ],
        [
         6,
         "C",
         "2022-01-07",
         "UK",
         "zomato",
         2022,
         1,
         1
        ],
        [
         3,
         "D",
         "2023-02-16",
         "UK",
         "Restaurant",
         2023,
         2,
         1
        ],
        [
         5,
         "D",
         "2022-02-01",
         "UK",
         "zomato",
         2022,
         2,
         1
        ],
        [
         3,
         "E",
         "2023-02-01",
         "UK",
         "Restaurant",
         2023,
         2,
         1
        ],
        [
         4,
         "E",
         "2023-02-01",
         "UK",
         "Swiggy",
         2023,
         2,
         1
        ],
        [
         4,
         "E",
         "2023-02-07",
         "UK",
         "Restaurant",
         2023,
         2,
         1
        ],
        [
         2,
         "A",
         "2022-01-01",
         "UK",
         "Swiggy",
         2022,
         1,
         1
        ],
        [
         2,
         "A",
         "2023-01-07",
         "UK",
         "Swiggy",
         2023,
         1,
         1
        ],
        [
         3,
         "A",
         "2023-01-10",
         "UK",
         "Restaurant",
         2023,
         1,
         1
        ],
        [
         3,
         "A",
         "2022-01-11",
         "UK",
         "Swiggy",
         2022,
         1,
         1
        ],
        [
         3,
         "A",
         "2023-01-11",
         "UK",
         "zomato",
         2023,
         1,
         1
        ],
        [
         2,
         "B",
         "2022-03-01",
         "UK",
         "zomato",
         2022,
         3,
         1
        ],
        [
         2,
         "B",
         "2023-01-02",
         "UK",
         "zomato",
         2023,
         1,
         1
        ],
        [
         1,
         "B",
         "2023-01-04",
         "UK",
         "Swiggy",
         2023,
         1,
         1
        ],
        [
         1,
         "B",
         "2023-03-11",
         "UK",
         "Restaurant",
         2023,
         3,
         1
        ],
        [
         3,
         "B",
         "2023-01-16",
         "UK",
         "Swiggy",
         2023,
         1,
         1
        ],
        [
         3,
         "B",
         "2023-03-01",
         "UK",
         "Swiggy",
         2023,
         3,
         1
        ],
        [
         3,
         "C",
         "2023-01-01",
         "UK",
         "Restaurant",
         2023,
         1,
         1
        ],
        [
         1,
         "C",
         "2023-01-01",
         "USA",
         "Swiggy",
         2023,
         1,
         1
        ],
        [
         6,
         "C",
         "2023-01-07",
         "USA",
         "zomato",
         2023,
         1,
         1
        ],
        [
         3,
         "D",
         "2022-03-16",
         "USA",
         "zomato",
         2022,
         3,
         1
        ],
        [
         5,
         "D",
         "2023-03-01",
         "USA",
         "zomato",
         2023,
         3,
         1
        ],
        [
         3,
         "E",
         "2023-03-01",
         "USA",
         "Swiggy",
         2023,
         3,
         1
        ],
        [
         4,
         "E",
         "2022-03-01",
         "USA",
         "zomato",
         2022,
         3,
         1
        ],
        [
         4,
         "E",
         "2023-03-07",
         "USA",
         "zomato",
         2023,
         3,
         1
        ],
        [
         1,
         "A",
         "2023-05-05",
         "India",
         "Swiggy",
         2023,
         5,
         2
        ],
        [
         2,
         "A",
         "2022-05-05",
         "India",
         "Swiggy",
         2022,
         5,
         2
        ],
        [
         2,
         "A",
         "2023-05-07",
         "India",
         "Swiggy",
         2023,
         5,
         2
        ],
        [
         3,
         "A",
         "2023-05-10",
         "India",
         "Restaurant",
         2023,
         5,
         2
        ],
        [
         3,
         "A",
         "2022-05-11",
         "India",
         "Swiggy",
         2022,
         5,
         2
        ],
        [
         3,
         "A",
         "2023-05-11",
         "India",
         "Restaurant",
         2023,
         5,
         2
        ],
        [
         2,
         "B",
         "2022-02-05",
         "India",
         "Swiggy",
         2022,
         2,
         1
        ],
        [
         2,
         "B",
         "2023-05-02",
         "India",
         "Swiggy",
         2023,
         5,
         2
        ],
        [
         1,
         "B",
         "2023-05-04",
         "India",
         "Restaurant",
         2023,
         5,
         2
        ],
        [
         1,
         "B",
         "2023-02-11",
         "India",
         "Swiggy",
         2023,
         2,
         1
        ],
        [
         3,
         "B",
         "2023-05-16",
         "India",
         "zomato",
         2023,
         5,
         2
        ],
        [
         3,
         "B",
         "2022-02-05",
         "India",
         "zomato",
         2022,
         2,
         1
        ],
        [
         3,
         "C",
         "2023-05-05",
         "India",
         "zomato",
         2023,
         5,
         2
        ],
        [
         1,
         "C",
         "2023-05-05",
         "UK",
         "Swiggy",
         2023,
         5,
         2
        ],
        [
         6,
         "C",
         "2022-05-07",
         "UK",
         "zomato",
         2022,
         5,
         2
        ],
        [
         3,
         "D",
         "2023-02-16",
         "UK",
         "Restaurant",
         2023,
         2,
         1
        ],
        [
         5,
         "D",
         "2022-02-05",
         "UK",
         "zomato",
         2022,
         2,
         1
        ],
        [
         3,
         "E",
         "2023-02-05",
         "UK",
         "Restaurant",
         2023,
         2,
         1
        ],
        [
         4,
         "E",
         "2023-02-05",
         "UK",
         "Swiggy",
         2023,
         2,
         1
        ],
        [
         4,
         "E",
         "2023-02-07",
         "UK",
         "Restaurant",
         2023,
         2,
         1
        ],
        [
         2,
         "A",
         "2022-05-05",
         "UK",
         "Swiggy",
         2022,
         5,
         2
        ],
        [
         2,
         "A",
         "2023-05-07",
         "UK",
         "Swiggy",
         2023,
         5,
         2
        ],
        [
         3,
         "A",
         "2023-05-10",
         "UK",
         "Restaurant",
         2023,
         5,
         2
        ],
        [
         3,
         "A",
         "2022-05-11",
         "UK",
         "Swiggy",
         2022,
         5,
         2
        ],
        [
         3,
         "A",
         "2023-05-11",
         "UK",
         "zomato",
         2023,
         5,
         2
        ],
        [
         2,
         "B",
         "2022-07-05",
         "UK",
         "zomato",
         2022,
         7,
         3
        ],
        [
         2,
         "B",
         "2023-05-02",
         "UK",
         "zomato",
         2023,
         5,
         2
        ],
        [
         1,
         "B",
         "2023-05-04",
         "UK",
         "Swiggy",
         2023,
         5,
         2
        ],
        [
         1,
         "B",
         "2023-07-11",
         "UK",
         "Restaurant",
         2023,
         7,
         3
        ],
        [
         3,
         "B",
         "2023-05-16",
         "UK",
         "Swiggy",
         2023,
         5,
         2
        ],
        [
         3,
         "B",
         "2023-07-05",
         "UK",
         "Swiggy",
         2023,
         7,
         3
        ],
        [
         3,
         "C",
         "2023-05-05",
         "UK",
         "Restaurant",
         2023,
         5,
         2
        ],
        [
         1,
         "C",
         "2023-05-05",
         "USA",
         "Swiggy",
         2023,
         5,
         2
        ],
        [
         6,
         "C",
         "2023-05-07",
         "USA",
         "zomato",
         2023,
         5,
         2
        ],
        [
         3,
         "D",
         "2022-07-16",
         "USA",
         "zomato",
         2022,
         7,
         3
        ],
        [
         5,
         "D",
         "2023-07-05",
         "USA",
         "zomato",
         2023,
         7,
         3
        ],
        [
         3,
         "E",
         "2023-07-05",
         "USA",
         "Swiggy",
         2023,
         7,
         3
        ],
        [
         4,
         "E",
         "2022-07-05",
         "USA",
         "zomato",
         2022,
         7,
         3
        ],
        [
         4,
         "E",
         "2023-07-07",
         "USA",
         "zomato",
         2023,
         7,
         3
        ],
        [
         1,
         "A",
         "2023-06-06",
         "India",
         "Swiggy",
         2023,
         6,
         2
        ],
        [
         2,
         "A",
         "2022-06-06",
         "India",
         "Swiggy",
         2022,
         6,
         2
        ],
        [
         2,
         "A",
         "2023-06-11",
         "India",
         "Swiggy",
         2023,
         6,
         2
        ],
        [
         3,
         "A",
         "2023-06-10",
         "India",
         "Restaurant",
         2023,
         6,
         2
        ],
        [
         3,
         "A",
         "2022-06-11",
         "India",
         "Swiggy",
         2022,
         6,
         2
        ],
        [
         3,
         "A",
         "2023-06-11",
         "India",
         "Restaurant",
         2023,
         6,
         2
        ],
        [
         2,
         "B",
         "2022-02-06",
         "India",
         "Swiggy",
         2022,
         2,
         1
        ],
        [
         2,
         "B",
         "2023-06-02",
         "India",
         "Swiggy",
         2023,
         6,
         2
        ],
        [
         1,
         "B",
         "2023-06-04",
         "India",
         "Restaurant",
         2023,
         6,
         2
        ],
        [
         1,
         "B",
         "2023-02-11",
         "India",
         "Swiggy",
         2023,
         2,
         1
        ],
        [
         3,
         "B",
         "2023-06-16",
         "India",
         "zomato",
         2023,
         6,
         2
        ],
        [
         3,
         "B",
         "2022-02-06",
         "India",
         "zomato",
         2022,
         2,
         1
        ],
        [
         3,
         "C",
         "2023-06-06",
         "India",
         "zomato",
         2023,
         6,
         2
        ],
        [
         1,
         "C",
         "2023-06-06",
         "UK",
         "Swiggy",
         2023,
         6,
         2
        ],
        [
         6,
         "C",
         "2022-06-11",
         "UK",
         "zomato",
         2022,
         6,
         2
        ],
        [
         3,
         "D",
         "2023-02-16",
         "UK",
         "Restaurant",
         2023,
         2,
         1
        ],
        [
         5,
         "D",
         "2022-02-06",
         "UK",
         "zomato",
         2022,
         2,
         1
        ],
        [
         3,
         "E",
         "2023-02-06",
         "UK",
         "Restaurant",
         2023,
         2,
         1
        ],
        [
         4,
         "E",
         "2023-02-06",
         "UK",
         "Swiggy",
         2023,
         2,
         1
        ],
        [
         4,
         "E",
         "2023-02-11",
         "UK",
         "Restaurant",
         2023,
         2,
         1
        ],
        [
         2,
         "A",
         "2022-06-06",
         "UK",
         "Swiggy",
         2022,
         6,
         2
        ],
        [
         2,
         "A",
         "2023-06-11",
         "UK",
         "Swiggy",
         2023,
         6,
         2
        ],
        [
         3,
         "A",
         "2023-06-10",
         "UK",
         "Restaurant",
         2023,
         6,
         2
        ],
        [
         3,
         "A",
         "2022-06-11",
         "UK",
         "Swiggy",
         2022,
         6,
         2
        ],
        [
         3,
         "A",
         "2023-06-11",
         "UK",
         "zomato",
         2023,
         6,
         2
        ],
        [
         2,
         "B",
         "2022-11-06",
         "UK",
         "zomato",
         2022,
         11,
         4
        ],
        [
         2,
         "B",
         "2023-06-02",
         "UK",
         "zomato",
         2023,
         6,
         2
        ],
        [
         1,
         "B",
         "2023-06-04",
         "UK",
         "Swiggy",
         2023,
         6,
         2
        ],
        [
         1,
         "B",
         "2023-11-11",
         "UK",
         "Restaurant",
         2023,
         11,
         4
        ],
        [
         3,
         "B",
         "2023-06-16",
         "UK",
         "Swiggy",
         2023,
         6,
         2
        ],
        [
         3,
         "B",
         "2023-11-06",
         "UK",
         "Swiggy",
         2023,
         11,
         4
        ],
        [
         3,
         "C",
         "2023-06-06",
         "UK",
         "Restaurant",
         2023,
         6,
         2
        ],
        [
         1,
         "C",
         "2023-06-06",
         "USA",
         "Swiggy",
         2023,
         6,
         2
        ],
        [
         6,
         "C",
         "2023-06-11",
         "USA",
         "zomato",
         2023,
         6,
         2
        ],
        [
         3,
         "D",
         "2022-11-16",
         "USA",
         "zomato",
         2022,
         11,
         4
        ],
        [
         5,
         "D",
         "2023-11-06",
         "USA",
         "zomato",
         2023,
         11,
         4
        ],
        [
         3,
         "E",
         "2023-11-06",
         "USA",
         "Swiggy",
         2023,
         11,
         4
        ],
        [
         4,
         "E",
         "2022-11-06",
         "USA",
         "zomato",
         2022,
         11,
         4
        ],
        [
         4,
         "E",
         "2023-11-11",
         "USA",
         "zomato",
         2023,
         11,
         4
        ]
       ],
       "datasetInfos": [],
       "dbfsResultPath": null,
       "isJsonSchema": true,
       "metadata": {},
       "overflow": false,
       "plotOptions": {
        "customPlotOptions": {},
        "displayType": "table",
        "pivotAggregation": null,
        "pivotColumns": null,
        "xColumns": null,
        "yColumns": null
       },
       "removedWidgets": [],
       "schema": [
        {
         "metadata": "{}",
         "name": "product_id",
         "type": "\"integer\""
        },
        {
         "metadata": "{}",
         "name": "customer_id",
         "type": "\"string\""
        },
        {
         "metadata": "{}",
         "name": "order_date",
         "type": "\"date\""
        },
        {
         "metadata": "{}",
         "name": "location",
         "type": "\"string\""
        },
        {
         "metadata": "{}",
         "name": "source_order",
         "type": "\"string\""
        },
        {
         "metadata": "{}",
         "name": "order_year",
         "type": "\"integer\""
        },
        {
         "metadata": "{}",
         "name": "order_month",
         "type": "\"integer\""
        },
        {
         "metadata": "{}",
         "name": "order_quarter",
         "type": "\"integer\""
        }
       ],
       "type": "table"
      }
     },
     "output_type": "display_data"
    }
   ],
   "source": [
    "from pyspark.sql.functions import month, year, quarter\n",
    "\n",
    "sales_df=sales_df.withColumn(\"order_month\",month(sales_df.order_date))\n",
    "sales_df=sales_df.withColumn(\"order_quarter\",quarter(sales_df.order_date))\n",
    "display(sales_df)"
   ]
  },
  {
   "cell_type": "code",
   "execution_count": 0,
   "metadata": {
    "application/vnd.databricks.v1+cell": {
     "cellMetadata": {
      "byteLimit": 2048000,
      "rowLimit": 10000
     },
     "inputWidgets": {},
     "nuid": "34befe8d-f47c-42ea-89b6-806189ac327e",
     "showTitle": false,
     "tableResultSettingsMap": {},
     "title": ""
    }
   },
   "outputs": [
    {
     "output_type": "display_data",
     "data": {
      "text/html": [
       "<style scoped>\n",
       "  .table-result-container {\n",
       "    max-height: 300px;\n",
       "    overflow: auto;\n",
       "  }\n",
       "  table, th, td {\n",
       "    border: 1px solid black;\n",
       "    border-collapse: collapse;\n",
       "  }\n",
       "  th, td {\n",
       "    padding: 5px;\n",
       "  }\n",
       "  th {\n",
       "    text-align: left;\n",
       "  }\n",
       "</style><div class='table-result-container'><table class='table-result'><thead style='background-color: white'><tr><th>product_id</th><th>product_name</th><th>price</th></tr></thead><tbody><tr><td>1</td><td> PIZZA</td><td> 100</td></tr><tr><td>2</td><td> Chowmin</td><td> 150</td></tr><tr><td>3</td><td> sandwich</td><td> 120</td></tr><tr><td>4</td><td> Dosa</td><td> 110</td></tr><tr><td>5</td><td> Biryani</td><td> 80</td></tr><tr><td>6</td><td> Pasta</td><td> 180</td></tr></tbody></table></div>"
      ]
     },
     "metadata": {
      "application/vnd.databricks.v1+output": {
       "addedWidgets": {},
       "aggData": [],
       "aggError": "",
       "aggOverflow": false,
       "aggSchema": [],
       "aggSeriesLimitReached": false,
       "aggType": "",
       "arguments": {},
       "columnCustomDisplayInfos": {},
       "data": [
        [
         1,
         " PIZZA",
         " 100"
        ],
        [
         2,
         " Chowmin",
         " 150"
        ],
        [
         3,
         " sandwich",
         " 120"
        ],
        [
         4,
         " Dosa",
         " 110"
        ],
        [
         5,
         " Biryani",
         " 80"
        ],
        [
         6,
         " Pasta",
         " 180"
        ]
       ],
       "datasetInfos": [],
       "dbfsResultPath": null,
       "isJsonSchema": true,
       "metadata": {},
       "overflow": false,
       "plotOptions": {
        "customPlotOptions": {},
        "displayType": "table",
        "pivotAggregation": null,
        "pivotColumns": null,
        "xColumns": null,
        "yColumns": null
       },
       "removedWidgets": [],
       "schema": [
        {
         "metadata": "{}",
         "name": "product_id",
         "type": "\"integer\""
        },
        {
         "metadata": "{}",
         "name": "product_name",
         "type": "\"string\""
        },
        {
         "metadata": "{}",
         "name": "price",
         "type": "\"string\""
        }
       ],
       "type": "table"
      }
     },
     "output_type": "display_data"
    }
   ],
   "source": [
    "from pyspark.sql.types import StructType,StructField,IntegerType,StringType,DateType\n",
    "\n",
    "schema=StructType([\n",
    "    StructField(\"product_id\",IntegerType(),True),\n",
    "    StructField(\"product_name\",StringType(),True),\n",
    "    StructField(\"price\",StringType(),True),\n",
    "])\n",
    "\n",
    "menu_df=spark.read.format(\"csv\").option(\"inferschema\",\"true\").schema(schema).load(\"/FileStore/tables/menu_csv.txt\")\n",
    "display(menu_df)"
   ]
  },
  {
   "cell_type": "code",
   "execution_count": 0,
   "metadata": {
    "application/vnd.databricks.v1+cell": {
     "cellMetadata": {
      "byteLimit": 2048000,
      "rowLimit": 10000
     },
     "inputWidgets": {},
     "nuid": "3b7f52a8-6dda-4fc2-9442-046ddb643b05",
     "showTitle": false,
     "tableResultSettingsMap": {},
     "title": ""
    }
   },
   "outputs": [
    {
     "output_type": "display_data",
     "data": {
      "text/html": [
       "<style scoped>\n",
       "  .table-result-container {\n",
       "    max-height: 300px;\n",
       "    overflow: auto;\n",
       "  }\n",
       "  table, th, td {\n",
       "    border: 1px solid black;\n",
       "    border-collapse: collapse;\n",
       "  }\n",
       "  th, td {\n",
       "    padding: 5px;\n",
       "  }\n",
       "  th {\n",
       "    text-align: left;\n",
       "  }\n",
       "</style><div class='table-result-container'><table class='table-result'><thead style='background-color: white'><tr><th>customer_id</th><th>sum(price)</th></tr></thead><tbody><tr><td>A</td><td>4260.0</td></tr><tr><td>B</td><td>4440.0</td></tr><tr><td>C</td><td>2400.0</td></tr><tr><td>D</td><td>1200.0</td></tr><tr><td>E</td><td>2040.0</td></tr></tbody></table></div>"
      ]
     },
     "metadata": {
      "application/vnd.databricks.v1+output": {
       "addedWidgets": {},
       "aggData": [],
       "aggError": "",
       "aggOverflow": false,
       "aggSchema": [],
       "aggSeriesLimitReached": false,
       "aggType": "",
       "arguments": {},
       "columnCustomDisplayInfos": {},
       "data": [
        [
         "A",
         4260.0
        ],
        [
         "B",
         4440.0
        ],
        [
         "C",
         2400.0
        ],
        [
         "D",
         1200.0
        ],
        [
         "E",
         2040.0
        ]
       ],
       "datasetInfos": [],
       "dbfsResultPath": null,
       "isJsonSchema": true,
       "metadata": {},
       "overflow": false,
       "plotOptions": {
        "customPlotOptions": {},
        "displayType": "table",
        "pivotAggregation": null,
        "pivotColumns": null,
        "xColumns": null,
        "yColumns": null
       },
       "removedWidgets": [],
       "schema": [
        {
         "metadata": "{}",
         "name": "customer_id",
         "type": "\"string\""
        },
        {
         "metadata": "{}",
         "name": "sum(price)",
         "type": "\"double\""
        }
       ],
       "type": "table"
      }
     },
     "output_type": "display_data"
    },
    {
     "output_type": "display_data",
     "data": {
      "text/plain": [
       "Databricks visualization. Run in Databricks to view."
      ]
     },
     "metadata": {
      "application/vnd.databricks.v1.subcommand+json": {
       "baseErrorDetails": null,
       "bindings": {},
       "collapsed": false,
       "command": "%python\n__backend_agg_display_orig = display\n__backend_agg_dfs = []\ndef __backend_agg_display_new(df):\n    __backend_agg_df_modules = [\"pandas.core.frame\", \"databricks.koalas.frame\", \"pyspark.sql.dataframe\", \"pyspark.pandas.frame\", \"pyspark.sql.connect.dataframe\"]\n    if (type(df).__module__ in __backend_agg_df_modules and type(df).__name__ == 'DataFrame') or isinstance(df, list):\n        __backend_agg_dfs.append(df)\n\ndisplay = __backend_agg_display_new\n\ndef __backend_agg_user_code_fn():\n    import base64\n    exec(base64.standard_b64decode(\"I1RvdGFsIGFtb3VudCBzcGVuZCBieSBlYWNoIGN1c3RvbWVyIAoKdG90YWxfYW1vdW50X3NwZW50ID0gKHNhbGVzX2RmLmpvaW4obWVudV9kZiwncHJvZHVjdF9pZCcpLmdyb3VwQnkoJ2N1c3RvbWVyX2lkJykuYWdnKHsncHJpY2UnOiAnc3VtJ30pCiAgICAgICAgICAgICAgICAub3JkZXJCeSgnY3VzdG9tZXJfaWQnKSkKZGlzcGxheSh0b3RhbF9hbW91bnRfc3BlbnQpICAgICAgICAgICAgICAgIA==\").decode())\n\ntry:\n    # run user code\n    __backend_agg_user_code_fn()\n\n    #reset display function\n    display = __backend_agg_display_orig\n\n    if len(__backend_agg_dfs) > 0:\n        # create a temp view\n        if type(__backend_agg_dfs[0]).__module__ == \"databricks.koalas.frame\":\n            # koalas dataframe\n            __backend_agg_dfs[0].to_spark().createOrReplaceTempView(\"DatabricksViewfd07145\")\n        elif type(__backend_agg_dfs[0]).__module__ == \"pandas.core.frame\" or isinstance(__backend_agg_dfs[0], list):\n            # pandas dataframe\n            spark.createDataFrame(__backend_agg_dfs[0]).createOrReplaceTempView(\"DatabricksViewfd07145\")\n        else:\n            __backend_agg_dfs[0].createOrReplaceTempView(\"DatabricksViewfd07145\")\n        #run backend agg\n        display(spark.sql(\"\"\"WITH q AS (select * from DatabricksViewfd07145) SELECT `customer_id`,SUM(`sum(price)`) `column_65b77e0819` FROM q GROUP BY `customer_id`\"\"\"))\n    else:\n        displayHTML(\"dataframe no longer exists. If you're using dataframe.display(), use display(dataframe) instead.\")\n\n\nfinally:\n    spark.sql(\"drop view if exists DatabricksViewfd07145\")\n    display = __backend_agg_display_orig\n    del __backend_agg_display_new\n    del __backend_agg_display_orig\n    del __backend_agg_dfs\n    del __backend_agg_user_code_fn\n\n",
       "commandTitle": "Visualization 1",
       "commandType": "auto",
       "commandVersion": 0,
       "commentThread": [],
       "commentsVisible": false,
       "contentSha256Hex": null,
       "customPlotOptions": {
        "redashChart": [
         {
          "key": "type",
          "value": "CHART"
         },
         {
          "key": "options",
          "value": {
           "alignYAxesAtZero": true,
           "coefficient": 1,
           "columnConfigurationMap": {
            "x": {
             "column": "customer_id",
             "id": "column_65b77e0818"
            },
            "y": [
             {
              "column": "sum(price)",
              "id": "column_65b77e0819",
              "transform": "SUM"
             }
            ]
           },
           "dateTimeFormat": "DD/MM/YYYY HH:mm",
           "direction": {
            "type": "counterclockwise"
           },
           "error_y": {
            "type": "data",
            "visible": true
           },
           "globalSeriesType": "column",
           "legend": {
            "traceorder": "normal"
           },
           "missingValuesAsZero": true,
           "numberFormat": "0,0.[00000]",
           "percentFormat": "0[.]00%",
           "series": {
            "error_y": {
             "type": "data",
             "visible": true
            },
            "stacking": null
           },
           "seriesOptions": {
            "column_65b77e0819": {
             "name": "sum(price)",
             "yAxis": 0
            }
           },
           "showDataLabels": false,
           "sizemode": "diameter",
           "sortX": true,
           "sortY": true,
           "swappedAxes": true,
           "textFormat": "",
           "useAggregationsUi": true,
           "valuesOptions": {},
           "version": 2,
           "xAxis": {
            "labels": {
             "enabled": true
            },
            "type": "-"
           },
           "yAxis": [
            {
             "type": "-"
            },
            {
             "opposite": true,
             "type": "-"
            }
           ]
          }
         }
        ]
       },
       "datasetPreviewNameToCmdIdMap": {},
       "diffDeletes": [],
       "diffInserts": [],
       "displayType": "redashChart",
       "error": null,
       "errorDetails": null,
       "errorSummary": null,
       "errorTraceType": null,
       "finishTime": 0,
       "globalVars": {},
       "guid": "",
       "height": "auto",
       "hideCommandCode": false,
       "hideCommandResult": false,
       "iPythonMetadata": null,
       "inputWidgets": {},
       "isLockedInExamMode": false,
       "latestUser": "a user",
       "latestUserId": null,
       "listResultMetadata": null,
       "metadata": {
        "byteLimit": 2048000,
        "rowLimit": 10000
       },
       "nuid": "12aeaf7d-7860-40f2-9206-86d996374561",
       "origId": 0,
       "parentHierarchy": [],
       "pivotAggregation": null,
       "pivotColumns": null,
       "position": 7.0,
       "resultDbfsErrorMessage": null,
       "resultDbfsStatus": "INLINED_IN_TREE",
       "results": null,
       "showCommandTitle": false,
       "startTime": 0,
       "state": "finished",
       "streamStates": {},
       "subcommandOptions": {
        "queryPlan": {
         "groups": [
          {
           "column": "customer_id",
           "type": "column"
          }
         ],
         "selects": [
          {
           "column": "customer_id",
           "type": "column"
          },
          {
           "alias": "column_65b77e0819",
           "args": [
            {
             "column": "sum(price)",
             "type": "column"
            }
           ],
           "function": "SUM",
           "type": "function"
          }
         ]
        }
       },
       "submitTime": 0,
       "subtype": "tableResultSubCmd.visualization",
       "tableResultIndex": 0,
       "tableResultSettingsMap": {},
       "useConsistentColors": false,
       "version": "CommandV1",
       "width": "auto",
       "workflows": [],
       "xColumns": null,
       "yColumns": null
      }
     },
     "output_type": "display_data"
    }
   ],
   "source": [
    "#Total amount spend by each customer \n",
    "\n",
    "total_amount_spent = (sales_df.join(menu_df,'product_id').groupBy('customer_id').agg({'price': 'sum'})\n",
    "                .orderBy('customer_id'))\n",
    "display(total_amount_spent)                "
   ]
  },
  {
   "cell_type": "code",
   "execution_count": 0,
   "metadata": {
    "application/vnd.databricks.v1+cell": {
     "cellMetadata": {
      "byteLimit": 2048000,
      "rowLimit": 10000
     },
     "inputWidgets": {},
     "nuid": "cb0c432f-eb5f-4a0b-ab7d-075ca414e0a3",
     "showTitle": false,
     "tableResultSettingsMap": {},
     "title": ""
    }
   },
   "outputs": [
    {
     "output_type": "display_data",
     "data": {
      "text/html": [
       "<style scoped>\n",
       "  .table-result-container {\n",
       "    max-height: 300px;\n",
       "    overflow: auto;\n",
       "  }\n",
       "  table, th, td {\n",
       "    border: 1px solid black;\n",
       "    border-collapse: collapse;\n",
       "  }\n",
       "  th, td {\n",
       "    padding: 5px;\n",
       "  }\n",
       "  th {\n",
       "    text-align: left;\n",
       "  }\n",
       "</style><div class='table-result-container'><table class='table-result'><thead style='background-color: white'><tr><th>product_name</th><th>sum(price)</th></tr></thead><tbody><tr><td> Biryani</td><td>480.0</td></tr><tr><td> Chowmin</td><td>3600.0</td></tr><tr><td> Dosa</td><td>1320.0</td></tr><tr><td> PIZZA</td><td>2100.0</td></tr><tr><td> Pasta</td><td>1080.0</td></tr><tr><td> sandwich</td><td>5760.0</td></tr></tbody></table></div>"
      ]
     },
     "metadata": {
      "application/vnd.databricks.v1+output": {
       "addedWidgets": {},
       "aggData": [],
       "aggError": "",
       "aggOverflow": false,
       "aggSchema": [],
       "aggSeriesLimitReached": false,
       "aggType": "",
       "arguments": {},
       "columnCustomDisplayInfos": {},
       "data": [
        [
         " Biryani",
         480.0
        ],
        [
         " Chowmin",
         3600.0
        ],
        [
         " Dosa",
         1320.0
        ],
        [
         " PIZZA",
         2100.0
        ],
        [
         " Pasta",
         1080.0
        ],
        [
         " sandwich",
         5760.0
        ]
       ],
       "datasetInfos": [],
       "dbfsResultPath": null,
       "isJsonSchema": true,
       "metadata": {},
       "overflow": false,
       "plotOptions": {
        "customPlotOptions": {},
        "displayType": "table",
        "pivotAggregation": null,
        "pivotColumns": null,
        "xColumns": null,
        "yColumns": null
       },
       "removedWidgets": [],
       "schema": [
        {
         "metadata": "{}",
         "name": "product_name",
         "type": "\"string\""
        },
        {
         "metadata": "{}",
         "name": "sum(price)",
         "type": "\"double\""
        }
       ],
       "type": "table"
      }
     },
     "output_type": "display_data"
    },
    {
     "output_type": "display_data",
     "data": {
      "text/plain": [
       "Databricks visualization. Run in Databricks to view."
      ]
     },
     "metadata": {
      "application/vnd.databricks.v1.subcommand+json": {
       "baseErrorDetails": null,
       "bindings": {},
       "collapsed": false,
       "command": "%python\n__backend_agg_display_orig = display\n__backend_agg_dfs = []\ndef __backend_agg_display_new(df):\n    __backend_agg_df_modules = [\"pandas.core.frame\", \"databricks.koalas.frame\", \"pyspark.sql.dataframe\", \"pyspark.pandas.frame\", \"pyspark.sql.connect.dataframe\"]\n    if (type(df).__module__ in __backend_agg_df_modules and type(df).__name__ == 'DataFrame') or isinstance(df, list):\n        __backend_agg_dfs.append(df)\n\ndisplay = __backend_agg_display_new\n\ndef __backend_agg_user_code_fn():\n    import base64\n    exec(base64.standard_b64decode(\"I1RvdGFsIGFtb3VudCBzcGVudCBieSBlYWNoIGZvb2QgY2F0ZWdvcnkKdG90YWxfYW1vdW50X3NwZW50ID0gKHNhbGVzX2RmLmpvaW4obWVudV9kZiwncHJvZHVjdF9pZCcpLmdyb3VwQnkoJ3Byb2R1Y3RfbmFtZScpLmFnZyh7J3ByaWNlJzogJ3N1bSd9KQogICAgICAgICAgICAgICAgLm9yZGVyQnkoJ3Byb2R1Y3RfbmFtZScpKQpkaXNwbGF5KHRvdGFsX2Ftb3VudF9zcGVudCkgICAgICAgIAo=\").decode())\n\ntry:\n    # run user code\n    __backend_agg_user_code_fn()\n\n    #reset display function\n    display = __backend_agg_display_orig\n\n    if len(__backend_agg_dfs) > 0:\n        # create a temp view\n        if type(__backend_agg_dfs[0]).__module__ == \"databricks.koalas.frame\":\n            # koalas dataframe\n            __backend_agg_dfs[0].to_spark().createOrReplaceTempView(\"DatabricksView6029a7b\")\n        elif type(__backend_agg_dfs[0]).__module__ == \"pandas.core.frame\" or isinstance(__backend_agg_dfs[0], list):\n            # pandas dataframe\n            spark.createDataFrame(__backend_agg_dfs[0]).createOrReplaceTempView(\"DatabricksView6029a7b\")\n        else:\n            __backend_agg_dfs[0].createOrReplaceTempView(\"DatabricksView6029a7b\")\n        #run backend agg\n        display(spark.sql(\"\"\"WITH q AS (select * from DatabricksView6029a7b) SELECT `product_name`,SUM(`sum(price)`) `column_65b77e0823` FROM q GROUP BY `product_name`\"\"\"))\n    else:\n        displayHTML(\"dataframe no longer exists. If you're using dataframe.display(), use display(dataframe) instead.\")\n\n\nfinally:\n    spark.sql(\"drop view if exists DatabricksView6029a7b\")\n    display = __backend_agg_display_orig\n    del __backend_agg_display_new\n    del __backend_agg_display_orig\n    del __backend_agg_dfs\n    del __backend_agg_user_code_fn\n\n",
       "commandTitle": "Visualization 1",
       "commandType": "auto",
       "commandVersion": 0,
       "commentThread": [],
       "commentsVisible": false,
       "contentSha256Hex": null,
       "customPlotOptions": {
        "redashChart": [
         {
          "key": "type",
          "value": "CHART"
         },
         {
          "key": "options",
          "value": {
           "alignYAxesAtZero": true,
           "coefficient": 1,
           "columnConfigurationMap": {
            "x": {
             "column": "product_name",
             "id": "column_65b77e0822"
            },
            "y": [
             {
              "column": "sum(price)",
              "id": "column_65b77e0823",
              "transform": "SUM"
             }
            ]
           },
           "dateTimeFormat": "DD/MM/YYYY HH:mm",
           "direction": {
            "type": "counterclockwise"
           },
           "error_y": {
            "type": "data",
            "visible": true
           },
           "globalSeriesType": "column",
           "isAggregationOn": true,
           "legend": {
            "traceorder": "normal"
           },
           "missingValuesAsZero": true,
           "numberFormat": "0,0.[00000]",
           "percentFormat": "0[.]00%",
           "series": {
            "error_y": {
             "type": "data",
             "visible": true
            },
            "stacking": null
           },
           "seriesOptions": {
            "column_65b77e0823": {
             "color": "#50F5ED",
             "name": "sum(price)",
             "yAxis": 0
            }
           },
           "showDataLabels": true,
           "sizemode": "diameter",
           "sortX": true,
           "sortY": true,
           "swappedAxes": true,
           "textFormat": "",
           "useAggregationsUi": true,
           "valuesOptions": {},
           "version": 2,
           "xAxis": {
            "labels": {
             "enabled": true
            },
            "type": "-"
           },
           "yAxis": [
            {
             "type": "-"
            },
            {
             "opposite": true,
             "type": "-"
            }
           ]
          }
         }
        ]
       },
       "datasetPreviewNameToCmdIdMap": {},
       "diffDeletes": [],
       "diffInserts": [],
       "displayType": "redashChart",
       "error": null,
       "errorDetails": null,
       "errorSummary": null,
       "errorTraceType": null,
       "finishTime": 0,
       "globalVars": {},
       "guid": "",
       "height": "auto",
       "hideCommandCode": false,
       "hideCommandResult": false,
       "iPythonMetadata": null,
       "inputWidgets": {},
       "isLockedInExamMode": false,
       "latestUser": "a user",
       "latestUserId": null,
       "listResultMetadata": null,
       "metadata": {
        "byteLimit": 2048000,
        "rowLimit": 10000
       },
       "nuid": "2016bfc9-a014-42bb-922f-76cd5fcc1e16",
       "origId": 0,
       "parentHierarchy": [],
       "pivotAggregation": null,
       "pivotColumns": null,
       "position": 8.0,
       "resultDbfsErrorMessage": null,
       "resultDbfsStatus": "INLINED_IN_TREE",
       "results": null,
       "showCommandTitle": false,
       "startTime": 0,
       "state": "finished",
       "streamStates": {},
       "subcommandOptions": {
        "queryPlan": {
         "groups": [
          {
           "column": "product_name",
           "type": "column"
          }
         ],
         "selects": [
          {
           "column": "product_name",
           "type": "column"
          },
          {
           "alias": "column_65b77e0823",
           "args": [
            {
             "column": "sum(price)",
             "type": "column"
            }
           ],
           "function": "SUM",
           "type": "function"
          }
         ]
        }
       },
       "submitTime": 0,
       "subtype": "tableResultSubCmd.visualization",
       "tableResultIndex": 0,
       "tableResultSettingsMap": {},
       "useConsistentColors": false,
       "version": "CommandV1",
       "width": "auto",
       "workflows": [],
       "xColumns": null,
       "yColumns": null
      }
     },
     "output_type": "display_data"
    }
   ],
   "source": [
    "#Total amount spent by each food category\n",
    "total_amount_spent = (sales_df.join(menu_df,'product_id').groupBy('product_name').agg({'price': 'sum'})\n",
    "                .orderBy('product_name'))\n",
    "display(total_amount_spent)        \n"
   ]
  },
  {
   "cell_type": "code",
   "execution_count": 0,
   "metadata": {
    "application/vnd.databricks.v1+cell": {
     "cellMetadata": {
      "byteLimit": 2048000,
      "rowLimit": 10000
     },
     "inputWidgets": {},
     "nuid": "0cbe1e54-2abb-4a9f-a75a-e0eede12e1f2",
     "showTitle": false,
     "tableResultSettingsMap": {},
     "title": ""
    }
   },
   "outputs": [
    {
     "output_type": "display_data",
     "data": {
      "text/html": [
       "<style scoped>\n",
       "  .table-result-container {\n",
       "    max-height: 300px;\n",
       "    overflow: auto;\n",
       "  }\n",
       "  table, th, td {\n",
       "    border: 1px solid black;\n",
       "    border-collapse: collapse;\n",
       "  }\n",
       "  th, td {\n",
       "    padding: 5px;\n",
       "  }\n",
       "  th {\n",
       "    text-align: left;\n",
       "  }\n",
       "</style><div class='table-result-container'><table class='table-result'><thead style='background-color: white'><tr><th>order_month</th><th>sum(price)</th></tr></thead><tbody><tr><td>1</td><td>2960.0</td></tr><tr><td>6</td><td>2960.0</td></tr><tr><td>3</td><td>910.0</td></tr><tr><td>5</td><td>2960.0</td></tr><tr><td>7</td><td>910.0</td></tr><tr><td>11</td><td>910.0</td></tr><tr><td>2</td><td>2730.0</td></tr></tbody></table></div>"
      ]
     },
     "metadata": {
      "application/vnd.databricks.v1+output": {
       "addedWidgets": {},
       "aggData": [],
       "aggError": "",
       "aggOverflow": false,
       "aggSchema": [],
       "aggSeriesLimitReached": false,
       "aggType": "",
       "arguments": {},
       "columnCustomDisplayInfos": {},
       "data": [
        [
         1,
         2960.0
        ],
        [
         6,
         2960.0
        ],
        [
         3,
         910.0
        ],
        [
         5,
         2960.0
        ],
        [
         7,
         910.0
        ],
        [
         11,
         910.0
        ],
        [
         2,
         2730.0
        ]
       ],
       "datasetInfos": [],
       "dbfsResultPath": null,
       "isJsonSchema": true,
       "metadata": {},
       "overflow": false,
       "plotOptions": {
        "customPlotOptions": {},
        "displayType": "table",
        "pivotAggregation": null,
        "pivotColumns": null,
        "xColumns": null,
        "yColumns": null
       },
       "removedWidgets": [],
       "schema": [
        {
         "metadata": "{}",
         "name": "order_month",
         "type": "\"integer\""
        },
        {
         "metadata": "{}",
         "name": "sum(price)",
         "type": "\"double\""
        }
       ],
       "type": "table"
      }
     },
     "output_type": "display_data"
    },
    {
     "output_type": "display_data",
     "data": {
      "text/plain": [
       "Databricks visualization. Run in Databricks to view."
      ]
     },
     "metadata": {
      "application/vnd.databricks.v1.subcommand+json": {
       "baseErrorDetails": null,
       "bindings": {},
       "collapsed": false,
       "command": "%python\n__backend_agg_display_orig = display\n__backend_agg_dfs = []\ndef __backend_agg_display_new(df):\n    __backend_agg_df_modules = [\"pandas.core.frame\", \"databricks.koalas.frame\", \"pyspark.sql.dataframe\", \"pyspark.pandas.frame\", \"pyspark.sql.connect.dataframe\"]\n    if (type(df).__module__ in __backend_agg_df_modules and type(df).__name__ == 'DataFrame') or isinstance(df, list):\n        __backend_agg_dfs.append(df)\n\ndisplay = __backend_agg_display_new\n\ndef __backend_agg_user_code_fn():\n    import base64\n    exec(base64.standard_b64decode(\"I1RvdGFsIGFtb3VudCBvZiBzYWxlcyBpbiBlYWNoIG1vbnRoCmRmMSA9IChzYWxlc19kZi5qb2luKG1lbnVfZGYsJ3Byb2R1Y3RfaWQnKS5ncm91cEJ5KCdvcmRlcl9tb250aCcpLmFnZyh7J3ByaWNlJzogJ3N1bSd9KSkKZGlzcGxheShkZjEpIA==\").decode())\n\ntry:\n    # run user code\n    __backend_agg_user_code_fn()\n\n    #reset display function\n    display = __backend_agg_display_orig\n\n    if len(__backend_agg_dfs) > 0:\n        # create a temp view\n        if type(__backend_agg_dfs[0]).__module__ == \"databricks.koalas.frame\":\n            # koalas dataframe\n            __backend_agg_dfs[0].to_spark().createOrReplaceTempView(\"DatabricksView77dec47\")\n        elif type(__backend_agg_dfs[0]).__module__ == \"pandas.core.frame\" or isinstance(__backend_agg_dfs[0], list):\n            # pandas dataframe\n            spark.createDataFrame(__backend_agg_dfs[0]).createOrReplaceTempView(\"DatabricksView77dec47\")\n        else:\n            __backend_agg_dfs[0].createOrReplaceTempView(\"DatabricksView77dec47\")\n        #run backend agg\n        display(spark.sql(\"\"\"WITH q AS (select * from DatabricksView77dec47) SELECT `order_month`,`sum(price)` FROM q\"\"\"))\n    else:\n        displayHTML(\"dataframe no longer exists. If you're using dataframe.display(), use display(dataframe) instead.\")\n\n\nfinally:\n    spark.sql(\"drop view if exists DatabricksView77dec47\")\n    display = __backend_agg_display_orig\n    del __backend_agg_display_new\n    del __backend_agg_display_orig\n    del __backend_agg_dfs\n    del __backend_agg_user_code_fn\n\n",
       "commandTitle": "Visualization 1",
       "commandType": "auto",
       "commandVersion": 0,
       "commentThread": [],
       "commentsVisible": false,
       "contentSha256Hex": null,
       "customPlotOptions": {
        "redashChart": [
         {
          "key": "type",
          "value": "CHART"
         },
         {
          "key": "options",
          "value": {
           "alignYAxesAtZero": true,
           "coefficient": 1,
           "columnConfigurationMap": {
            "x": {
             "column": "order_month",
             "id": "column_65b77e0827"
            },
            "y": [
             {
              "column": "sum(price)",
              "id": "column_65b77e0828"
             }
            ]
           },
           "dateTimeFormat": "DD/MM/YYYY HH:mm",
           "direction": {
            "type": "counterclockwise"
           },
           "error_y": {
            "type": "data",
            "visible": true
           },
           "globalSeriesType": "scatter",
           "legend": {
            "traceorder": "normal"
           },
           "missingValuesAsZero": true,
           "numberFormat": "0,0.[00000]",
           "percentFormat": "0[.]00%",
           "series": {
            "error_y": {
             "type": "data",
             "visible": true
            },
            "stacking": null
           },
           "seriesOptions": {
            "column_65b77e0828": {
             "name": "sum(price)",
             "yAxis": 0
            }
           },
           "showDataLabels": true,
           "sizemode": "diameter",
           "sortX": true,
           "sortY": true,
           "swappedAxes": false,
           "textFormat": "",
           "useAggregationsUi": true,
           "valuesOptions": {},
           "version": 2,
           "xAxis": {
            "labels": {
             "enabled": true
            },
            "type": "-"
           },
           "yAxis": [
            {
             "type": "-"
            },
            {
             "opposite": true,
             "type": "-"
            }
           ]
          }
         }
        ]
       },
       "datasetPreviewNameToCmdIdMap": {},
       "diffDeletes": [],
       "diffInserts": [],
       "displayType": "redashChart",
       "error": null,
       "errorDetails": null,
       "errorSummary": null,
       "errorTraceType": null,
       "finishTime": 0,
       "globalVars": {},
       "guid": "",
       "height": "auto",
       "hideCommandCode": false,
       "hideCommandResult": false,
       "iPythonMetadata": null,
       "inputWidgets": {},
       "isLockedInExamMode": false,
       "latestUser": "a user",
       "latestUserId": null,
       "listResultMetadata": null,
       "metadata": {
        "byteLimit": 2048000,
        "rowLimit": 10000
       },
       "nuid": "5fe62e00-352d-4158-98b1-9e9e78fbc8b1",
       "origId": 0,
       "parentHierarchy": [],
       "pivotAggregation": null,
       "pivotColumns": null,
       "position": 9.0,
       "resultDbfsErrorMessage": null,
       "resultDbfsStatus": "INLINED_IN_TREE",
       "results": null,
       "showCommandTitle": false,
       "startTime": 0,
       "state": "finished",
       "streamStates": {},
       "subcommandOptions": {
        "queryPlan": {
         "selects": [
          {
           "column": "order_month",
           "type": "column"
          },
          {
           "column": "sum(price)",
           "type": "column"
          }
         ]
        }
       },
       "submitTime": 0,
       "subtype": "tableResultSubCmd.visualization",
       "tableResultIndex": 0,
       "tableResultSettingsMap": {},
       "useConsistentColors": false,
       "version": "CommandV1",
       "width": "auto",
       "workflows": [],
       "xColumns": null,
       "yColumns": null
      }
     },
     "output_type": "display_data"
    }
   ],
   "source": [
    "#Total amount of sales in each month\n",
    "df1 = (sales_df.join(menu_df,'product_id').groupBy('order_month').agg({'price': 'sum'}))\n",
    "display(df1) "
   ]
  },
  {
   "cell_type": "code",
   "execution_count": 0,
   "metadata": {
    "application/vnd.databricks.v1+cell": {
     "cellMetadata": {
      "byteLimit": 2048000,
      "rowLimit": 10000
     },
     "inputWidgets": {},
     "nuid": "d68d69ba-4acf-43be-b114-21967bf4df51",
     "showTitle": false,
     "tableResultSettingsMap": {},
     "title": ""
    }
   },
   "outputs": [
    {
     "output_type": "display_data",
     "data": {
      "text/html": [
       "<style scoped>\n",
       "  .table-result-container {\n",
       "    max-height: 300px;\n",
       "    overflow: auto;\n",
       "  }\n",
       "  table, th, td {\n",
       "    border: 1px solid black;\n",
       "    border-collapse: collapse;\n",
       "  }\n",
       "  th, td {\n",
       "    padding: 5px;\n",
       "  }\n",
       "  th {\n",
       "    text-align: left;\n",
       "  }\n",
       "</style><div class='table-result-container'><table class='table-result'><thead style='background-color: white'><tr><th>order_year</th><th>sum(price)</th></tr></thead><tbody><tr><td>2022</td><td>4350.0</td></tr><tr><td>2023</td><td>9990.0</td></tr></tbody></table></div>"
      ]
     },
     "metadata": {
      "application/vnd.databricks.v1+output": {
       "addedWidgets": {},
       "aggData": [],
       "aggError": "",
       "aggOverflow": false,
       "aggSchema": [],
       "aggSeriesLimitReached": false,
       "aggType": "",
       "arguments": {},
       "columnCustomDisplayInfos": {},
       "data": [
        [
         2022,
         4350.0
        ],
        [
         2023,
         9990.0
        ]
       ],
       "datasetInfos": [],
       "dbfsResultPath": null,
       "isJsonSchema": true,
       "metadata": {},
       "overflow": false,
       "plotOptions": {
        "customPlotOptions": {},
        "displayType": "table",
        "pivotAggregation": null,
        "pivotColumns": null,
        "xColumns": null,
        "yColumns": null
       },
       "removedWidgets": [],
       "schema": [
        {
         "metadata": "{}",
         "name": "order_year",
         "type": "\"integer\""
        },
        {
         "metadata": "{}",
         "name": "sum(price)",
         "type": "\"double\""
        }
       ],
       "type": "table"
      }
     },
     "output_type": "display_data"
    }
   ],
   "source": [
    "#yearly sales\n",
    "df1 = (sales_df.join(menu_df,'product_id').groupBy('order_year').agg({'price': 'sum'})\n",
    "                .orderBy('order_year'))\n",
    "display(df1) "
   ]
  },
  {
   "cell_type": "code",
   "execution_count": 0,
   "metadata": {
    "application/vnd.databricks.v1+cell": {
     "cellMetadata": {
      "byteLimit": 2048000,
      "rowLimit": 10000
     },
     "inputWidgets": {},
     "nuid": "ca0b0091-339d-4704-9921-7fd492a831b6",
     "showTitle": false,
     "tableResultSettingsMap": {},
     "title": ""
    }
   },
   "outputs": [
    {
     "output_type": "display_data",
     "data": {
      "text/html": [
       "<style scoped>\n",
       "  .table-result-container {\n",
       "    max-height: 300px;\n",
       "    overflow: auto;\n",
       "  }\n",
       "  table, th, td {\n",
       "    border: 1px solid black;\n",
       "    border-collapse: collapse;\n",
       "  }\n",
       "  th, td {\n",
       "    padding: 5px;\n",
       "  }\n",
       "  th {\n",
       "    text-align: left;\n",
       "  }\n",
       "</style><div class='table-result-container'><table class='table-result'><thead style='background-color: white'><tr><th>order_quarter</th><th>sum(price)</th></tr></thead><tbody><tr><td>1</td><td>6600.0</td></tr><tr><td>2</td><td>5920.0</td></tr><tr><td>3</td><td>910.0</td></tr><tr><td>4</td><td>910.0</td></tr></tbody></table></div>"
      ]
     },
     "metadata": {
      "application/vnd.databricks.v1+output": {
       "addedWidgets": {},
       "aggData": [],
       "aggError": "",
       "aggOverflow": false,
       "aggSchema": [],
       "aggSeriesLimitReached": false,
       "aggType": "",
       "arguments": {},
       "columnCustomDisplayInfos": {},
       "data": [
        [
         1,
         6600.0
        ],
        [
         2,
         5920.0
        ],
        [
         3,
         910.0
        ],
        [
         4,
         910.0
        ]
       ],
       "datasetInfos": [],
       "dbfsResultPath": null,
       "isJsonSchema": true,
       "metadata": {},
       "overflow": false,
       "plotOptions": {
        "customPlotOptions": {},
        "displayType": "table",
        "pivotAggregation": null,
        "pivotColumns": null,
        "xColumns": null,
        "yColumns": null
       },
       "removedWidgets": [],
       "schema": [
        {
         "metadata": "{}",
         "name": "order_quarter",
         "type": "\"integer\""
        },
        {
         "metadata": "{}",
         "name": "sum(price)",
         "type": "\"double\""
        }
       ],
       "type": "table"
      }
     },
     "output_type": "display_data"
    },
    {
     "output_type": "display_data",
     "data": {
      "text/plain": [
       "Databricks visualization. Run in Databricks to view."
      ]
     },
     "metadata": {
      "application/vnd.databricks.v1.subcommand+json": {
       "baseErrorDetails": null,
       "bindings": {},
       "collapsed": false,
       "command": "%python\n__backend_agg_display_orig = display\n__backend_agg_dfs = []\ndef __backend_agg_display_new(df):\n    __backend_agg_df_modules = [\"pandas.core.frame\", \"databricks.koalas.frame\", \"pyspark.sql.dataframe\", \"pyspark.pandas.frame\", \"pyspark.sql.connect.dataframe\"]\n    if (type(df).__module__ in __backend_agg_df_modules and type(df).__name__ == 'DataFrame') or isinstance(df, list):\n        __backend_agg_dfs.append(df)\n\ndisplay = __backend_agg_display_new\n\ndef __backend_agg_user_code_fn():\n    import base64\n    exec(base64.standard_b64decode(\"I3F1YXRlcmx5IHNhbGVzCmRmMiA9IChzYWxlc19kZi5qb2luKG1lbnVfZGYsJ3Byb2R1Y3RfaWQnKS5ncm91cEJ5KCdvcmRlcl9xdWFydGVyJykuYWdnKHsncHJpY2UnOiAnc3VtJ30pCiAgICAgICAgICAgICAgICAub3JkZXJCeSgnb3JkZXJfcXVhcnRlcicpKQpkaXNwbGF5KGRmMikg\").decode())\n\ntry:\n    # run user code\n    __backend_agg_user_code_fn()\n\n    #reset display function\n    display = __backend_agg_display_orig\n\n    if len(__backend_agg_dfs) > 0:\n        # create a temp view\n        if type(__backend_agg_dfs[0]).__module__ == \"databricks.koalas.frame\":\n            # koalas dataframe\n            __backend_agg_dfs[0].to_spark().createOrReplaceTempView(\"DatabricksViewb88989d\")\n        elif type(__backend_agg_dfs[0]).__module__ == \"pandas.core.frame\" or isinstance(__backend_agg_dfs[0], list):\n            # pandas dataframe\n            spark.createDataFrame(__backend_agg_dfs[0]).createOrReplaceTempView(\"DatabricksViewb88989d\")\n        else:\n            __backend_agg_dfs[0].createOrReplaceTempView(\"DatabricksViewb88989d\")\n        #run backend agg\n        display(spark.sql(\"\"\"WITH q AS (select * from DatabricksViewb88989d) SELECT `order_quarter`,SUM(`sum(price)`) `column_65b77e0832` FROM q GROUP BY `order_quarter`\"\"\"))\n    else:\n        displayHTML(\"dataframe no longer exists. If you're using dataframe.display(), use display(dataframe) instead.\")\n\n\nfinally:\n    spark.sql(\"drop view if exists DatabricksViewb88989d\")\n    display = __backend_agg_display_orig\n    del __backend_agg_display_new\n    del __backend_agg_display_orig\n    del __backend_agg_dfs\n    del __backend_agg_user_code_fn\n\n",
       "commandTitle": "Visualization 1",
       "commandType": "auto",
       "commandVersion": 0,
       "commentThread": [],
       "commentsVisible": false,
       "contentSha256Hex": null,
       "customPlotOptions": {
        "redashChart": [
         {
          "key": "type",
          "value": "CHART"
         },
         {
          "key": "options",
          "value": {
           "alignYAxesAtZero": true,
           "coefficient": 1,
           "columnConfigurationMap": {
            "x": {
             "column": "order_quarter",
             "id": "column_65b77e0831"
            },
            "y": [
             {
              "column": "sum(price)",
              "id": "column_65b77e0832",
              "transform": "SUM"
             }
            ]
           },
           "dateTimeFormat": "DD/MM/YYYY HH:mm",
           "direction": {
            "type": "counterclockwise"
           },
           "error_y": {
            "type": "data",
            "visible": true
           },
           "globalSeriesType": "pie",
           "isAggregationOn": true,
           "legend": {
            "traceorder": "normal"
           },
           "missingValuesAsZero": true,
           "numberFormat": "0,0.[00000]",
           "percentFormat": "0[.]00%",
           "series": {
            "error_y": {
             "type": "data",
             "visible": true
            },
            "stacking": null
           },
           "seriesOptions": {
            "column_65b77e0832": {
             "name": "sum(price)",
             "type": "pie",
             "yAxis": 0
            }
           },
           "showDataLabels": true,
           "sizemode": "diameter",
           "sortX": true,
           "sortY": true,
           "swappedAxes": false,
           "textFormat": "",
           "useAggregationsUi": true,
           "valuesOptions": {},
           "version": 2,
           "xAxis": {
            "labels": {
             "enabled": true
            },
            "type": "-"
           },
           "yAxis": [
            {
             "type": "-"
            },
            {
             "opposite": true,
             "type": "-"
            }
           ]
          }
         }
        ]
       },
       "datasetPreviewNameToCmdIdMap": {},
       "diffDeletes": [],
       "diffInserts": [],
       "displayType": "redashChart",
       "error": null,
       "errorDetails": null,
       "errorSummary": null,
       "errorTraceType": null,
       "finishTime": 0,
       "globalVars": {},
       "guid": "",
       "height": "auto",
       "hideCommandCode": false,
       "hideCommandResult": false,
       "iPythonMetadata": null,
       "inputWidgets": {},
       "isLockedInExamMode": false,
       "latestUser": "a user",
       "latestUserId": null,
       "listResultMetadata": null,
       "metadata": {
        "byteLimit": 2048000,
        "rowLimit": 10000
       },
       "nuid": "116482e0-b860-47c7-aa92-93df490065f6",
       "origId": 0,
       "parentHierarchy": [],
       "pivotAggregation": null,
       "pivotColumns": null,
       "position": 11.0,
       "resultDbfsErrorMessage": null,
       "resultDbfsStatus": "INLINED_IN_TREE",
       "results": null,
       "showCommandTitle": false,
       "startTime": 0,
       "state": "finished",
       "streamStates": {},
       "subcommandOptions": {
        "queryPlan": {
         "groups": [
          {
           "column": "order_quarter",
           "type": "column"
          }
         ],
         "selects": [
          {
           "column": "order_quarter",
           "type": "column"
          },
          {
           "alias": "column_65b77e0832",
           "args": [
            {
             "column": "sum(price)",
             "type": "column"
            }
           ],
           "function": "SUM",
           "type": "function"
          }
         ]
        }
       },
       "submitTime": 0,
       "subtype": "tableResultSubCmd.visualization",
       "tableResultIndex": 0,
       "tableResultSettingsMap": {},
       "useConsistentColors": false,
       "version": "CommandV1",
       "width": "auto",
       "workflows": [],
       "xColumns": null,
       "yColumns": null
      }
     },
     "output_type": "display_data"
    }
   ],
   "source": [
    "#quaterly sales\n",
    "df2 = (sales_df.join(menu_df,'product_id').groupBy('order_quarter').agg({'price': 'sum'})\n",
    "                .orderBy('order_quarter'))\n",
    "display(df2) "
   ]
  },
  {
   "cell_type": "code",
   "execution_count": 0,
   "metadata": {
    "application/vnd.databricks.v1+cell": {
     "cellMetadata": {
      "byteLimit": 2048000,
      "rowLimit": 10000
     },
     "inputWidgets": {},
     "nuid": "8a1afda0-6771-4663-b11e-d508daed0fe5",
     "showTitle": false,
     "tableResultSettingsMap": {},
     "title": ""
    }
   },
   "outputs": [
    {
     "output_type": "display_data",
     "data": {
      "text/html": [
       "<style scoped>\n",
       "  .table-result-container {\n",
       "    max-height: 300px;\n",
       "    overflow: auto;\n",
       "  }\n",
       "  table, th, td {\n",
       "    border: 1px solid black;\n",
       "    border-collapse: collapse;\n",
       "  }\n",
       "  th, td {\n",
       "    padding: 5px;\n",
       "  }\n",
       "  th {\n",
       "    text-align: left;\n",
       "  }\n",
       "</style><div class='table-result-container'><table class='table-result'><thead style='background-color: white'><tr><th>product_id</th><th>product_name</th><th>product_count</th></tr></thead><tbody><tr><td>3</td><td> sandwich</td><td>48</td></tr><tr><td>2</td><td> Chowmin</td><td>24</td></tr><tr><td>1</td><td> PIZZA</td><td>21</td></tr><tr><td>4</td><td> Dosa</td><td>12</td></tr><tr><td>5</td><td> Biryani</td><td>6</td></tr><tr><td>6</td><td> Pasta</td><td>6</td></tr></tbody></table></div>"
      ]
     },
     "metadata": {
      "application/vnd.databricks.v1+output": {
       "addedWidgets": {},
       "aggData": [],
       "aggError": "",
       "aggOverflow": false,
       "aggSchema": [],
       "aggSeriesLimitReached": false,
       "aggType": "",
       "arguments": {},
       "columnCustomDisplayInfos": {},
       "data": [
        [
         3,
         " sandwich",
         48
        ],
        [
         2,
         " Chowmin",
         24
        ],
        [
         1,
         " PIZZA",
         21
        ],
        [
         4,
         " Dosa",
         12
        ],
        [
         5,
         " Biryani",
         6
        ],
        [
         6,
         " Pasta",
         6
        ]
       ],
       "datasetInfos": [],
       "dbfsResultPath": null,
       "isJsonSchema": true,
       "metadata": {},
       "overflow": false,
       "plotOptions": {
        "customPlotOptions": {},
        "displayType": "table",
        "pivotAggregation": null,
        "pivotColumns": null,
        "xColumns": null,
        "yColumns": null
       },
       "removedWidgets": [],
       "schema": [
        {
         "metadata": "{}",
         "name": "product_id",
         "type": "\"integer\""
        },
        {
         "metadata": "{}",
         "name": "product_name",
         "type": "\"string\""
        },
        {
         "metadata": "{}",
         "name": "product_count",
         "type": "\"long\""
        }
       ],
       "type": "table"
      }
     },
     "output_type": "display_data"
    },
    {
     "output_type": "display_data",
     "data": {
      "text/plain": [
       "Databricks visualization. Run in Databricks to view."
      ]
     },
     "metadata": {
      "application/vnd.databricks.v1.subcommand+json": {
       "baseErrorDetails": null,
       "bindings": {},
       "collapsed": false,
       "command": "%python\n__backend_agg_display_orig = display\n__backend_agg_dfs = []\ndef __backend_agg_display_new(df):\n    __backend_agg_df_modules = [\"pandas.core.frame\", \"databricks.koalas.frame\", \"pyspark.sql.dataframe\", \"pyspark.pandas.frame\", \"pyspark.sql.connect.dataframe\"]\n    if (type(df).__module__ in __backend_agg_df_modules and type(df).__name__ == 'DataFrame') or isinstance(df, list):\n        __backend_agg_dfs.append(df)\n\ndisplay = __backend_agg_display_new\n\ndef __backend_agg_user_code_fn():\n    import base64\n    exec(base64.standard_b64decode(\"I0hvdyBtYW55IHRpbWVzIGVhY2ggcHJvZHVjdCBwdXJjaGFzZWQgCmZyb20gcHlzcGFyay5zcWwuZnVuY3Rpb25zIGltcG9ydCBjb3VudAoKbW9zdF9kZj0gKHNhbGVzX2RmLmpvaW4obWVudV9kZiwncHJvZHVjdF9pZCcpLmdyb3VwQnkoJ3Byb2R1Y3RfaWQnLCdwcm9kdWN0X25hbWUnKS5hZ2coY291bnQoJ3Byb2R1Y3RfaWQnKS5hbGlhcygncHJvZHVjdF9jb3VudCcpKS4KICAgICAgICAgIG9yZGVyQnkoJ3Byb2R1Y3RfY291bnQnLGFzY2VuZGluZz0wKQogICAgICAgICAgKQpkaXNwbGF5KG1vc3RfZGYpICAgICAgICAgIA==\").decode())\n\ntry:\n    # run user code\n    __backend_agg_user_code_fn()\n\n    #reset display function\n    display = __backend_agg_display_orig\n\n    if len(__backend_agg_dfs) > 0:\n        # create a temp view\n        if type(__backend_agg_dfs[0]).__module__ == \"databricks.koalas.frame\":\n            # koalas dataframe\n            __backend_agg_dfs[0].to_spark().createOrReplaceTempView(\"DatabricksViewb81f674\")\n        elif type(__backend_agg_dfs[0]).__module__ == \"pandas.core.frame\" or isinstance(__backend_agg_dfs[0], list):\n            # pandas dataframe\n            spark.createDataFrame(__backend_agg_dfs[0]).createOrReplaceTempView(\"DatabricksViewb81f674\")\n        else:\n            __backend_agg_dfs[0].createOrReplaceTempView(\"DatabricksViewb81f674\")\n        #run backend agg\n        display(spark.sql(\"\"\"WITH q AS (select * from DatabricksViewb81f674) SELECT `product_id`,SUM(`product_count`) `column_65b77e0836`,`product_name` FROM q GROUP BY `product_id`,`product_name`\"\"\"))\n    else:\n        displayHTML(\"dataframe no longer exists. If you're using dataframe.display(), use display(dataframe) instead.\")\n\n\nfinally:\n    spark.sql(\"drop view if exists DatabricksViewb81f674\")\n    display = __backend_agg_display_orig\n    del __backend_agg_display_new\n    del __backend_agg_display_orig\n    del __backend_agg_dfs\n    del __backend_agg_user_code_fn\n\n",
       "commandTitle": "Visualization 1",
       "commandType": "auto",
       "commandVersion": 0,
       "commentThread": [],
       "commentsVisible": false,
       "contentSha256Hex": null,
       "customPlotOptions": {
        "redashChart": [
         {
          "key": "type",
          "value": "CHART"
         },
         {
          "key": "options",
          "value": {
           "alignYAxesAtZero": true,
           "coefficient": 1,
           "columnConfigurationMap": {
            "series": {
             "column": "product_name",
             "id": "column_65b77e0837"
            },
            "x": {
             "column": "product_id",
             "id": "column_65b77e0835"
            },
            "y": [
             {
              "column": "product_count",
              "id": "column_65b77e0836",
              "transform": "SUM"
             }
            ]
           },
           "dateTimeFormat": "DD/MM/YYYY HH:mm",
           "direction": {
            "type": "counterclockwise"
           },
           "error_y": {
            "type": "data",
            "visible": true
           },
           "globalSeriesType": "line",
           "isAggregationOn": true,
           "legend": {
            "traceorder": "normal"
           },
           "missingValuesAsZero": true,
           "numberFormat": "0,0.[00000]",
           "percentFormat": "0[.]00%",
           "series": {
            "error_y": {
             "type": "data",
             "visible": true
            },
            "stacking": null
           },
           "seriesOptions": {
            "column_65b77e0836": {
             "name": "product_count",
             "type": "line",
             "yAxis": 0
            }
           },
           "showDataLabels": false,
           "sizemode": "diameter",
           "sortX": true,
           "sortY": true,
           "swappedAxes": false,
           "textFormat": "",
           "useAggregationsUi": true,
           "valuesOptions": {},
           "version": 2,
           "xAxis": {
            "labels": {
             "enabled": true
            },
            "type": "-"
           },
           "yAxis": [
            {
             "type": "-"
            },
            {
             "opposite": true,
             "type": "-"
            }
           ]
          }
         }
        ]
       },
       "datasetPreviewNameToCmdIdMap": {},
       "diffDeletes": [],
       "diffInserts": [],
       "displayType": "redashChart",
       "error": null,
       "errorDetails": null,
       "errorSummary": null,
       "errorTraceType": null,
       "finishTime": 0,
       "globalVars": {},
       "guid": "",
       "height": "auto",
       "hideCommandCode": false,
       "hideCommandResult": false,
       "iPythonMetadata": null,
       "inputWidgets": {},
       "isLockedInExamMode": false,
       "latestUser": "a user",
       "latestUserId": null,
       "listResultMetadata": null,
       "metadata": {
        "byteLimit": 2048000,
        "rowLimit": 10000
       },
       "nuid": "371c68c2-e988-4cfe-9dd2-a58f9fccaba8",
       "origId": 0,
       "parentHierarchy": [],
       "pivotAggregation": null,
       "pivotColumns": null,
       "position": 12.0,
       "resultDbfsErrorMessage": null,
       "resultDbfsStatus": "INLINED_IN_TREE",
       "results": null,
       "showCommandTitle": false,
       "startTime": 0,
       "state": "finished",
       "streamStates": {},
       "subcommandOptions": {
        "queryPlan": {
         "groups": [
          {
           "column": "product_id",
           "type": "column"
          },
          {
           "column": "product_name",
           "type": "column"
          }
         ],
         "selects": [
          {
           "column": "product_id",
           "type": "column"
          },
          {
           "alias": "column_65b77e0836",
           "args": [
            {
             "column": "product_count",
             "type": "column"
            }
           ],
           "function": "SUM",
           "type": "function"
          },
          {
           "column": "product_name",
           "type": "column"
          }
         ]
        }
       },
       "submitTime": 0,
       "subtype": "tableResultSubCmd.visualization",
       "tableResultIndex": 0,
       "tableResultSettingsMap": {},
       "useConsistentColors": false,
       "version": "CommandV1",
       "width": "auto",
       "workflows": [],
       "xColumns": null,
       "yColumns": null
      }
     },
     "output_type": "display_data"
    }
   ],
   "source": [
    "#How many times each product purchased \n",
    "from pyspark.sql.functions import count\n",
    "\n",
    "most_df= (sales_df.join(menu_df,'product_id').groupBy('product_id','product_name').agg(count('product_id').alias('product_count')).\n",
    "          orderBy('product_count',ascending=0)\n",
    "          )\n",
    "display(most_df)          "
   ]
  },
  {
   "cell_type": "code",
   "execution_count": 0,
   "metadata": {
    "application/vnd.databricks.v1+cell": {
     "cellMetadata": {
      "byteLimit": 2048000,
      "rowLimit": 10000
     },
     "inputWidgets": {},
     "nuid": "1e3d0da4-1d13-4e3f-bb53-b7912c3eec0d",
     "showTitle": false,
     "tableResultSettingsMap": {},
     "title": ""
    }
   },
   "outputs": [
    {
     "output_type": "display_data",
     "data": {
      "text/html": [
       "<style scoped>\n",
       "  .table-result-container {\n",
       "    max-height: 300px;\n",
       "    overflow: auto;\n",
       "  }\n",
       "  table, th, td {\n",
       "    border: 1px solid black;\n",
       "    border-collapse: collapse;\n",
       "  }\n",
       "  th, td {\n",
       "    padding: 5px;\n",
       "  }\n",
       "  th {\n",
       "    text-align: left;\n",
       "  }\n",
       "</style><div class='table-result-container'><table class='table-result'><thead style='background-color: white'><tr><th>product_name</th><th>product_count</th></tr></thead><tbody><tr><td> sandwich</td><td>48</td></tr><tr><td> Chowmin</td><td>24</td></tr><tr><td> PIZZA</td><td>21</td></tr><tr><td> Dosa</td><td>12</td></tr><tr><td> Biryani</td><td>6</td></tr></tbody></table></div>"
      ]
     },
     "metadata": {
      "application/vnd.databricks.v1+output": {
       "addedWidgets": {},
       "aggData": [],
       "aggError": "",
       "aggOverflow": false,
       "aggSchema": [],
       "aggSeriesLimitReached": false,
       "aggType": "",
       "arguments": {},
       "columnCustomDisplayInfos": {},
       "data": [
        [
         " sandwich",
         48
        ],
        [
         " Chowmin",
         24
        ],
        [
         " PIZZA",
         21
        ],
        [
         " Dosa",
         12
        ],
        [
         " Biryani",
         6
        ]
       ],
       "datasetInfos": [],
       "dbfsResultPath": null,
       "isJsonSchema": true,
       "metadata": {},
       "overflow": false,
       "plotOptions": {
        "customPlotOptions": {},
        "displayType": "table",
        "pivotAggregation": null,
        "pivotColumns": null,
        "xColumns": null,
        "yColumns": null
       },
       "removedWidgets": [],
       "schema": [
        {
         "metadata": "{}",
         "name": "product_name",
         "type": "\"string\""
        },
        {
         "metadata": "{}",
         "name": "product_count",
         "type": "\"long\""
        }
       ],
       "type": "table"
      }
     },
     "output_type": "display_data"
    },
    {
     "output_type": "display_data",
     "data": {
      "text/plain": [
       "Databricks visualization. Run in Databricks to view."
      ]
     },
     "metadata": {
      "application/vnd.databricks.v1.subcommand+json": {
       "baseErrorDetails": null,
       "bindings": {},
       "collapsed": false,
       "command": "%python\n__backend_agg_display_orig = display\n__backend_agg_dfs = []\ndef __backend_agg_display_new(df):\n    __backend_agg_df_modules = [\"pandas.core.frame\", \"databricks.koalas.frame\", \"pyspark.sql.dataframe\", \"pyspark.pandas.frame\", \"pyspark.sql.connect.dataframe\"]\n    if (type(df).__module__ in __backend_agg_df_modules and type(df).__name__ == 'DataFrame') or isinstance(df, list):\n        __backend_agg_dfs.append(df)\n\ndisplay = __backend_agg_display_new\n\ndef __backend_agg_user_code_fn():\n    import base64\n    exec(base64.standard_b64decode(\"I1RPUCA1IE9SREVSIElURU1TCmZyb20gcHlzcGFyay5zcWwuZnVuY3Rpb25zIGltcG9ydCBjb3VudAoKbW9zdF9kZj0gKHNhbGVzX2RmLmpvaW4obWVudV9kZiwncHJvZHVjdF9pZCcpLmdyb3VwQnkoJ3Byb2R1Y3RfaWQnLCdwcm9kdWN0X25hbWUnKS5hZ2coY291bnQoJ3Byb2R1Y3RfaWQnKS5hbGlhcygncHJvZHVjdF9jb3VudCcpKS4KICAgICAgICAgIG9yZGVyQnkoJ3Byb2R1Y3RfY291bnQnLGFzY2VuZGluZz0wKQogICAgICAgICAgLmRyb3AoJ3Byb2R1Y3RfaWQnKS5saW1pdCg1KQogICAgICAgICAgKQpkaXNwbGF5KG1vc3RfZGYp\").decode())\n\ntry:\n    # run user code\n    __backend_agg_user_code_fn()\n\n    #reset display function\n    display = __backend_agg_display_orig\n\n    if len(__backend_agg_dfs) > 0:\n        # create a temp view\n        if type(__backend_agg_dfs[0]).__module__ == \"databricks.koalas.frame\":\n            # koalas dataframe\n            __backend_agg_dfs[0].to_spark().createOrReplaceTempView(\"DatabricksView1180699\")\n        elif type(__backend_agg_dfs[0]).__module__ == \"pandas.core.frame\" or isinstance(__backend_agg_dfs[0], list):\n            # pandas dataframe\n            spark.createDataFrame(__backend_agg_dfs[0]).createOrReplaceTempView(\"DatabricksView1180699\")\n        else:\n            __backend_agg_dfs[0].createOrReplaceTempView(\"DatabricksView1180699\")\n        #run backend agg\n        display(spark.sql(\"\"\"WITH q AS (select * from DatabricksView1180699) SELECT `product_name`,SUM(`product_count`) `column_65b77e0841` FROM q GROUP BY `product_name`\"\"\"))\n    else:\n        displayHTML(\"dataframe no longer exists. If you're using dataframe.display(), use display(dataframe) instead.\")\n\n\nfinally:\n    spark.sql(\"drop view if exists DatabricksView1180699\")\n    display = __backend_agg_display_orig\n    del __backend_agg_display_new\n    del __backend_agg_display_orig\n    del __backend_agg_dfs\n    del __backend_agg_user_code_fn\n\n",
       "commandTitle": "Visualization 1",
       "commandType": "auto",
       "commandVersion": 0,
       "commentThread": [],
       "commentsVisible": false,
       "contentSha256Hex": null,
       "customPlotOptions": {
        "redashChart": [
         {
          "key": "type",
          "value": "CHART"
         },
         {
          "key": "options",
          "value": {
           "alignYAxesAtZero": true,
           "coefficient": 1,
           "columnConfigurationMap": {
            "x": {
             "column": "product_name",
             "id": "column_65b77e0840"
            },
            "y": [
             {
              "column": "product_count",
              "id": "column_65b77e0841",
              "transform": "SUM"
             }
            ]
           },
           "dateTimeFormat": "DD/MM/YYYY HH:mm",
           "direction": {
            "type": "counterclockwise"
           },
           "error_y": {
            "type": "data",
            "visible": true
           },
           "globalSeriesType": "area",
           "legend": {
            "traceorder": "normal"
           },
           "missingValuesAsZero": true,
           "numberFormat": "0,0.[00000]",
           "percentFormat": "0[.]00%",
           "series": {
            "error_y": {
             "type": "data",
             "visible": true
            },
            "stacking": null
           },
           "seriesOptions": {
            "column_65b77e0841": {
             "name": "product_count",
             "type": "area",
             "yAxis": 0
            }
           },
           "showDataLabels": false,
           "sizemode": "diameter",
           "sortX": true,
           "sortY": true,
           "swappedAxes": false,
           "textFormat": "",
           "useAggregationsUi": true,
           "valuesOptions": {},
           "version": 2,
           "xAxis": {
            "labels": {
             "enabled": true
            },
            "type": "-"
           },
           "yAxis": [
            {
             "type": "-"
            },
            {
             "opposite": true,
             "type": "-"
            }
           ]
          }
         }
        ]
       },
       "datasetPreviewNameToCmdIdMap": {},
       "diffDeletes": [],
       "diffInserts": [],
       "displayType": "redashChart",
       "error": null,
       "errorDetails": null,
       "errorSummary": null,
       "errorTraceType": null,
       "finishTime": 0,
       "globalVars": {},
       "guid": "",
       "height": "auto",
       "hideCommandCode": false,
       "hideCommandResult": false,
       "iPythonMetadata": null,
       "inputWidgets": {},
       "isLockedInExamMode": false,
       "latestUser": "a user",
       "latestUserId": null,
       "listResultMetadata": null,
       "metadata": {
        "byteLimit": 2048000,
        "rowLimit": 10000
       },
       "nuid": "20c4926b-e054-48cf-b3a2-a60a35430ccc",
       "origId": 0,
       "parentHierarchy": [],
       "pivotAggregation": null,
       "pivotColumns": null,
       "position": 13.0,
       "resultDbfsErrorMessage": null,
       "resultDbfsStatus": "INLINED_IN_TREE",
       "results": null,
       "showCommandTitle": false,
       "startTime": 0,
       "state": "finished",
       "streamStates": {},
       "subcommandOptions": {
        "queryPlan": {
         "groups": [
          {
           "column": "product_name",
           "type": "column"
          }
         ],
         "selects": [
          {
           "column": "product_name",
           "type": "column"
          },
          {
           "alias": "column_65b77e0841",
           "args": [
            {
             "column": "product_count",
             "type": "column"
            }
           ],
           "function": "SUM",
           "type": "function"
          }
         ]
        }
       },
       "submitTime": 0,
       "subtype": "tableResultSubCmd.visualization",
       "tableResultIndex": 0,
       "tableResultSettingsMap": {},
       "useConsistentColors": false,
       "version": "CommandV1",
       "width": "auto",
       "workflows": [],
       "xColumns": null,
       "yColumns": null
      }
     },
     "output_type": "display_data"
    }
   ],
   "source": [
    "#TOP 5 ORDER ITEMS\n",
    "from pyspark.sql.functions import count\n",
    "\n",
    "most_df= (sales_df.join(menu_df,'product_id').groupBy('product_id','product_name').agg(count('product_id').alias('product_count')).\n",
    "          orderBy('product_count',ascending=0)\n",
    "          .drop('product_id').limit(5)\n",
    "          )\n",
    "display(most_df)"
   ]
  },
  {
   "cell_type": "code",
   "execution_count": 0,
   "metadata": {
    "application/vnd.databricks.v1+cell": {
     "cellMetadata": {
      "byteLimit": 2048000,
      "rowLimit": 10000
     },
     "inputWidgets": {},
     "nuid": "02072575-b16c-42a2-b318-8b38600b5b0e",
     "showTitle": false,
     "tableResultSettingsMap": {},
     "title": ""
    }
   },
   "outputs": [
    {
     "output_type": "display_data",
     "data": {
      "text/html": [
       "<style scoped>\n",
       "  .table-result-container {\n",
       "    max-height: 300px;\n",
       "    overflow: auto;\n",
       "  }\n",
       "  table, th, td {\n",
       "    border: 1px solid black;\n",
       "    border-collapse: collapse;\n",
       "  }\n",
       "  th, td {\n",
       "    padding: 5px;\n",
       "  }\n",
       "  th {\n",
       "    text-align: left;\n",
       "  }\n",
       "</style><div class='table-result-container'><table class='table-result'><thead style='background-color: white'><tr><th>product_name</th><th>product_count</th></tr></thead><tbody><tr><td> sandwich</td><td>48</td></tr></tbody></table></div>"
      ]
     },
     "metadata": {
      "application/vnd.databricks.v1+output": {
       "addedWidgets": {},
       "aggData": [],
       "aggError": "",
       "aggOverflow": false,
       "aggSchema": [],
       "aggSeriesLimitReached": false,
       "aggType": "",
       "arguments": {},
       "columnCustomDisplayInfos": {},
       "data": [
        [
         " sandwich",
         48
        ]
       ],
       "datasetInfos": [],
       "dbfsResultPath": null,
       "isJsonSchema": true,
       "metadata": {},
       "overflow": false,
       "plotOptions": {
        "customPlotOptions": {},
        "displayType": "table",
        "pivotAggregation": null,
        "pivotColumns": null,
        "xColumns": null,
        "yColumns": null
       },
       "removedWidgets": [],
       "schema": [
        {
         "metadata": "{}",
         "name": "product_name",
         "type": "\"string\""
        },
        {
         "metadata": "{}",
         "name": "product_count",
         "type": "\"long\""
        }
       ],
       "type": "table"
      }
     },
     "output_type": "display_data"
    }
   ],
   "source": [
    "#Top ordered items\n",
    "from pyspark.sql.functions import count\n",
    "\n",
    "most_df= (sales_df.join(menu_df,'product_id').groupBy('product_id','product_name').agg(count('product_id').alias('product_count')).\n",
    "          orderBy('product_count',ascending=0)\n",
    "          .drop('product_id').limit(1)\n",
    "          )\n",
    "display(most_df)"
   ]
  },
  {
   "cell_type": "code",
   "execution_count": 0,
   "metadata": {
    "application/vnd.databricks.v1+cell": {
     "cellMetadata": {
      "byteLimit": 2048000,
      "rowLimit": 10000
     },
     "inputWidgets": {},
     "nuid": "1430c60d-1194-4cbf-b588-b1f0913267c1",
     "showTitle": false,
     "tableResultSettingsMap": {},
     "title": ""
    }
   },
   "outputs": [
    {
     "output_type": "display_data",
     "data": {
      "text/html": [
       "<style scoped>\n",
       "  .table-result-container {\n",
       "    max-height: 300px;\n",
       "    overflow: auto;\n",
       "  }\n",
       "  table, th, td {\n",
       "    border: 1px solid black;\n",
       "    border-collapse: collapse;\n",
       "  }\n",
       "  th, td {\n",
       "    padding: 5px;\n",
       "  }\n",
       "  th {\n",
       "    text-align: left;\n",
       "  }\n",
       "</style><div class='table-result-container'><table class='table-result'><thead style='background-color: white'><tr><th>customer_id</th><th>count(order_date)</th></tr></thead><tbody><tr><td>E</td><td>5</td></tr><tr><td>B</td><td>6</td></tr><tr><td>D</td><td>1</td></tr><tr><td>C</td><td>3</td></tr><tr><td>A</td><td>6</td></tr></tbody></table></div>"
      ]
     },
     "metadata": {
      "application/vnd.databricks.v1+output": {
       "addedWidgets": {},
       "aggData": [],
       "aggError": "",
       "aggOverflow": false,
       "aggSchema": [],
       "aggSeriesLimitReached": false,
       "aggType": "",
       "arguments": {},
       "columnCustomDisplayInfos": {},
       "data": [
        [
         "E",
         5
        ],
        [
         "B",
         6
        ],
        [
         "D",
         1
        ],
        [
         "C",
         3
        ],
        [
         "A",
         6
        ]
       ],
       "datasetInfos": [],
       "dbfsResultPath": null,
       "isJsonSchema": true,
       "metadata": {},
       "overflow": false,
       "plotOptions": {
        "customPlotOptions": {},
        "displayType": "table",
        "pivotAggregation": null,
        "pivotColumns": null,
        "xColumns": null,
        "yColumns": null
       },
       "removedWidgets": [],
       "schema": [
        {
         "metadata": "{}",
         "name": "customer_id",
         "type": "\"string\""
        },
        {
         "metadata": "{}",
         "name": "count(order_date)",
         "type": "\"long\""
        }
       ],
       "type": "table"
      }
     },
     "output_type": "display_data"
    },
    {
     "output_type": "display_data",
     "data": {
      "text/plain": [
       "Databricks visualization. Run in Databricks to view."
      ]
     },
     "metadata": {
      "application/vnd.databricks.v1.subcommand+json": {
       "baseErrorDetails": null,
       "bindings": {},
       "collapsed": false,
       "command": "%python\n__backend_agg_display_orig = display\n__backend_agg_dfs = []\ndef __backend_agg_display_new(df):\n    __backend_agg_df_modules = [\"pandas.core.frame\", \"databricks.koalas.frame\", \"pyspark.sql.dataframe\", \"pyspark.pandas.frame\", \"pyspark.sql.connect.dataframe\"]\n    if (type(df).__module__ in __backend_agg_df_modules and type(df).__name__ == 'DataFrame') or isinstance(df, list):\n        __backend_agg_dfs.append(df)\n\ndisplay = __backend_agg_display_new\n\ndef __backend_agg_user_code_fn():\n    import base64\n    exec(base64.standard_b64decode(\"I0ZyZXF1ZW5jeSBvZiBjdXN0b21lciB2aXNpdGVkIFJlc3R1YXJlbnQKZnJvbSBweXNwYXJrLnNxbC5mdW5jdGlvbnMgaW1wb3J0IGNvdW50RGlzdGluY3QKCmRmPShzYWxlc19kZi5maWx0ZXIoc2FsZXNfZGYuc291cmNlX29yZGVyPT0nUmVzdGF1cmFudCcpLmdyb3VwQnkoJ2N1c3RvbWVyX2lkJykuYWdnKGNvdW50RGlzdGluY3QoJ29yZGVyX2RhdGUnKSkKCiAgICkKCmRpc3BsYXkoZGYpCg==\").decode())\n\ntry:\n    # run user code\n    __backend_agg_user_code_fn()\n\n    #reset display function\n    display = __backend_agg_display_orig\n\n    if len(__backend_agg_dfs) > 0:\n        # create a temp view\n        if type(__backend_agg_dfs[0]).__module__ == \"databricks.koalas.frame\":\n            # koalas dataframe\n            __backend_agg_dfs[0].to_spark().createOrReplaceTempView(\"DatabricksView51b1e5b\")\n        elif type(__backend_agg_dfs[0]).__module__ == \"pandas.core.frame\" or isinstance(__backend_agg_dfs[0], list):\n            # pandas dataframe\n            spark.createDataFrame(__backend_agg_dfs[0]).createOrReplaceTempView(\"DatabricksView51b1e5b\")\n        else:\n            __backend_agg_dfs[0].createOrReplaceTempView(\"DatabricksView51b1e5b\")\n        #run backend agg\n        display(spark.sql(\"\"\"WITH q AS (select * from DatabricksView51b1e5b) SELECT `customer_id`,SUM(`count(order_date)`) `column_65b77e0849` FROM q GROUP BY `customer_id`\"\"\"))\n    else:\n        displayHTML(\"dataframe no longer exists. If you're using dataframe.display(), use display(dataframe) instead.\")\n\n\nfinally:\n    spark.sql(\"drop view if exists DatabricksView51b1e5b\")\n    display = __backend_agg_display_orig\n    del __backend_agg_display_new\n    del __backend_agg_display_orig\n    del __backend_agg_dfs\n    del __backend_agg_user_code_fn\n\n",
       "commandTitle": "Visualization 1",
       "commandType": "auto",
       "commandVersion": 0,
       "commentThread": [],
       "commentsVisible": false,
       "contentSha256Hex": null,
       "customPlotOptions": {
        "redashChart": [
         {
          "key": "type",
          "value": "CHART"
         },
         {
          "key": "options",
          "value": {
           "alignYAxesAtZero": true,
           "coefficient": 1,
           "columnConfigurationMap": {
            "x": {
             "column": "customer_id",
             "id": "column_65b77e0848"
            },
            "y": [
             {
              "column": "count(order_date)",
              "id": "column_65b77e0849",
              "transform": "SUM"
             }
            ]
           },
           "dateTimeFormat": "DD/MM/YYYY HH:mm",
           "direction": {
            "type": "counterclockwise"
           },
           "error_y": {
            "type": "data",
            "visible": true
           },
           "globalSeriesType": "area",
           "legend": {
            "traceorder": "normal"
           },
           "missingValuesAsZero": true,
           "numberFormat": "0,0.[00000]",
           "percentFormat": "0[.]00%",
           "series": {
            "error_y": {
             "type": "data",
             "visible": true
            },
            "stacking": null
           },
           "seriesOptions": {
            "column_65b77e0849": {
             "name": "count(order_date)",
             "type": "area",
             "yAxis": 0
            }
           },
           "showDataLabels": false,
           "sizemode": "diameter",
           "sortX": true,
           "sortY": true,
           "swappedAxes": false,
           "textFormat": "",
           "useAggregationsUi": true,
           "valuesOptions": {},
           "version": 2,
           "xAxis": {
            "labels": {
             "enabled": true
            },
            "type": "-"
           },
           "yAxis": [
            {
             "type": "-"
            },
            {
             "opposite": true,
             "type": "-"
            }
           ]
          }
         }
        ]
       },
       "datasetPreviewNameToCmdIdMap": {},
       "diffDeletes": [],
       "diffInserts": [],
       "displayType": "redashChart",
       "error": null,
       "errorDetails": null,
       "errorSummary": null,
       "errorTraceType": null,
       "finishTime": 0,
       "globalVars": {},
       "guid": "",
       "height": "auto",
       "hideCommandCode": false,
       "hideCommandResult": false,
       "iPythonMetadata": null,
       "inputWidgets": {},
       "isLockedInExamMode": false,
       "latestUser": "a user",
       "latestUserId": null,
       "listResultMetadata": null,
       "metadata": {
        "byteLimit": 2048000,
        "rowLimit": 10000
       },
       "nuid": "69d5855e-fb68-47c6-a941-5eca13761cbc",
       "origId": 0,
       "parentHierarchy": [],
       "pivotAggregation": null,
       "pivotColumns": null,
       "position": 15.0,
       "resultDbfsErrorMessage": null,
       "resultDbfsStatus": "INLINED_IN_TREE",
       "results": null,
       "showCommandTitle": false,
       "startTime": 0,
       "state": "finished",
       "streamStates": {},
       "subcommandOptions": {
        "queryPlan": {
         "groups": [
          {
           "column": "customer_id",
           "type": "column"
          }
         ],
         "selects": [
          {
           "column": "customer_id",
           "type": "column"
          },
          {
           "alias": "column_65b77e0849",
           "args": [
            {
             "column": "count(order_date)",
             "type": "column"
            }
           ],
           "function": "SUM",
           "type": "function"
          }
         ]
        }
       },
       "submitTime": 0,
       "subtype": "tableResultSubCmd.visualization",
       "tableResultIndex": 0,
       "tableResultSettingsMap": {},
       "useConsistentColors": false,
       "version": "CommandV1",
       "width": "auto",
       "workflows": [],
       "xColumns": null,
       "yColumns": null
      }
     },
     "output_type": "display_data"
    }
   ],
   "source": [
    "#Frequency of customer visited Restuarent\n",
    "from pyspark.sql.functions import countDistinct\n",
    "\n",
    "df=(sales_df.filter(sales_df.source_order=='Restaurant').groupBy('customer_id').agg(countDistinct('order_date'))\n",
    "\n",
    "   )\n",
    "\n",
    "display(df)\n"
   ]
  },
  {
   "cell_type": "code",
   "execution_count": 0,
   "metadata": {
    "application/vnd.databricks.v1+cell": {
     "cellMetadata": {
      "byteLimit": 2048000,
      "rowLimit": 10000
     },
     "inputWidgets": {},
     "nuid": "3c88309a-ff74-4457-8371-8585d0f357bf",
     "showTitle": false,
     "tableResultSettingsMap": {},
     "title": ""
    }
   },
   "outputs": [
    {
     "output_type": "display_data",
     "data": {
      "text/html": [
       "<style scoped>\n",
       "  .table-result-container {\n",
       "    max-height: 300px;\n",
       "    overflow: auto;\n",
       "  }\n",
       "  table, th, td {\n",
       "    border: 1px solid black;\n",
       "    border-collapse: collapse;\n",
       "  }\n",
       "  th, td {\n",
       "    padding: 5px;\n",
       "  }\n",
       "  th {\n",
       "    text-align: left;\n",
       "  }\n",
       "</style><div class='table-result-container'><table class='table-result'><thead style='background-color: white'><tr><th>location</th><th>sum(price)</th></tr></thead><tbody><tr><td>India</td><td>4860.0</td></tr><tr><td>USA</td><td>2460.0</td></tr><tr><td>UK</td><td>7020.0</td></tr></tbody></table></div>"
      ]
     },
     "metadata": {
      "application/vnd.databricks.v1+output": {
       "addedWidgets": {},
       "aggData": [],
       "aggError": "",
       "aggOverflow": false,
       "aggSchema": [],
       "aggSeriesLimitReached": false,
       "aggType": "",
       "arguments": {},
       "columnCustomDisplayInfos": {},
       "data": [
        [
         "India",
         4860.0
        ],
        [
         "USA",
         2460.0
        ],
        [
         "UK",
         7020.0
        ]
       ],
       "datasetInfos": [],
       "dbfsResultPath": null,
       "isJsonSchema": true,
       "metadata": {},
       "overflow": false,
       "plotOptions": {
        "customPlotOptions": {},
        "displayType": "table",
        "pivotAggregation": null,
        "pivotColumns": null,
        "xColumns": null,
        "yColumns": null
       },
       "removedWidgets": [],
       "schema": [
        {
         "metadata": "{}",
         "name": "location",
         "type": "\"string\""
        },
        {
         "metadata": "{}",
         "name": "sum(price)",
         "type": "\"double\""
        }
       ],
       "type": "table"
      }
     },
     "output_type": "display_data"
    }
   ],
   "source": [
    "#Total sales by each country \n",
    "\n",
    "total_amount_spent = (sales_df.join(menu_df,'product_id').groupBy('location').agg({'price': 'sum'})\n",
    "                     ) \n",
    "display(total_amount_spent)  \n"
   ]
  },
  {
   "cell_type": "code",
   "execution_count": 0,
   "metadata": {
    "application/vnd.databricks.v1+cell": {
     "cellMetadata": {
      "byteLimit": 2048000,
      "rowLimit": 10000
     },
     "inputWidgets": {},
     "nuid": "f684bcdc-de52-4adb-ac49-6422b367f170",
     "showTitle": false,
     "tableResultSettingsMap": {},
     "title": ""
    }
   },
   "outputs": [
    {
     "output_type": "display_data",
     "data": {
      "text/html": [
       "<style scoped>\n",
       "  .table-result-container {\n",
       "    max-height: 300px;\n",
       "    overflow: auto;\n",
       "  }\n",
       "  table, th, td {\n",
       "    border: 1px solid black;\n",
       "    border-collapse: collapse;\n",
       "  }\n",
       "  th, td {\n",
       "    padding: 5px;\n",
       "  }\n",
       "  th {\n",
       "    text-align: left;\n",
       "  }\n",
       "</style><div class='table-result-container'><table class='table-result'><thead style='background-color: white'><tr><th>source_order</th><th>sum(price)</th></tr></thead><tbody><tr><td>zomato</td><td>4920.0</td></tr><tr><td>Swiggy</td><td>6330.0</td></tr><tr><td>Restaurant</td><td>3090.0</td></tr></tbody></table></div>"
      ]
     },
     "metadata": {
      "application/vnd.databricks.v1+output": {
       "addedWidgets": {},
       "aggData": [],
       "aggError": "",
       "aggOverflow": false,
       "aggSchema": [],
       "aggSeriesLimitReached": false,
       "aggType": "",
       "arguments": {},
       "columnCustomDisplayInfos": {},
       "data": [
        [
         "zomato",
         4920.0
        ],
        [
         "Swiggy",
         6330.0
        ],
        [
         "Restaurant",
         3090.0
        ]
       ],
       "datasetInfos": [],
       "dbfsResultPath": null,
       "isJsonSchema": true,
       "metadata": {},
       "overflow": false,
       "plotOptions": {
        "customPlotOptions": {},
        "displayType": "table",
        "pivotAggregation": null,
        "pivotColumns": null,
        "xColumns": null,
        "yColumns": null
       },
       "removedWidgets": [],
       "schema": [
        {
         "metadata": "{}",
         "name": "source_order",
         "type": "\"string\""
        },
        {
         "metadata": "{}",
         "name": "sum(price)",
         "type": "\"double\""
        }
       ],
       "type": "table"
      }
     },
     "output_type": "display_data"
    }
   ],
   "source": [
    "#Total sales by order_source \n",
    "total_amount_spent = (sales_df.join(menu_df,'product_id').groupBy('source_order').agg({'price': 'sum'})\n",
    "                     ) \n",
    "display(total_amount_spent) "
   ]
  }
 ],
 "metadata": {
  "application/vnd.databricks.v1+notebook": {
   "computePreferences": null,
   "dashboards": [
    {
     "elements": [
      {
       "dashboardResultIndex": null,
       "elementNUID": "2016bfc9-a014-42bb-922f-76cd5fcc1e16",
       "elementType": "command",
       "guid": "0d1b9195-e27f-4cdc-926f-5400010cd1fa",
       "options": null,
       "position": {
        "height": 6,
        "width": 12,
        "x": 0,
        "y": 42,
        "z": null
       },
       "resultIndex": null
      },
      {
       "dashboardResultIndex": 0,
       "elementNUID": "02072575-b16c-42a2-b318-8b38600b5b0e",
       "elementType": "command",
       "guid": "1cbec500-5ce2-43d1-b7c9-5e98aa8e4203",
       "options": {
        "autoScaleImg": false,
        "scale": 0,
        "showTitle": true,
        "title": "Top product",
        "titleAlign": "center"
       },
       "position": {
        "height": 6,
        "width": 12,
        "x": 0,
        "y": 102,
        "z": null
       },
       "resultIndex": null
      },
      {
       "dashboardResultIndex": null,
       "elementNUID": "371c68c2-e988-4cfe-9dd2-a58f9fccaba8",
       "elementType": "command",
       "guid": "1f365c8c-0962-4810-b240-fd5daab5b356",
       "options": null,
       "position": {
        "height": 6,
        "width": 12,
        "x": 0,
        "y": 84,
        "z": null
       },
       "resultIndex": null
      },
      {
       "dashboardResultIndex": 0,
       "elementNUID": "34befe8d-f47c-42ea-89b6-806189ac327e",
       "elementType": "command",
       "guid": "1fc8c282-acbb-44b6-8b5c-d33e50b8ee67",
       "options": {
        "autoScaleImg": false,
        "scale": 0,
        "showTitle": false,
        "title": "Yearly sales",
        "titleAlign": "center"
       },
       "position": {
        "height": 6,
        "width": 12,
        "x": 0,
        "y": 18,
        "z": null
       },
       "resultIndex": null
      },
      {
       "dashboardResultIndex": 0,
       "elementNUID": "f5c9d6bc-99fa-4ee0-9857-02069af1b6ca",
       "elementType": "command",
       "guid": "239381cf-c32c-4250-8bbf-f878af6278c9",
       "options": {
        "autoScaleImg": false,
        "scale": 0,
        "showTitle": false,
        "title": "Monthly sales",
        "titleAlign": "center"
       },
       "position": {
        "height": 6,
        "width": 12,
        "x": 0,
        "y": 12,
        "z": null
       },
       "resultIndex": null
      },
      {
       "dashboardResultIndex": 0,
       "elementNUID": "3c88309a-ff74-4457-8371-8585d0f357bf",
       "elementType": "command",
       "guid": "28f85610-6b39-45c6-86fa-42ab7c05491c",
       "options": {
        "autoScaleImg": false,
        "scale": 0,
        "showTitle": true,
        "title": "Top sales of each country",
        "titleAlign": "center"
       },
       "position": {
        "height": 6,
        "width": 12,
        "x": 0,
        "y": 120,
        "z": null
       },
       "resultIndex": null
      },
      {
       "dashboardResultIndex": null,
       "elementNUID": "20c4926b-e054-48cf-b3a2-a60a35430ccc",
       "elementType": "command",
       "guid": "2ef71d23-7908-4e91-9190-515753bd14cd",
       "options": null,
       "position": {
        "height": 6,
        "width": 12,
        "x": 0,
        "y": 96,
        "z": null
       },
       "resultIndex": null
      },
      {
       "dashboardResultIndex": 0,
       "elementNUID": "1430c60d-1194-4cbf-b588-b1f0913267c1",
       "elementType": "command",
       "guid": "3306dc50-b76e-4aa5-8bc2-31ba875b8d27",
       "options": {
        "autoScaleImg": false,
        "scale": 0,
        "showTitle": true,
        "title": "frequenct of customer visited",
        "titleAlign": "center"
       },
       "position": {
        "height": 6,
        "width": 12,
        "x": 0,
        "y": 108,
        "z": null
       },
       "resultIndex": null
      },
      {
       "dashboardResultIndex": 0,
       "elementNUID": "0e13a16e-5247-49a2-8baf-9323c73c54cd",
       "elementType": "command",
       "guid": "51a23337-62c3-479f-8cba-4bde6e2df8aa",
       "options": {
        "autoScaleImg": false,
        "scale": 0,
        "showTitle": false,
        "title": "Total amount spent by each customer",
        "titleAlign": "center"
       },
       "position": {
        "height": 6,
        "width": 12,
        "x": 0,
        "y": 0,
        "z": null
       },
       "resultIndex": null
      },
      {
       "dashboardResultIndex": 0,
       "elementNUID": "d68d69ba-4acf-43be-b114-21967bf4df51",
       "elementType": "command",
       "guid": "606282ad-8188-4b25-a5e7-f222b2adfb6f",
       "options": {
        "autoScaleImg": false,
        "scale": 0,
        "showTitle": true,
        "title": "Yearly sales",
        "titleAlign": "center"
       },
       "position": {
        "height": 6,
        "width": 12,
        "x": 0,
        "y": 60,
        "z": null
       },
       "resultIndex": null
      },
      {
       "dashboardResultIndex": 0,
       "elementNUID": "cb0c432f-eb5f-4a0b-ab7d-075ca414e0a3",
       "elementType": "command",
       "guid": "6599fc8b-be59-446e-a0d9-242b1c47d8ce",
       "options": {
        "autoScaleImg": false,
        "scale": 0,
        "showTitle": true,
        "title": "Total amount spent by each food category",
        "titleAlign": "center"
       },
       "position": {
        "height": 6,
        "width": 12,
        "x": 0,
        "y": 36,
        "z": null
       },
       "resultIndex": null
      },
      {
       "dashboardResultIndex": 0,
       "elementNUID": "f91d68bc-33c1-4909-8cef-dfcd51425d2a",
       "elementType": "command",
       "guid": "780f7d6d-fafa-47dd-b4ba-15c0a4f8dfa8",
       "options": {
        "autoScaleImg": false,
        "scale": 0,
        "showTitle": false,
        "title": "Total amount spent by each food category",
        "titleAlign": "center"
       },
       "position": {
        "height": 6,
        "width": 12,
        "x": 0,
        "y": 6,
        "z": null
       },
       "resultIndex": null
      },
      {
       "dashboardResultIndex": null,
       "elementNUID": "116482e0-b860-47c7-aa92-93df490065f6",
       "elementType": "command",
       "guid": "7d9e05eb-43b4-4781-99db-94d8ea50cf89",
       "options": null,
       "position": {
        "height": 6,
        "width": 12,
        "x": 0,
        "y": 72,
        "z": null
       },
       "resultIndex": null
      },
      {
       "dashboardResultIndex": 0,
       "elementNUID": "8a1afda0-6771-4663-b11e-d508daed0fe5",
       "elementType": "command",
       "guid": "831edee6-97e2-465f-b171-f403669b39ca",
       "options": {
        "autoScaleImg": false,
        "scale": 0,
        "showTitle": true,
        "title": "Top ordered items",
        "titleAlign": "center"
       },
       "position": {
        "height": 6,
        "width": 12,
        "x": 0,
        "y": 78,
        "z": null
       },
       "resultIndex": null
      },
      {
       "dashboardResultIndex": null,
       "elementNUID": "5fe62e00-352d-4158-98b1-9e9e78fbc8b1",
       "elementType": "command",
       "guid": "8786e835-6b4c-4b18-9913-cf9158903609",
       "options": null,
       "position": {
        "height": 6,
        "width": 12,
        "x": 0,
        "y": 54,
        "z": null
       },
       "resultIndex": null
      },
      {
       "dashboardResultIndex": 0,
       "elementNUID": "f684bcdc-de52-4adb-ac49-6422b367f170",
       "elementType": "command",
       "guid": "95dd3fc5-1c9f-4abd-879e-4aa9e79844ce",
       "options": {
        "autoScaleImg": false,
        "scale": 0,
        "showTitle": true,
        "title": "Total sales by source",
        "titleAlign": "center"
       },
       "position": {
        "height": 6,
        "width": 12,
        "x": 0,
        "y": 126,
        "z": null
       },
       "resultIndex": null
      },
      {
       "dashboardResultIndex": 0,
       "elementNUID": "ca0b0091-339d-4704-9921-7fd492a831b6",
       "elementType": "command",
       "guid": "a19cf7ab-8e16-4946-9dd9-1a19ba722fcd",
       "options": {
        "autoScaleImg": false,
        "scale": 0,
        "showTitle": true,
        "title": "quaterly sales",
        "titleAlign": "center"
       },
       "position": {
        "height": 6,
        "width": 12,
        "x": 0,
        "y": 66,
        "z": null
       },
       "resultIndex": null
      },
      {
       "dashboardResultIndex": 0,
       "elementNUID": "3b7f52a8-6dda-4fc2-9442-046ddb643b05",
       "elementType": "command",
       "guid": "a4346bf5-66a2-42ef-8d69-bb8efbc4aa46",
       "options": {
        "autoScaleImg": false,
        "scale": 0,
        "showTitle": true,
        "title": "Total amount spent by each customer",
        "titleAlign": "center"
       },
       "position": {
        "height": 6,
        "width": 12,
        "x": 0,
        "y": 24,
        "z": null
       },
       "resultIndex": null
      },
      {
       "dashboardResultIndex": 0,
       "elementNUID": "1e3d0da4-1d13-4e3f-bb53-b7912c3eec0d",
       "elementType": "command",
       "guid": "b0e9e75b-3e11-403e-a8df-922b254870fd",
       "options": {
        "autoScaleImg": false,
        "scale": 0,
        "showTitle": true,
        "title": "Top 5 ordered items",
        "titleAlign": "center"
       },
       "position": {
        "height": 6,
        "width": 12,
        "x": 0,
        "y": 90,
        "z": null
       },
       "resultIndex": null
      },
      {
       "dashboardResultIndex": null,
       "elementNUID": "12aeaf7d-7860-40f2-9206-86d996374561",
       "elementType": "command",
       "guid": "b3a729ed-914b-4b0e-a64d-afb04466ec0a",
       "options": {
        "autoScaleImg": false,
        "scale": 0,
        "showTitle": false,
        "titleAlign": "center"
       },
       "position": {
        "height": 6,
        "width": 12,
        "x": 0,
        "y": 30,
        "z": null
       },
       "resultIndex": null
      },
      {
       "dashboardResultIndex": 0,
       "elementNUID": "0cbe1e54-2abb-4a9f-a75a-e0eede12e1f2",
       "elementType": "command",
       "guid": "ba04eab9-1d35-4d5b-a18f-8a719b7d3ece",
       "options": {
        "autoScaleImg": false,
        "scale": 0,
        "showTitle": true,
        "title": "Monthly sales",
        "titleAlign": "center"
       },
       "position": {
        "height": 6,
        "width": 12,
        "x": 0,
        "y": 48,
        "z": null
       },
       "resultIndex": null
      },
      {
       "dashboardResultIndex": null,
       "elementNUID": "69d5855e-fb68-47c6-a941-5eca13761cbc",
       "elementType": "command",
       "guid": "da6fa0b1-48df-4733-ad5f-6f6a796f5f09",
       "options": null,
       "position": {
        "height": 6,
        "width": 12,
        "x": 0,
        "y": 114,
        "z": null
       },
       "resultIndex": null
      }
     ],
     "globalVars": {},
     "guid": "",
     "layoutOption": {
      "grid": true,
      "stack": true
     },
     "nuid": "409badf5-e946-4610-9a3f-36a3f7cd6879",
     "origId": 2803127883492798,
     "title": "sales analysis",
     "version": "DashboardViewV1",
     "width": 1024
    },
    {
     "elements": [
      {
       "dashboardResultIndex": 0,
       "elementNUID": "d68d69ba-4acf-43be-b114-21967bf4df51",
       "elementType": "command",
       "guid": "04bce8dd-e109-42ac-9268-5a81496d32d8",
       "options": null,
       "position": {
        "height": 6,
        "width": 12,
        "x": 0,
        "y": 60,
        "z": null
       },
       "resultIndex": null
      },
      {
       "dashboardResultIndex": 0,
       "elementNUID": "1e3d0da4-1d13-4e3f-bb53-b7912c3eec0d",
       "elementType": "command",
       "guid": "0ae3f098-e0e9-4284-9b8d-63eef4f0d939",
       "options": null,
       "position": {
        "height": 6,
        "width": 12,
        "x": 0,
        "y": 90,
        "z": null
       },
       "resultIndex": null
      },
      {
       "dashboardResultIndex": 0,
       "elementNUID": "ca0b0091-339d-4704-9921-7fd492a831b6",
       "elementType": "command",
       "guid": "1860fa1b-ebfc-44b2-a6e5-5af5259598f8",
       "options": null,
       "position": {
        "height": 6,
        "width": 12,
        "x": 0,
        "y": 66,
        "z": null
       },
       "resultIndex": null
      },
      {
       "dashboardResultIndex": 0,
       "elementNUID": "0cbe1e54-2abb-4a9f-a75a-e0eede12e1f2",
       "elementType": "command",
       "guid": "1b9b48b3-bb77-4d97-849d-b01a5f3cf7c2",
       "options": null,
       "position": {
        "height": 6,
        "width": 12,
        "x": 0,
        "y": 48,
        "z": null
       },
       "resultIndex": null
      },
      {
       "dashboardResultIndex": 0,
       "elementNUID": "f5c9d6bc-99fa-4ee0-9857-02069af1b6ca",
       "elementType": "command",
       "guid": "22ee0b2f-bb38-4055-82a6-4e5aa80fc26a",
       "options": null,
       "position": {
        "height": 6,
        "width": 12,
        "x": 0,
        "y": 12,
        "z": null
       },
       "resultIndex": null
      },
      {
       "dashboardResultIndex": 0,
       "elementNUID": "3b7f52a8-6dda-4fc2-9442-046ddb643b05",
       "elementType": "command",
       "guid": "22f6de28-e75a-49f7-a053-6bd308badfa8",
       "options": null,
       "position": {
        "height": 6,
        "width": 12,
        "x": 0,
        "y": 24,
        "z": null
       },
       "resultIndex": null
      },
      {
       "dashboardResultIndex": null,
       "elementNUID": "116482e0-b860-47c7-aa92-93df490065f6",
       "elementType": "command",
       "guid": "26f98810-0c9b-441f-8107-1996cf3a2abd",
       "options": null,
       "position": {
        "height": 6,
        "width": 12,
        "x": 0,
        "y": 72,
        "z": null
       },
       "resultIndex": null
      },
      {
       "dashboardResultIndex": 0,
       "elementNUID": "0e13a16e-5247-49a2-8baf-9323c73c54cd",
       "elementType": "command",
       "guid": "3b5997d4-9929-4e50-80fc-21ca671548fc",
       "options": null,
       "position": {
        "height": 6,
        "width": 12,
        "x": 0,
        "y": 0,
        "z": null
       },
       "resultIndex": null
      },
      {
       "dashboardResultIndex": 0,
       "elementNUID": "34befe8d-f47c-42ea-89b6-806189ac327e",
       "elementType": "command",
       "guid": "3cd3aaf2-0eba-45bd-9459-a32ce44bd58e",
       "options": null,
       "position": {
        "height": 6,
        "width": 12,
        "x": 0,
        "y": 18,
        "z": null
       },
       "resultIndex": null
      },
      {
       "dashboardResultIndex": 0,
       "elementNUID": "8a1afda0-6771-4663-b11e-d508daed0fe5",
       "elementType": "command",
       "guid": "3fed82a4-ee97-4103-b867-eb29895f2225",
       "options": null,
       "position": {
        "height": 6,
        "width": 12,
        "x": 0,
        "y": 78,
        "z": null
       },
       "resultIndex": null
      },
      {
       "dashboardResultIndex": 0,
       "elementNUID": "3c88309a-ff74-4457-8371-8585d0f357bf",
       "elementType": "command",
       "guid": "5561a0fe-5fde-4def-878d-7ae014dbd3a0",
       "options": null,
       "position": {
        "height": 6,
        "width": 12,
        "x": 0,
        "y": 120,
        "z": null
       },
       "resultIndex": null
      },
      {
       "dashboardResultIndex": 0,
       "elementNUID": "f91d68bc-33c1-4909-8cef-dfcd51425d2a",
       "elementType": "command",
       "guid": "5d342592-db06-40f4-98ac-ed72c681d25a",
       "options": null,
       "position": {
        "height": 6,
        "width": 12,
        "x": 0,
        "y": 6,
        "z": null
       },
       "resultIndex": null
      },
      {
       "dashboardResultIndex": null,
       "elementNUID": "2016bfc9-a014-42bb-922f-76cd5fcc1e16",
       "elementType": "command",
       "guid": "8cb4353d-8b77-4de4-bc4c-f88cb398a2f6",
       "options": null,
       "position": {
        "height": 6,
        "width": 12,
        "x": 0,
        "y": 42,
        "z": null
       },
       "resultIndex": null
      },
      {
       "dashboardResultIndex": null,
       "elementNUID": "371c68c2-e988-4cfe-9dd2-a58f9fccaba8",
       "elementType": "command",
       "guid": "903159af-a618-4562-a45d-61315bfe901c",
       "options": null,
       "position": {
        "height": 6,
        "width": 12,
        "x": 0,
        "y": 84,
        "z": null
       },
       "resultIndex": null
      },
      {
       "dashboardResultIndex": null,
       "elementNUID": "20c4926b-e054-48cf-b3a2-a60a35430ccc",
       "elementType": "command",
       "guid": "a967fd18-ed6b-4eec-bad2-7186f0fb492d",
       "options": null,
       "position": {
        "height": 6,
        "width": 12,
        "x": 0,
        "y": 96,
        "z": null
       },
       "resultIndex": null
      },
      {
       "dashboardResultIndex": 0,
       "elementNUID": "1430c60d-1194-4cbf-b588-b1f0913267c1",
       "elementType": "command",
       "guid": "abecd448-7022-4e49-83c6-3dedbce030f2",
       "options": null,
       "position": {
        "height": 6,
        "width": 12,
        "x": 0,
        "y": 108,
        "z": null
       },
       "resultIndex": null
      },
      {
       "dashboardResultIndex": 0,
       "elementNUID": "f684bcdc-de52-4adb-ac49-6422b367f170",
       "elementType": "command",
       "guid": "b95a9df0-63ad-40f8-beb5-2531ee34ff97",
       "options": null,
       "position": {
        "height": 6,
        "width": 12,
        "x": 0,
        "y": 126,
        "z": null
       },
       "resultIndex": null
      },
      {
       "dashboardResultIndex": 0,
       "elementNUID": "02072575-b16c-42a2-b318-8b38600b5b0e",
       "elementType": "command",
       "guid": "beb5e82e-a7fd-48a0-b227-5ec438f927a1",
       "options": null,
       "position": {
        "height": 6,
        "width": 12,
        "x": 0,
        "y": 102,
        "z": null
       },
       "resultIndex": null
      },
      {
       "dashboardResultIndex": null,
       "elementNUID": "69d5855e-fb68-47c6-a941-5eca13761cbc",
       "elementType": "command",
       "guid": "c1189e62-ec12-4bcc-84f0-ddee137eaad3",
       "options": null,
       "position": {
        "height": 6,
        "width": 12,
        "x": 0,
        "y": 114,
        "z": null
       },
       "resultIndex": null
      },
      {
       "dashboardResultIndex": 0,
       "elementNUID": "cb0c432f-eb5f-4a0b-ab7d-075ca414e0a3",
       "elementType": "command",
       "guid": "ddc260b6-6796-426d-8fdf-f819a9f68f48",
       "options": null,
       "position": {
        "height": 6,
        "width": 12,
        "x": 0,
        "y": 36,
        "z": null
       },
       "resultIndex": null
      },
      {
       "dashboardResultIndex": null,
       "elementNUID": "12aeaf7d-7860-40f2-9206-86d996374561",
       "elementType": "command",
       "guid": "ec8b3b6f-a0d4-46a4-8b2b-c1b69ace95ee",
       "options": null,
       "position": {
        "height": 6,
        "width": 12,
        "x": 0,
        "y": 30,
        "z": null
       },
       "resultIndex": null
      },
      {
       "dashboardResultIndex": null,
       "elementNUID": "5fe62e00-352d-4158-98b1-9e9e78fbc8b1",
       "elementType": "command",
       "guid": "f1b13b22-e8f4-4cad-9f79-241747828191",
       "options": null,
       "position": {
        "height": 6,
        "width": 12,
        "x": 0,
        "y": 54,
        "z": null
       },
       "resultIndex": null
      }
     ],
     "globalVars": {},
     "guid": "",
     "layoutOption": {
      "grid": true,
      "stack": true
     },
     "nuid": "948eded5-abfe-4dca-8cc1-788dea26342e",
     "origId": 2803127883492799,
     "title": "Untitled",
     "version": "DashboardViewV1",
     "width": 1024
    },
    {
     "elements": [
      {
       "dashboardResultIndex": 0,
       "elementNUID": "f684bcdc-de52-4adb-ac49-6422b367f170",
       "elementType": "command",
       "guid": "02f139b2-69bb-4276-b6af-84082d560f4b",
       "options": null,
       "position": {
        "height": 6,
        "width": 12,
        "x": 0,
        "y": 126,
        "z": null
       },
       "resultIndex": null
      },
      {
       "dashboardResultIndex": 0,
       "elementNUID": "ca0b0091-339d-4704-9921-7fd492a831b6",
       "elementType": "command",
       "guid": "0c356b73-f259-4a6b-ac27-b3a291e20e7e",
       "options": null,
       "position": {
        "height": 6,
        "width": 12,
        "x": 0,
        "y": 66,
        "z": null
       },
       "resultIndex": null
      },
      {
       "dashboardResultIndex": 0,
       "elementNUID": "0e13a16e-5247-49a2-8baf-9323c73c54cd",
       "elementType": "command",
       "guid": "15dc569c-af2a-49a3-9e19-a1fca5acdbe7",
       "options": null,
       "position": {
        "height": 6,
        "width": 12,
        "x": 0,
        "y": 0,
        "z": null
       },
       "resultIndex": null
      },
      {
       "dashboardResultIndex": null,
       "elementNUID": "116482e0-b860-47c7-aa92-93df490065f6",
       "elementType": "command",
       "guid": "1da2fa10-d0ec-4251-88e3-163cb1953fb6",
       "options": null,
       "position": {
        "height": 6,
        "width": 12,
        "x": 0,
        "y": 72,
        "z": null
       },
       "resultIndex": null
      },
      {
       "dashboardResultIndex": 0,
       "elementNUID": "1430c60d-1194-4cbf-b588-b1f0913267c1",
       "elementType": "command",
       "guid": "1f171fac-b37f-451b-908b-a02c737b5712",
       "options": null,
       "position": {
        "height": 6,
        "width": 12,
        "x": 0,
        "y": 108,
        "z": null
       },
       "resultIndex": null
      },
      {
       "dashboardResultIndex": null,
       "elementNUID": "371c68c2-e988-4cfe-9dd2-a58f9fccaba8",
       "elementType": "command",
       "guid": "3699b938-c05a-4f82-a1ef-4c6553de9346",
       "options": null,
       "position": {
        "height": 6,
        "width": 12,
        "x": 0,
        "y": 84,
        "z": null
       },
       "resultIndex": null
      },
      {
       "dashboardResultIndex": null,
       "elementNUID": "5fe62e00-352d-4158-98b1-9e9e78fbc8b1",
       "elementType": "command",
       "guid": "3e2bb2ab-03ad-4d6d-8869-239e07edde63",
       "options": null,
       "position": {
        "height": 6,
        "width": 12,
        "x": 0,
        "y": 54,
        "z": null
       },
       "resultIndex": null
      },
      {
       "dashboardResultIndex": 0,
       "elementNUID": "3b7f52a8-6dda-4fc2-9442-046ddb643b05",
       "elementType": "command",
       "guid": "40bbeff7-f25d-40ed-b1d1-ef10020625e4",
       "options": null,
       "position": {
        "height": 6,
        "width": 12,
        "x": 0,
        "y": 24,
        "z": null
       },
       "resultIndex": null
      },
      {
       "dashboardResultIndex": null,
       "elementNUID": "20c4926b-e054-48cf-b3a2-a60a35430ccc",
       "elementType": "command",
       "guid": "42b05114-5cf9-4e98-8f02-7e933a027320",
       "options": null,
       "position": {
        "height": 6,
        "width": 12,
        "x": 0,
        "y": 96,
        "z": null
       },
       "resultIndex": null
      },
      {
       "dashboardResultIndex": null,
       "elementNUID": "69d5855e-fb68-47c6-a941-5eca13761cbc",
       "elementType": "command",
       "guid": "4611dbdc-929b-458f-a05d-126c0fbd07d1",
       "options": null,
       "position": {
        "height": 6,
        "width": 12,
        "x": 0,
        "y": 114,
        "z": null
       },
       "resultIndex": null
      },
      {
       "dashboardResultIndex": 0,
       "elementNUID": "d68d69ba-4acf-43be-b114-21967bf4df51",
       "elementType": "command",
       "guid": "461e79d8-e52e-46f0-892d-d0cf6b757f9e",
       "options": null,
       "position": {
        "height": 6,
        "width": 12,
        "x": 0,
        "y": 60,
        "z": null
       },
       "resultIndex": null
      },
      {
       "dashboardResultIndex": 0,
       "elementNUID": "0cbe1e54-2abb-4a9f-a75a-e0eede12e1f2",
       "elementType": "command",
       "guid": "5147adea-b976-4754-afea-99c57eb40b01",
       "options": null,
       "position": {
        "height": 6,
        "width": 12,
        "x": 0,
        "y": 48,
        "z": null
       },
       "resultIndex": null
      },
      {
       "dashboardResultIndex": null,
       "elementNUID": "12aeaf7d-7860-40f2-9206-86d996374561",
       "elementType": "command",
       "guid": "6e6276a9-cc8c-4871-854b-39c31b10733b",
       "options": null,
       "position": {
        "height": 6,
        "width": 12,
        "x": 0,
        "y": 30,
        "z": null
       },
       "resultIndex": null
      },
      {
       "dashboardResultIndex": 0,
       "elementNUID": "cb0c432f-eb5f-4a0b-ab7d-075ca414e0a3",
       "elementType": "command",
       "guid": "6f7e7212-619e-4ec4-b434-773f6c0ac59e",
       "options": null,
       "position": {
        "height": 6,
        "width": 12,
        "x": 0,
        "y": 36,
        "z": null
       },
       "resultIndex": null
      },
      {
       "dashboardResultIndex": 0,
       "elementNUID": "f91d68bc-33c1-4909-8cef-dfcd51425d2a",
       "elementType": "command",
       "guid": "70c476db-f6de-40c3-994d-9efa1fb050ca",
       "options": null,
       "position": {
        "height": 6,
        "width": 12,
        "x": 0,
        "y": 6,
        "z": null
       },
       "resultIndex": null
      },
      {
       "dashboardResultIndex": 0,
       "elementNUID": "8a1afda0-6771-4663-b11e-d508daed0fe5",
       "elementType": "command",
       "guid": "9c64e937-7cdb-4529-ada0-0c16e61c9a55",
       "options": null,
       "position": {
        "height": 6,
        "width": 12,
        "x": 0,
        "y": 78,
        "z": null
       },
       "resultIndex": null
      },
      {
       "dashboardResultIndex": 0,
       "elementNUID": "34befe8d-f47c-42ea-89b6-806189ac327e",
       "elementType": "command",
       "guid": "ba3c008f-760e-4dca-b992-b9a7ed8738bb",
       "options": null,
       "position": {
        "height": 6,
        "width": 12,
        "x": 0,
        "y": 18,
        "z": null
       },
       "resultIndex": null
      },
      {
       "dashboardResultIndex": 0,
       "elementNUID": "3c88309a-ff74-4457-8371-8585d0f357bf",
       "elementType": "command",
       "guid": "c05c5156-3707-4c7c-81be-1a4fd9799b10",
       "options": null,
       "position": {
        "height": 6,
        "width": 12,
        "x": 0,
        "y": 120,
        "z": null
       },
       "resultIndex": null
      },
      {
       "dashboardResultIndex": 0,
       "elementNUID": "1e3d0da4-1d13-4e3f-bb53-b7912c3eec0d",
       "elementType": "command",
       "guid": "d491edd6-eec4-4936-9050-333cd7b30c81",
       "options": null,
       "position": {
        "height": 6,
        "width": 12,
        "x": 0,
        "y": 90,
        "z": null
       },
       "resultIndex": null
      },
      {
       "dashboardResultIndex": null,
       "elementNUID": "2016bfc9-a014-42bb-922f-76cd5fcc1e16",
       "elementType": "command",
       "guid": "e6ed3c1d-4571-4545-b317-5c13382f14c0",
       "options": null,
       "position": {
        "height": 6,
        "width": 12,
        "x": 0,
        "y": 42,
        "z": null
       },
       "resultIndex": null
      },
      {
       "dashboardResultIndex": 0,
       "elementNUID": "f5c9d6bc-99fa-4ee0-9857-02069af1b6ca",
       "elementType": "command",
       "guid": "f63583e2-6a0e-49c4-8f97-f4379cb00d1f",
       "options": null,
       "position": {
        "height": 6,
        "width": 12,
        "x": 0,
        "y": 12,
        "z": null
       },
       "resultIndex": null
      },
      {
       "dashboardResultIndex": 0,
       "elementNUID": "02072575-b16c-42a2-b318-8b38600b5b0e",
       "elementType": "command",
       "guid": "f6f2a74b-0035-4fcf-8131-1ff00bdefeba",
       "options": null,
       "position": {
        "height": 6,
        "width": 12,
        "x": 0,
        "y": 102,
        "z": null
       },
       "resultIndex": null
      }
     ],
     "globalVars": {},
     "guid": "",
     "layoutOption": {
      "grid": true,
      "stack": true
     },
     "nuid": "8135be00-7574-4264-b94b-3bb3ba40bbf8",
     "origId": 2803127883492800,
     "title": "Untitled",
     "version": "DashboardViewV1",
     "width": 1024
    }
   ],
   "environmentMetadata": {
    "base_environment": "",
    "client": "1"
   },
   "language": "python",
   "notebookMetadata": {
    "pythonIndentUnit": 4
   },
   "notebookName": "pyspark project sales analysis",
   "widgets": {}
  }
 },
 "nbformat": 4,
 "nbformat_minor": 0
}
